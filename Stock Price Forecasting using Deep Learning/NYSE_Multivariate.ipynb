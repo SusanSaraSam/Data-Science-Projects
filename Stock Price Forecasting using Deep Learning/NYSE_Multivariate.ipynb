{
 "cells": [
  {
   "cell_type": "code",
   "execution_count": 1,
   "metadata": {},
   "outputs": [],
   "source": [
    "import numpy as np\n",
    "import pandas as pd\n",
    "import matplotlib.pyplot as plt\n",
    "from sklearn.preprocessing import MinMaxScaler\n",
    "from tensorflow.keras.models import Sequential\n",
    "from tensorflow.keras.layers import Dense, LSTM, Dropout, GRU\n",
    "from tensorflow.keras.layers import Activation, Flatten, Dropout, TimeDistributed, Bidirectional\n",
    "from tensorflow.keras.callbacks import ModelCheckpoint, EarlyStopping\n",
    "from tensorflow.keras.optimizers import Adam, SGD\n",
    "from tensorflow.keras.layers import Conv1D, Conv2D, MaxPooling2D, MaxPooling1D\n",
    "from sklearn.metrics import mean_squared_error\n",
    "import tensorflow as tf\n",
    "tf.keras.regularizers.l2(l=0.01)\n",
    "tf.keras.regularizers.l1(l=0.01)\n",
    "%matplotlib inline\n",
    "np.random.seed(45)"
   ]
  },
  {
   "cell_type": "code",
   "execution_count": 57,
   "metadata": {},
   "outputs": [
    {
     "data": {
      "text/html": [
       "<div>\n",
       "<style scoped>\n",
       "    .dataframe tbody tr th:only-of-type {\n",
       "        vertical-align: middle;\n",
       "    }\n",
       "\n",
       "    .dataframe tbody tr th {\n",
       "        vertical-align: top;\n",
       "    }\n",
       "\n",
       "    .dataframe thead th {\n",
       "        text-align: right;\n",
       "    }\n",
       "</style>\n",
       "<table border=\"1\" class=\"dataframe\">\n",
       "  <thead>\n",
       "    <tr style=\"text-align: right;\">\n",
       "      <th></th>\n",
       "      <th>Date</th>\n",
       "      <th>Open</th>\n",
       "      <th>High</th>\n",
       "      <th>Low</th>\n",
       "      <th>Close</th>\n",
       "      <th>Adj Close</th>\n",
       "      <th>Volume</th>\n",
       "    </tr>\n",
       "  </thead>\n",
       "  <tbody>\n",
       "    <tr>\n",
       "      <th>0</th>\n",
       "      <td>1980-01-02</td>\n",
       "      <td>641.719971</td>\n",
       "      <td>641.719971</td>\n",
       "      <td>641.719971</td>\n",
       "      <td>641.719971</td>\n",
       "      <td>641.719971</td>\n",
       "      <td>0</td>\n",
       "    </tr>\n",
       "    <tr>\n",
       "      <th>1</th>\n",
       "      <td>1980-01-03</td>\n",
       "      <td>638.020020</td>\n",
       "      <td>638.020020</td>\n",
       "      <td>638.020020</td>\n",
       "      <td>638.020020</td>\n",
       "      <td>638.020020</td>\n",
       "      <td>0</td>\n",
       "    </tr>\n",
       "    <tr>\n",
       "      <th>2</th>\n",
       "      <td>1980-01-04</td>\n",
       "      <td>646.799988</td>\n",
       "      <td>646.799988</td>\n",
       "      <td>646.799988</td>\n",
       "      <td>646.799988</td>\n",
       "      <td>646.799988</td>\n",
       "      <td>0</td>\n",
       "    </tr>\n",
       "    <tr>\n",
       "      <th>3</th>\n",
       "      <td>1980-01-07</td>\n",
       "      <td>649.229980</td>\n",
       "      <td>649.229980</td>\n",
       "      <td>649.229980</td>\n",
       "      <td>649.229980</td>\n",
       "      <td>649.229980</td>\n",
       "      <td>0</td>\n",
       "    </tr>\n",
       "    <tr>\n",
       "      <th>4</th>\n",
       "      <td>1980-01-08</td>\n",
       "      <td>661.809998</td>\n",
       "      <td>661.809998</td>\n",
       "      <td>661.809998</td>\n",
       "      <td>661.809998</td>\n",
       "      <td>661.809998</td>\n",
       "      <td>0</td>\n",
       "    </tr>\n",
       "  </tbody>\n",
       "</table>\n",
       "</div>"
      ],
      "text/plain": [
       "         Date        Open        High         Low       Close   Adj Close  \\\n",
       "0  1980-01-02  641.719971  641.719971  641.719971  641.719971  641.719971   \n",
       "1  1980-01-03  638.020020  638.020020  638.020020  638.020020  638.020020   \n",
       "2  1980-01-04  646.799988  646.799988  646.799988  646.799988  646.799988   \n",
       "3  1980-01-07  649.229980  649.229980  649.229980  649.229980  649.229980   \n",
       "4  1980-01-08  661.809998  661.809998  661.809998  661.809998  661.809998   \n",
       "\n",
       "   Volume  \n",
       "0       0  \n",
       "1       0  \n",
       "2       0  \n",
       "3       0  \n",
       "4       0  "
      ]
     },
     "execution_count": 57,
     "metadata": {},
     "output_type": "execute_result"
    }
   ],
   "source": [
    "# Reading the dataset\n",
    "\n",
    "data = pd.read_csv('NYSE-Composite Index.csv')\n",
    "data.head(5)"
   ]
  },
  {
   "cell_type": "code",
   "execution_count": 58,
   "metadata": {},
   "outputs": [
    {
     "data": {
      "text/html": [
       "<div>\n",
       "<style scoped>\n",
       "    .dataframe tbody tr th:only-of-type {\n",
       "        vertical-align: middle;\n",
       "    }\n",
       "\n",
       "    .dataframe tbody tr th {\n",
       "        vertical-align: top;\n",
       "    }\n",
       "\n",
       "    .dataframe thead th {\n",
       "        text-align: right;\n",
       "    }\n",
       "</style>\n",
       "<table border=\"1\" class=\"dataframe\">\n",
       "  <thead>\n",
       "    <tr style=\"text-align: right;\">\n",
       "      <th></th>\n",
       "      <th>Open</th>\n",
       "      <th>High</th>\n",
       "      <th>Low</th>\n",
       "      <th>Close</th>\n",
       "    </tr>\n",
       "  </thead>\n",
       "  <tbody>\n",
       "    <tr>\n",
       "      <th>0</th>\n",
       "      <td>641.719971</td>\n",
       "      <td>641.719971</td>\n",
       "      <td>641.719971</td>\n",
       "      <td>641.719971</td>\n",
       "    </tr>\n",
       "    <tr>\n",
       "      <th>1</th>\n",
       "      <td>638.020020</td>\n",
       "      <td>638.020020</td>\n",
       "      <td>638.020020</td>\n",
       "      <td>638.020020</td>\n",
       "    </tr>\n",
       "    <tr>\n",
       "      <th>2</th>\n",
       "      <td>646.799988</td>\n",
       "      <td>646.799988</td>\n",
       "      <td>646.799988</td>\n",
       "      <td>646.799988</td>\n",
       "    </tr>\n",
       "    <tr>\n",
       "      <th>3</th>\n",
       "      <td>649.229980</td>\n",
       "      <td>649.229980</td>\n",
       "      <td>649.229980</td>\n",
       "      <td>649.229980</td>\n",
       "    </tr>\n",
       "    <tr>\n",
       "      <th>4</th>\n",
       "      <td>661.809998</td>\n",
       "      <td>661.809998</td>\n",
       "      <td>661.809998</td>\n",
       "      <td>661.809998</td>\n",
       "    </tr>\n",
       "  </tbody>\n",
       "</table>\n",
       "</div>"
      ],
      "text/plain": [
       "         Open        High         Low       Close\n",
       "0  641.719971  641.719971  641.719971  641.719971\n",
       "1  638.020020  638.020020  638.020020  638.020020\n",
       "2  646.799988  646.799988  646.799988  646.799988\n",
       "3  649.229980  649.229980  649.229980  649.229980\n",
       "4  661.809998  661.809998  661.809998  661.809998"
      ]
     },
     "execution_count": 58,
     "metadata": {},
     "output_type": "execute_result"
    }
   ],
   "source": [
    "# Dropping irrelevant columns\n",
    "\n",
    "data = data.drop(columns=['Date','Adj Close','Volume'])\n",
    "data.head()"
   ]
  },
  {
   "cell_type": "code",
   "execution_count": 59,
   "metadata": {},
   "outputs": [
    {
     "name": "stdout",
     "output_type": "stream",
     "text": [
      "(10576, 4)\n"
     ]
    }
   ],
   "source": [
    "print(data.shape)"
   ]
  },
  {
   "cell_type": "code",
   "execution_count": 60,
   "metadata": {},
   "outputs": [],
   "source": [
    "# Scaling the data values, scaler_pred is for inverse scaling purposes\n",
    "\n",
    "scaler_pred = MinMaxScaler(feature_range=(0, 1))\n",
    "df_Close = pd.DataFrame(data['Close'])\n",
    "np_Close_scaled = scaler_pred.fit_transform(df_Close)"
   ]
  },
  {
   "cell_type": "code",
   "execution_count": 61,
   "metadata": {},
   "outputs": [
    {
     "data": {
      "text/plain": [
       "(10576,)"
      ]
     },
     "execution_count": 61,
     "metadata": {},
     "output_type": "execute_result"
    }
   ],
   "source": [
    "scaler = MinMaxScaler(feature_range=(0, 1))\n",
    "data = scaler.fit_transform(data)\n",
    "\n",
    "y_close = data[:,3]\n",
    "y_close.shape"
   ]
  },
  {
   "cell_type": "code",
   "execution_count": 62,
   "metadata": {},
   "outputs": [
    {
     "data": {
      "image/png": "[encoded data removed]",
      "text/plain": [
       "<Figure size 504x288 with 1 Axes>"
      ]
     },
     "metadata": {
      "needs_background": "light"
     },
     "output_type": "display_data"
    }
   ],
   "source": [
    "# Plotting normalized data\n",
    "\n",
    "plt.figure(figsize=(7,4))\n",
    "plt.plot(y_close)\n",
    "plt.show()"
   ]
  },
  {
   "cell_type": "code",
   "execution_count": 63,
   "metadata": {},
   "outputs": [],
   "source": [
    "#splitting dataset into train and test split\n",
    "\n",
    "train_size = int(len(data) * 0.75)\n",
    "test_size = len(data)-train_size\n",
    "train_data = data[0:train_size]\n",
    "test_data = data[train_size:len(data)]\n",
    "\n",
    "y_close_train = y_close[0:train_size]\n",
    "y_close_test  = y_close[train_size:len(y_close)]"
   ]
  },
  {
   "cell_type": "code",
   "execution_count": 64,
   "metadata": {},
   "outputs": [
    {
     "name": "stdout",
     "output_type": "stream",
     "text": [
      "7932\n",
      "(7932, 4)\n",
      "(2644, 4)\n"
     ]
    }
   ],
   "source": [
    "# Checking shape of training and testing data\n",
    "\n",
    "print(train_size)\n",
    "print(train_data.shape)\n",
    "print(test_data.shape)"
   ]
  },
  {
   "cell_type": "code",
   "execution_count": 65,
   "metadata": {},
   "outputs": [],
   "source": [
    "# Function for creating time sequences\n",
    "\n",
    "def create_timeseries(seq_size, data, close):\n",
    "    \n",
    "    x = []\n",
    "    y = []\n",
    "\n",
    "    for i in range(len(data)-seq_size-1):\n",
    "        \n",
    "        window = data[i:(i+seq_size)]\n",
    "        after_window = close[i+seq_size]\n",
    "        window = [[x] for x in window]\n",
    "        x.append(window)\n",
    "        y.append(after_window)\n",
    "        \n",
    "    return np.array(x),np.array(y)"
   ]
  },
  {
   "cell_type": "code",
   "execution_count": 66,
   "metadata": {},
   "outputs": [
    {
     "name": "stdout",
     "output_type": "stream",
     "text": [
      "Shape of x_train: (7921, 10, 1, 4)\n",
      "Shape of x_test: (2633, 10, 1, 4)\n",
      "Shape of y_train: (7921,)\n",
      "Shape of y_test: (2633,)\n"
     ]
    }
   ],
   "source": [
    "# Creating time sequences\n",
    "\n",
    "time_step = 10\n",
    "X_train, y_train = create_timeseries(time_step, train_data, y_close_train)\n",
    "X_test, y_test   = create_timeseries(time_step, test_data, y_close_test)\n",
    "\n",
    "print(\"Shape of x_train: {}\".format(X_train.shape))\n",
    "print(\"Shape of x_test: {}\".format(X_test.shape))\n",
    "print(\"Shape of y_train: {}\".format(y_train.shape))\n",
    "print(\"Shape of y_test: {}\".format(y_test.shape))"
   ]
  },
  {
   "cell_type": "code",
   "execution_count": 67,
   "metadata": {},
   "outputs": [],
   "source": [
    "# Reshape input to be [samples, time steps, features] which is required for LSTM\n",
    "\n",
    "X_train = X_train.reshape(X_train.shape[0], X_train.shape[1], X_train.shape[3]) \n",
    "X_test = X_test.reshape(X_test.shape[0], X_test.shape[1], X_test.shape[3])     \n"
   ]
  },
  {
   "cell_type": "code",
   "execution_count": 68,
   "metadata": {},
   "outputs": [
    {
     "name": "stdout",
     "output_type": "stream",
     "text": [
      "(7921, 10, 4)\n",
      "(2633, 10, 4)\n"
     ]
    }
   ],
   "source": [
    "# Checking shapes\n",
    "\n",
    "print(X_train.shape)\n",
    "print(X_test.shape)"
   ]
  },
  {
   "cell_type": "code",
   "execution_count": 14,
   "metadata": {},
   "outputs": [],
   "source": [
    "#---------------------  Stacked LSTM model  -----------------------------------\n"
   ]
  },
  {
   "cell_type": "code",
   "execution_count": 15,
   "metadata": {},
   "outputs": [],
   "source": [
    "# Create LSTM Model\n",
    "\n",
    "lstm = Sequential()\n",
    "lstm.add(LSTM(64, input_shape=(time_step, 4), return_sequences = True))\n",
    "lstm.add(LSTM(32, return_sequences= True))\n",
    "lstm.add(LSTM(32, return_sequences= True))\n",
    "lstm.add(LSTM(16))\n",
    "lstm.add(Dense(1, activation = 'linear'))"
   ]
  },
  {
   "cell_type": "code",
   "execution_count": 16,
   "metadata": {},
   "outputs": [
    {
     "name": "stdout",
     "output_type": "stream",
     "text": [
      "Epoch 1/100\n",
      "50/50 - 26s - loss: 0.0043 - val_loss: 8.2923e-04\n",
      "Epoch 2/100\n",
      "50/50 - 3s - loss: 5.4411e-05 - val_loss: 3.5308e-04\n",
      "Epoch 3/100\n",
      "50/50 - 3s - loss: 3.2913e-05 - val_loss: 5.0190e-04\n",
      "Epoch 4/100\n",
      "50/50 - 3s - loss: 3.0998e-05 - val_loss: 5.2475e-04\n",
      "Epoch 5/100\n",
      "50/50 - 3s - loss: 3.0524e-05 - val_loss: 5.6818e-04\n",
      "Epoch 6/100\n",
      "50/50 - 3s - loss: 3.0802e-05 - val_loss: 5.0668e-04\n",
      "Epoch 7/100\n",
      "50/50 - 3s - loss: 3.1134e-05 - val_loss: 5.1495e-04\n",
      "Epoch 8/100\n",
      "50/50 - 3s - loss: 3.0602e-05 - val_loss: 6.5970e-04\n",
      "Epoch 9/100\n",
      "50/50 - 3s - loss: 3.0799e-05 - val_loss: 5.0168e-04\n",
      "Epoch 10/100\n",
      "50/50 - 3s - loss: 3.0105e-05 - val_loss: 5.5472e-04\n",
      "Epoch 11/100\n",
      "50/50 - 3s - loss: 3.1656e-05 - val_loss: 6.6359e-04\n",
      "Epoch 12/100\n",
      "50/50 - 3s - loss: 3.0387e-05 - val_loss: 4.7891e-04\n",
      "Epoch 13/100\n",
      "50/50 - 3s - loss: 3.1948e-05 - val_loss: 5.3547e-04\n",
      "Epoch 14/100\n",
      "50/50 - 3s - loss: 3.2155e-05 - val_loss: 3.8685e-04\n",
      "Epoch 15/100\n",
      "50/50 - 3s - loss: 3.1124e-05 - val_loss: 3.9699e-04\n",
      "Epoch 16/100\n",
      "50/50 - 3s - loss: 3.3667e-05 - val_loss: 4.6732e-04\n",
      "Epoch 17/100\n",
      "50/50 - 3s - loss: 3.1574e-05 - val_loss: 4.7836e-04\n",
      "Epoch 18/100\n",
      "50/50 - 3s - loss: 3.1449e-05 - val_loss: 4.7525e-04\n",
      "Epoch 19/100\n",
      "50/50 - 3s - loss: 3.0237e-05 - val_loss: 4.1520e-04\n",
      "Epoch 20/100\n",
      "50/50 - 3s - loss: 3.0036e-05 - val_loss: 4.4748e-04\n",
      "Epoch 21/100\n",
      "50/50 - 3s - loss: 3.0585e-05 - val_loss: 5.1076e-04\n",
      "Epoch 22/100\n",
      "50/50 - 3s - loss: 3.3133e-05 - val_loss: 5.7161e-04\n",
      "Epoch 23/100\n",
      "50/50 - 3s - loss: 2.9686e-05 - val_loss: 5.2092e-04\n",
      "Epoch 24/100\n",
      "50/50 - 3s - loss: 3.0220e-05 - val_loss: 4.3634e-04\n",
      "Epoch 25/100\n",
      "50/50 - 3s - loss: 2.9779e-05 - val_loss: 5.3052e-04\n",
      "Epoch 26/100\n",
      "50/50 - 3s - loss: 3.0660e-05 - val_loss: 6.0088e-04\n",
      "Epoch 27/100\n",
      "50/50 - 3s - loss: 3.2865e-05 - val_loss: 4.2161e-04\n",
      "Epoch 28/100\n",
      "50/50 - 3s - loss: 3.1365e-05 - val_loss: 3.6054e-04\n",
      "Epoch 29/100\n",
      "50/50 - 3s - loss: 2.9388e-05 - val_loss: 4.3902e-04\n",
      "Epoch 30/100\n",
      "50/50 - 3s - loss: 3.1988e-05 - val_loss: 2.5881e-04\n",
      "Epoch 31/100\n",
      "50/50 - 3s - loss: 3.1870e-05 - val_loss: 3.0086e-04\n",
      "Epoch 32/100\n",
      "50/50 - 3s - loss: 3.1744e-05 - val_loss: 4.8513e-04\n",
      "Epoch 33/100\n",
      "50/50 - 3s - loss: 3.0874e-05 - val_loss: 2.7762e-04\n",
      "Epoch 34/100\n",
      "50/50 - 3s - loss: 3.0283e-05 - val_loss: 3.8936e-04\n",
      "Epoch 35/100\n",
      "50/50 - 3s - loss: 3.2420e-05 - val_loss: 3.0979e-04\n",
      "Epoch 36/100\n",
      "50/50 - 3s - loss: 3.0834e-05 - val_loss: 3.9546e-04\n",
      "Epoch 37/100\n",
      "50/50 - 3s - loss: 2.9518e-05 - val_loss: 3.3990e-04\n",
      "Epoch 38/100\n",
      "50/50 - 3s - loss: 2.8862e-05 - val_loss: 2.9781e-04\n",
      "Epoch 39/100\n",
      "50/50 - 3s - loss: 3.5626e-05 - val_loss: 4.4077e-04\n",
      "Epoch 40/100\n",
      "50/50 - 3s - loss: 3.1351e-05 - val_loss: 3.1887e-04\n",
      "Epoch 41/100\n",
      "50/50 - 3s - loss: 2.8702e-05 - val_loss: 2.6169e-04\n",
      "Epoch 42/100\n",
      "50/50 - 3s - loss: 2.8908e-05 - val_loss: 2.5220e-04\n",
      "Epoch 43/100\n",
      "50/50 - 3s - loss: 3.0119e-05 - val_loss: 2.2415e-04\n",
      "Epoch 44/100\n",
      "50/50 - 3s - loss: 3.6717e-05 - val_loss: 4.6143e-04\n",
      "Epoch 45/100\n",
      "50/50 - 3s - loss: 3.2039e-05 - val_loss: 2.8602e-04\n",
      "Epoch 46/100\n",
      "50/50 - 3s - loss: 3.2215e-05 - val_loss: 4.9860e-04\n",
      "Epoch 47/100\n",
      "50/50 - 3s - loss: 2.8641e-05 - val_loss: 3.5179e-04\n",
      "Epoch 48/100\n",
      "50/50 - 3s - loss: 2.8334e-05 - val_loss: 2.6022e-04\n",
      "Epoch 49/100\n",
      "50/50 - 3s - loss: 2.9058e-05 - val_loss: 4.0191e-04\n",
      "Epoch 50/100\n",
      "50/50 - 3s - loss: 2.7375e-05 - val_loss: 3.2740e-04\n",
      "Epoch 51/100\n",
      "50/50 - 3s - loss: 2.7882e-05 - val_loss: 2.6749e-04\n",
      "Epoch 52/100\n",
      "50/50 - 3s - loss: 2.7151e-05 - val_loss: 3.4482e-04\n",
      "Epoch 53/100\n",
      "50/50 - 3s - loss: 3.0408e-05 - val_loss: 2.4398e-04\n",
      "Epoch 54/100\n",
      "50/50 - 3s - loss: 2.7801e-05 - val_loss: 2.6338e-04\n",
      "Epoch 55/100\n",
      "50/50 - 3s - loss: 2.6905e-05 - val_loss: 2.5792e-04\n",
      "Epoch 56/100\n",
      "50/50 - 3s - loss: 2.6872e-05 - val_loss: 3.2351e-04\n",
      "Epoch 57/100\n",
      "50/50 - 3s - loss: 3.4346e-05 - val_loss: 1.8843e-04\n",
      "Epoch 58/100\n",
      "50/50 - 3s - loss: 2.9487e-05 - val_loss: 1.8838e-04\n",
      "Epoch 59/100\n",
      "50/50 - 3s - loss: 2.8508e-05 - val_loss: 2.6948e-04\n",
      "Epoch 60/100\n",
      "50/50 - 3s - loss: 2.7595e-05 - val_loss: 4.4023e-04\n",
      "Epoch 61/100\n",
      "50/50 - 3s - loss: 2.9555e-05 - val_loss: 3.6720e-04\n",
      "Epoch 62/100\n",
      "50/50 - 3s - loss: 2.6757e-05 - val_loss: 2.1668e-04\n",
      "Epoch 63/100\n",
      "50/50 - 3s - loss: 2.7483e-05 - val_loss: 2.0941e-04\n",
      "Epoch 64/100\n",
      "50/50 - 3s - loss: 2.5300e-05 - val_loss: 2.7518e-04\n",
      "Epoch 65/100\n",
      "50/50 - 3s - loss: 3.2541e-05 - val_loss: 1.7564e-04\n",
      "Epoch 66/100\n",
      "50/50 - 3s - loss: 2.7058e-05 - val_loss: 1.7509e-04\n",
      "Epoch 67/100\n",
      "50/50 - 3s - loss: 3.2922e-05 - val_loss: 3.8529e-04\n",
      "Epoch 68/100\n",
      "50/50 - 3s - loss: 2.7216e-05 - val_loss: 1.7048e-04\n",
      "Epoch 69/100\n",
      "50/50 - 3s - loss: 2.4791e-05 - val_loss: 2.8437e-04\n",
      "Epoch 70/100\n",
      "50/50 - 3s - loss: 2.5369e-05 - val_loss: 2.3614e-04\n",
      "Epoch 71/100\n",
      "50/50 - 3s - loss: 2.4709e-05 - val_loss: 1.6989e-04\n",
      "Epoch 72/100\n",
      "50/50 - 3s - loss: 2.4972e-05 - val_loss: 1.7988e-04\n",
      "Epoch 73/100\n",
      "50/50 - 3s - loss: 2.5110e-05 - val_loss: 1.8177e-04\n",
      "Epoch 74/100\n",
      "50/50 - 3s - loss: 2.3104e-05 - val_loss: 2.0198e-04\n",
      "Epoch 75/100\n",
      "50/50 - 3s - loss: 2.8974e-05 - val_loss: 2.2234e-04\n",
      "Epoch 76/100\n",
      "50/50 - 3s - loss: 2.3432e-05 - val_loss: 2.8166e-04\n",
      "Epoch 77/100\n",
      "50/50 - 3s - loss: 2.5555e-05 - val_loss: 1.6145e-04\n",
      "Epoch 78/100\n",
      "50/50 - 3s - loss: 2.8110e-05 - val_loss: 2.6262e-04\n",
      "Epoch 79/100\n",
      "50/50 - 3s - loss: 3.0897e-05 - val_loss: 2.8482e-04\n",
      "Epoch 80/100\n",
      "50/50 - 3s - loss: 2.3193e-05 - val_loss: 1.7157e-04\n",
      "Epoch 81/100\n",
      "50/50 - 3s - loss: 2.3118e-05 - val_loss: 1.8357e-04\n",
      "Epoch 82/100\n",
      "50/50 - 3s - loss: 2.3360e-05 - val_loss: 1.4346e-04\n",
      "Epoch 83/100\n",
      "50/50 - 3s - loss: 2.6487e-05 - val_loss: 2.2765e-04\n",
      "Epoch 84/100\n",
      "50/50 - 3s - loss: 2.1634e-05 - val_loss: 5.0686e-04\n",
      "Epoch 85/100\n",
      "50/50 - 3s - loss: 3.2192e-05 - val_loss: 2.3028e-04\n",
      "Epoch 86/100\n",
      "50/50 - 3s - loss: 3.0282e-05 - val_loss: 2.0763e-04\n",
      "Epoch 87/100\n",
      "50/50 - 3s - loss: 2.2479e-05 - val_loss: 1.4828e-04\n",
      "Epoch 88/100\n",
      "50/50 - 3s - loss: 2.1797e-05 - val_loss: 3.4879e-04\n",
      "Epoch 89/100\n",
      "50/50 - 3s - loss: 2.4101e-05 - val_loss: 1.3891e-04\n",
      "Epoch 90/100\n",
      "50/50 - 3s - loss: 2.1324e-05 - val_loss: 2.6849e-04\n",
      "Epoch 91/100\n",
      "50/50 - 3s - loss: 1.9809e-05 - val_loss: 2.0217e-04\n",
      "Epoch 92/100\n",
      "50/50 - 3s - loss: 1.9210e-05 - val_loss: 1.2222e-04\n",
      "Epoch 93/100\n",
      "50/50 - 3s - loss: 2.2702e-05 - val_loss: 1.2352e-04\n",
      "Epoch 94/100\n",
      "50/50 - 3s - loss: 2.1776e-05 - val_loss: 1.3668e-04\n",
      "Epoch 95/100\n",
      "50/50 - 3s - loss: 2.3708e-05 - val_loss: 1.7880e-04\n",
      "Epoch 96/100\n",
      "50/50 - 3s - loss: 1.9948e-05 - val_loss: 1.9028e-04\n",
      "Epoch 97/100\n",
      "50/50 - 3s - loss: 1.9239e-05 - val_loss: 2.4448e-04\n",
      "Epoch 98/100\n",
      "50/50 - 3s - loss: 1.9105e-05 - val_loss: 1.3427e-04\n",
      "Epoch 99/100\n",
      "50/50 - 3s - loss: 1.8440e-05 - val_loss: 1.0844e-04\n",
      "Epoch 100/100\n",
      "50/50 - 3s - loss: 1.7514e-05 - val_loss: 1.1230e-04\n"
     ]
    },
    {
     "data": {
      "text/plain": [
       "<tensorflow.python.keras.callbacks.History at 0x2222762fc70>"
      ]
     },
     "execution_count": 16,
     "metadata": {},
     "output_type": "execute_result"
    }
   ],
   "source": [
    "# Model Compiling and training\n",
    "\n",
    "lstm.compile(loss='mean_squared_error', optimizer='adam')\n",
    "lstm.fit(X_train, y_train, validation_split=0.2, epochs=100, batch_size=128, verbose=2)\n"
   ]
  },
  {
   "cell_type": "code",
   "execution_count": 17,
   "metadata": {},
   "outputs": [
    {
     "name": "stdout",
     "output_type": "stream",
     "text": [
      "Model: \"sequential\"\n",
      "_________________________________________________________________\n",
      "Layer (type)                 Output Shape              Param #   \n",
      "=================================================================\n",
      "lstm (LSTM)                  (None, 10, 64)            17664     \n",
      "_________________________________________________________________\n",
      "lstm_1 (LSTM)                (None, 10, 32)            12416     \n",
      "_________________________________________________________________\n",
      "lstm_2 (LSTM)                (None, 10, 32)            8320      \n",
      "_________________________________________________________________\n",
      "lstm_3 (LSTM)                (None, 16)                3136      \n",
      "_________________________________________________________________\n",
      "dense (Dense)                (None, 1)                 17        \n",
      "=================================================================\n",
      "Total params: 41,553\n",
      "Trainable params: 41,553\n",
      "Non-trainable params: 0\n",
      "_________________________________________________________________\n"
     ]
    }
   ],
   "source": [
    "lstm.summary()"
   ]
  },
  {
   "cell_type": "code",
   "execution_count": 18,
   "metadata": {},
   "outputs": [
    {
     "data": {
      "text/plain": [
       "<matplotlib.legend.Legend at 0x22224da9430>"
      ]
     },
     "execution_count": 18,
     "metadata": {},
     "output_type": "execute_result"
    },
    {
     "data": {
      "image/png": "[encoded data removed]",
      "text/plain": [
       "<Figure size 432x288 with 1 Axes>"
      ]
     },
     "metadata": {
      "needs_background": "light"
     },
     "output_type": "display_data"
    }
   ],
   "source": [
    "# Plotting training and validation losses\n",
    "\n",
    "plt.plot(lstm.history.history['loss'], label = 'loss')\n",
    "plt.plot(lstm.history.history['val_loss'], label = 'val loss')\n",
    "plt.title('LSTM Loss')\n",
    "plt.xlabel(\"Epochs\")\n",
    "plt.ylabel(\"Loss\")\n",
    "plt.legend()"
   ]
  },
  {
   "cell_type": "code",
   "execution_count": 19,
   "metadata": {},
   "outputs": [],
   "source": [
    "# Predictions using trained lstm model\n",
    "\n",
    "lstmtrainPredict = lstm.predict(X_train)\n",
    "lstmtestPredict = lstm.predict(X_test)"
   ]
  },
  {
   "cell_type": "code",
   "execution_count": 20,
   "metadata": {},
   "outputs": [],
   "source": [
    "# Inverse Scaling for plotting and RMSE calculations\n",
    "\n",
    "lstmtrainPredict = scaler_pred.inverse_transform(lstmtrainPredict)\n",
    "y_train_lstm = scaler_pred.inverse_transform(y_train.reshape(-1, 1))\n",
    "lstmtestPredict = scaler_pred.inverse_transform(lstmtestPredict)\n",
    "y_test_lstm = scaler_pred.inverse_transform(y_test.reshape(-1, 1))"
   ]
  },
  {
   "cell_type": "code",
   "execution_count": 21,
   "metadata": {},
   "outputs": [
    {
     "name": "stdout",
     "output_type": "stream",
     "text": [
      "Train RMSE: 101.67\n"
     ]
    }
   ],
   "source": [
    "# Training RMSE\n",
    "\n",
    "train_rmse = np.sqrt(mean_squared_error(y_train_lstm, lstmtrainPredict))\n",
    "print('Train RMSE: %.2f' % (train_rmse))"
   ]
  },
  {
   "cell_type": "code",
   "execution_count": 22,
   "metadata": {},
   "outputs": [
    {
     "name": "stdout",
     "output_type": "stream",
     "text": [
      "Test RMSE: 648.89\n"
     ]
    }
   ],
   "source": [
    "# Test RMSE\n",
    "\n",
    "test_rmse = np.sqrt(mean_squared_error(y_test_lstm, lstmtestPredict))\n",
    "print('Test RMSE: %.2f' % (test_rmse))"
   ]
  },
  {
   "cell_type": "code",
   "execution_count": 23,
   "metadata": {},
   "outputs": [
    {
     "data": {
      "image/png": "[encoded data removed]",
      "text/plain": [
       "<Figure size 504x360 with 1 Axes>"
      ]
     },
     "metadata": {
      "needs_background": "light"
     },
     "output_type": "display_data"
    }
   ],
   "source": [
    "# Plotting actual vs predicted prices\n",
    "\n",
    "plt.figure(figsize=(7,5))\n",
    "plt.plot(y_test_lstm, label = 'Actual')\n",
    "plt.plot(lstmtestPredict,label = 'Predicted')\n",
    "plt.title('Multivariate LSTM Predictions')\n",
    "plt.xlabel('Days')\n",
    "plt.ylabel('Stock Price')\n",
    "plt.legend()\n",
    "plt.show()"
   ]
  },
  {
   "cell_type": "code",
   "execution_count": 69,
   "metadata": {},
   "outputs": [],
   "source": [
    "#----------------------------- CNN Model-----------------------------------------------"
   ]
  },
  {
   "cell_type": "code",
   "execution_count": 70,
   "metadata": {},
   "outputs": [
    {
     "name": "stdout",
     "output_type": "stream",
     "text": [
      "(7921, 10, 4)\n",
      "(2633, 10, 4)\n"
     ]
    }
   ],
   "source": [
    "# Checking shape of training data\n",
    "\n",
    "print(X_train.shape)\n",
    "print(X_test.shape)"
   ]
  },
  {
   "cell_type": "code",
   "execution_count": 71,
   "metadata": {},
   "outputs": [
    {
     "name": "stdout",
     "output_type": "stream",
     "text": [
      "(7921, 1, 10, 4)\n",
      "(2633, 1, 10, 4)\n"
     ]
    }
   ],
   "source": [
    "# Reshape input to that which is required for CNN\n",
    "\n",
    "X_train =X_train.reshape(X_train.shape[0], 1, X_train.shape[1], X_train.shape[2])  \n",
    "X_test = X_test.reshape(X_test.shape[0], 1, X_test.shape[1], X_test.shape[2])   \n",
    "\n",
    "print(X_train.shape)\n",
    "print(X_test.shape)"
   ]
  },
  {
   "cell_type": "code",
   "execution_count": 72,
   "metadata": {},
   "outputs": [
    {
     "name": "stdout",
     "output_type": "stream",
     "text": [
      "Model: \"sequential_4\"\n",
      "_________________________________________________________________\n",
      "Layer (type)                 Output Shape              Param #   \n",
      "=================================================================\n",
      "conv2d_1 (Conv2D)            (None, 1, 9, 8)           72        \n",
      "_________________________________________________________________\n",
      "max_pooling2d_1 (MaxPooling2 (None, 1, 4, 8)           0         \n",
      "_________________________________________________________________\n",
      "flatten_2 (Flatten)          (None, 32)                0         \n",
      "_________________________________________________________________\n",
      "dense_5 (Dense)              (None, 64)                2112      \n",
      "_________________________________________________________________\n",
      "dropout_5 (Dropout)          (None, 64)                0         \n",
      "_________________________________________________________________\n",
      "dense_6 (Dense)              (None, 1)                 65        \n",
      "=================================================================\n",
      "Total params: 2,249\n",
      "Trainable params: 2,249\n",
      "Non-trainable params: 0\n",
      "_________________________________________________________________\n"
     ]
    }
   ],
   "source": [
    "cnn = Sequential()\n",
    "cnn.add(Conv2D(8, kernel_size = (1, 2), strides = (1, 1),  padding = 'valid', \n",
    "               activation = 'relu', input_shape = (1,10,4)))\n",
    "cnn.add(MaxPooling2D(pool_size = (1,2)))\n",
    "\n",
    "cnn.add(Flatten())\n",
    "cnn.add(Dense(64, activation=\"relu\"))\n",
    "cnn.add(Dropout(0.5))\n",
    "cnn.add(Dense(1, activation=\"relu\"))\n",
    "cnn.summary()   "
   ]
  },
  {
   "cell_type": "code",
   "execution_count": 73,
   "metadata": {},
   "outputs": [],
   "source": [
    "cnn.compile(loss='mean_squared_error', optimizer='adam')"
   ]
  },
  {
   "cell_type": "code",
   "execution_count": 74,
   "metadata": {},
   "outputs": [
    {
     "name": "stdout",
     "output_type": "stream",
     "text": [
      "Epoch 1/100\n",
      "50/50 [==============================] - 4s 56ms/step - loss: 0.0138 - val_loss: 0.0021\n",
      "Epoch 2/100\n",
      "50/50 [==============================] - 0s 10ms/step - loss: 0.0025 - val_loss: 9.0375e-04\n",
      "Epoch 3/100\n",
      "50/50 [==============================] - 0s 8ms/step - loss: 0.0017 - val_loss: 0.0016\n",
      "Epoch 4/100\n",
      "50/50 [==============================] - 0s 8ms/step - loss: 0.0014 - val_loss: 0.0010\n",
      "Epoch 5/100\n",
      "50/50 [==============================] - 0s 8ms/step - loss: 0.0013 - val_loss: 8.7294e-04\n",
      "Epoch 6/100\n",
      "50/50 [==============================] - 0s 7ms/step - loss: 0.0012 - val_loss: 7.8229e-04\n",
      "Epoch 7/100\n",
      "50/50 [==============================] - 0s 6ms/step - loss: 0.0011 - val_loss: 5.5709e-04\n",
      "Epoch 8/100\n",
      "50/50 [==============================] - 0s 7ms/step - loss: 0.0010 - val_loss: 3.9446e-04\n",
      "Epoch 9/100\n",
      "50/50 [==============================] - 0s 7ms/step - loss: 9.8668e-04 - val_loss: 5.9579e-04\n",
      "Epoch 10/100\n",
      "50/50 [==============================] - 0s 7ms/step - loss: 9.7071e-04 - val_loss: 5.4154e-04\n",
      "Epoch 11/100\n",
      "50/50 [==============================] - 0s 7ms/step - loss: 8.9850e-04 - val_loss: 3.0380e-04\n",
      "Epoch 12/100\n",
      "50/50 [==============================] - 0s 8ms/step - loss: 8.9593e-04 - val_loss: 3.1743e-04\n",
      "Epoch 13/100\n",
      "50/50 [==============================] - 1s 29ms/step - loss: 9.3054e-04 - val_loss: 2.9901e-04\n",
      "Epoch 14/100\n",
      "50/50 [==============================] - 3s 58ms/step - loss: 8.9533e-04 - val_loss: 2.8299e-04\n",
      "Epoch 15/100\n",
      "50/50 [==============================] - 3s 56ms/step - loss: 9.1005e-04 - val_loss: 2.7229e-04\n",
      "Epoch 16/100\n",
      "50/50 [==============================] - 3s 64ms/step - loss: 8.9740e-04 - val_loss: 8.1541e-04\n",
      "Epoch 17/100\n",
      "50/50 [==============================] - 2s 44ms/step - loss: 8.5739e-04 - val_loss: 6.2735e-04\n",
      "Epoch 18/100\n",
      "50/50 [==============================] - 1s 11ms/step - loss: 8.9594e-04 - val_loss: 3.7405e-04\n",
      "Epoch 19/100\n",
      "50/50 [==============================] - 0s 8ms/step - loss: 9.1516e-04 - val_loss: 5.2672e-04\n",
      "Epoch 20/100\n",
      "50/50 [==============================] - 0s 8ms/step - loss: 8.8606e-04 - val_loss: 4.3641e-04\n",
      "Epoch 21/100\n",
      "50/50 [==============================] - 0s 8ms/step - loss: 8.5247e-04 - val_loss: 2.7659e-04\n",
      "Epoch 22/100\n",
      "50/50 [==============================] - 0s 8ms/step - loss: 8.7278e-04 - val_loss: 2.2139e-04\n",
      "Epoch 23/100\n",
      "50/50 [==============================] - 0s 8ms/step - loss: 8.6925e-04 - val_loss: 6.1643e-04\n",
      "Epoch 24/100\n",
      "50/50 [==============================] - 0s 9ms/step - loss: 8.4839e-04 - val_loss: 2.4651e-04\n",
      "Epoch 25/100\n",
      "50/50 [==============================] - 1s 12ms/step - loss: 8.6324e-04 - val_loss: 3.2906e-04\n",
      "Epoch 26/100\n",
      "50/50 [==============================] - 1s 22ms/step - loss: 8.4561e-04 - val_loss: 4.4273e-04\n",
      "Epoch 27/100\n",
      "50/50 [==============================] - 0s 8ms/step - loss: 8.3702e-04 - val_loss: 3.9804e-04\n",
      "Epoch 28/100\n",
      "50/50 [==============================] - 0s 10ms/step - loss: 8.2773e-04 - val_loss: 2.9563e-04\n",
      "Epoch 29/100\n",
      "50/50 [==============================] - 0s 10ms/step - loss: 9.2909e-04 - val_loss: 3.6961e-04\n",
      "Epoch 30/100\n",
      "50/50 [==============================] - 0s 8ms/step - loss: 8.3343e-04 - val_loss: 2.1928e-04\n",
      "Epoch 31/100\n",
      "50/50 [==============================] - 0s 10ms/step - loss: 8.4410e-04 - val_loss: 2.5031e-04\n",
      "Epoch 32/100\n",
      "50/50 [==============================] - 1s 10ms/step - loss: 8.6144e-04 - val_loss: 1.8628e-04\n",
      "Epoch 33/100\n",
      "50/50 [==============================] - 1s 14ms/step - loss: 8.5533e-04 - val_loss: 3.9435e-04\n",
      "Epoch 34/100\n",
      "50/50 [==============================] - 0s 8ms/step - loss: 8.2765e-04 - val_loss: 4.4133e-04\n",
      "Epoch 35/100\n",
      "50/50 [==============================] - 0s 8ms/step - loss: 8.7028e-04 - val_loss: 2.7219e-04\n",
      "Epoch 36/100\n",
      "50/50 [==============================] - 0s 8ms/step - loss: 8.3378e-04 - val_loss: 4.6219e-04\n",
      "Epoch 37/100\n",
      "50/50 [==============================] - 0s 8ms/step - loss: 8.4356e-04 - val_loss: 2.3301e-04\n",
      "Epoch 38/100\n",
      "50/50 [==============================] - 0s 8ms/step - loss: 7.9966e-04 - val_loss: 2.0243e-04\n",
      "Epoch 39/100\n",
      "50/50 [==============================] - 0s 8ms/step - loss: 8.1020e-04 - val_loss: 1.9614e-04\n",
      "Epoch 40/100\n",
      "50/50 [==============================] - 0s 8ms/step - loss: 8.4718e-04 - val_loss: 2.8861e-04\n",
      "Epoch 41/100\n",
      "50/50 [==============================] - 0s 9ms/step - loss: 8.3395e-04 - val_loss: 4.6575e-04\n",
      "Epoch 42/100\n",
      "50/50 [==============================] - 2s 42ms/step - loss: 8.2461e-04 - val_loss: 4.5517e-04\n",
      "Epoch 43/100\n",
      "50/50 [==============================] - 2s 34ms/step - loss: 8.4638e-04 - val_loss: 2.7932e-04\n",
      "Epoch 44/100\n",
      "50/50 [==============================] - 0s 9ms/step - loss: 8.1944e-04 - val_loss: 5.8837e-04\n",
      "Epoch 45/100\n",
      "50/50 [==============================] - 0s 8ms/step - loss: 8.1359e-04 - val_loss: 2.9122e-04\n",
      "Epoch 46/100\n",
      "50/50 [==============================] - 1s 12ms/step - loss: 8.6657e-04 - val_loss: 9.4617e-04\n",
      "Epoch 47/100\n",
      "50/50 [==============================] - 3s 60ms/step - loss: 8.2879e-04 - val_loss: 3.1400e-04\n",
      "Epoch 48/100\n",
      "50/50 [==============================] - 0s 10ms/step - loss: 7.8210e-04 - val_loss: 6.8508e-04\n",
      "Epoch 49/100\n",
      "50/50 [==============================] - 0s 9ms/step - loss: 7.8426e-04 - val_loss: 3.5520e-04\n",
      "Epoch 50/100\n",
      "50/50 [==============================] - 0s 8ms/step - loss: 7.9518e-04 - val_loss: 3.7218e-04\n",
      "Epoch 51/100\n",
      "50/50 [==============================] - 0s 8ms/step - loss: 8.2531e-04 - val_loss: 1.9000e-04\n",
      "Epoch 52/100\n",
      "50/50 [==============================] - 0s 8ms/step - loss: 8.2602e-04 - val_loss: 2.5911e-04\n",
      "Epoch 53/100\n",
      "50/50 [==============================] - 0s 9ms/step - loss: 8.3060e-04 - val_loss: 3.7941e-04\n",
      "Epoch 54/100\n",
      "50/50 [==============================] - 0s 9ms/step - loss: 8.4859e-04 - val_loss: 6.5361e-04\n",
      "Epoch 55/100\n",
      "50/50 [==============================] - 0s 9ms/step - loss: 8.1008e-04 - val_loss: 5.2389e-04\n",
      "Epoch 56/100\n",
      "50/50 [==============================] - 0s 10ms/step - loss: 8.3508e-04 - val_loss: 7.2467e-04\n",
      "Epoch 57/100\n",
      "50/50 [==============================] - 0s 10ms/step - loss: 8.2350e-04 - val_loss: 5.7457e-04\n",
      "Epoch 58/100\n",
      "50/50 [==============================] - 0s 8ms/step - loss: 8.1322e-04 - val_loss: 6.6261e-04\n",
      "Epoch 59/100\n",
      "50/50 [==============================] - 0s 8ms/step - loss: 8.1473e-04 - val_loss: 5.3764e-04\n",
      "Epoch 60/100\n",
      "50/50 [==============================] - 0s 8ms/step - loss: 8.4511e-04 - val_loss: 3.2667e-04\n",
      "Epoch 61/100\n",
      "50/50 [==============================] - 0s 8ms/step - loss: 7.8490e-04 - val_loss: 7.7233e-04\n",
      "Epoch 62/100\n",
      "50/50 [==============================] - 0s 8ms/step - loss: 8.1525e-04 - val_loss: 4.3260e-04\n",
      "Epoch 63/100\n",
      "50/50 [==============================] - 0s 8ms/step - loss: 7.9583e-04 - val_loss: 6.0483e-04\n",
      "Epoch 64/100\n",
      "50/50 [==============================] - 0s 8ms/step - loss: 7.8863e-04 - val_loss: 8.6053e-04\n",
      "Epoch 65/100\n",
      "50/50 [==============================] - 0s 9ms/step - loss: 7.7558e-04 - val_loss: 3.5158e-04\n",
      "Epoch 66/100\n",
      "50/50 [==============================] - 0s 8ms/step - loss: 7.8030e-04 - val_loss: 3.5945e-04\n",
      "Epoch 67/100\n",
      "50/50 [==============================] - 0s 9ms/step - loss: 7.9440e-04 - val_loss: 1.9952e-04\n",
      "Epoch 68/100\n",
      "50/50 [==============================] - 1s 10ms/step - loss: 7.9369e-04 - val_loss: 1.9307e-04\n",
      "Epoch 69/100\n",
      "50/50 [==============================] - 0s 10ms/step - loss: 7.8172e-04 - val_loss: 7.0188e-04\n",
      "Epoch 70/100\n",
      "50/50 [==============================] - 1s 10ms/step - loss: 7.9833e-04 - val_loss: 3.6185e-04\n",
      "Epoch 71/100\n",
      "50/50 [==============================] - 0s 10ms/step - loss: 7.5340e-04 - val_loss: 1.6242e-04\n",
      "Epoch 72/100\n",
      "50/50 [==============================] - 0s 10ms/step - loss: 7.8580e-04 - val_loss: 5.5400e-04\n",
      "Epoch 73/100\n",
      "50/50 [==============================] - 0s 8ms/step - loss: 7.8477e-04 - val_loss: 2.8908e-04\n",
      "Epoch 74/100\n",
      "50/50 [==============================] - 0s 10ms/step - loss: 7.8000e-04 - val_loss: 3.9849e-04\n",
      "Epoch 75/100\n",
      "50/50 [==============================] - 0s 9ms/step - loss: 7.7677e-04 - val_loss: 2.3598e-04\n",
      "Epoch 76/100\n",
      "50/50 [==============================] - 0s 9ms/step - loss: 7.8010e-04 - val_loss: 4.7013e-04\n",
      "Epoch 77/100\n"
     ]
    },
    {
     "name": "stdout",
     "output_type": "stream",
     "text": [
      "50/50 [==============================] - 0s 8ms/step - loss: 7.9686e-04 - val_loss: 2.9668e-04\n",
      "Epoch 78/100\n",
      "50/50 [==============================] - 0s 8ms/step - loss: 8.0182e-04 - val_loss: 2.2891e-04\n",
      "Epoch 79/100\n",
      "50/50 [==============================] - 0s 7ms/step - loss: 7.5818e-04 - val_loss: 5.1199e-04\n",
      "Epoch 80/100\n",
      "50/50 [==============================] - 0s 7ms/step - loss: 7.6482e-04 - val_loss: 1.9447e-04\n",
      "Epoch 81/100\n",
      "50/50 [==============================] - 0s 7ms/step - loss: 7.9925e-04 - val_loss: 4.5709e-04\n",
      "Epoch 82/100\n",
      "50/50 [==============================] - 0s 8ms/step - loss: 7.6039e-04 - val_loss: 3.6351e-04\n",
      "Epoch 83/100\n",
      "50/50 [==============================] - 0s 7ms/step - loss: 7.8230e-04 - val_loss: 5.9289e-04\n",
      "Epoch 84/100\n",
      "50/50 [==============================] - 0s 7ms/step - loss: 7.7755e-04 - val_loss: 3.8479e-04\n",
      "Epoch 85/100\n",
      "50/50 [==============================] - 0s 7ms/step - loss: 7.6538e-04 - val_loss: 7.6643e-04\n",
      "Epoch 86/100\n",
      "50/50 [==============================] - 0s 8ms/step - loss: 7.9780e-04 - val_loss: 4.8375e-04\n",
      "Epoch 87/100\n",
      "50/50 [==============================] - 0s 7ms/step - loss: 7.7348e-04 - val_loss: 4.0467e-04\n",
      "Epoch 88/100\n",
      "50/50 [==============================] - 0s 8ms/step - loss: 7.7484e-04 - val_loss: 3.4454e-04\n",
      "Epoch 89/100\n",
      "50/50 [==============================] - 0s 7ms/step - loss: 7.7554e-04 - val_loss: 1.8988e-04\n",
      "Epoch 90/100\n",
      "50/50 [==============================] - 0s 8ms/step - loss: 7.6896e-04 - val_loss: 4.0814e-04\n",
      "Epoch 91/100\n",
      "50/50 [==============================] - 0s 8ms/step - loss: 7.7360e-04 - val_loss: 6.1763e-04\n",
      "Epoch 92/100\n",
      "50/50 [==============================] - 0s 8ms/step - loss: 7.7800e-04 - val_loss: 3.6690e-04\n",
      "Epoch 93/100\n",
      "50/50 [==============================] - 0s 8ms/step - loss: 7.8567e-04 - val_loss: 3.9523e-04\n",
      "Epoch 94/100\n",
      "50/50 [==============================] - 0s 8ms/step - loss: 7.8616e-04 - val_loss: 4.9011e-04\n",
      "Epoch 95/100\n",
      "50/50 [==============================] - 0s 8ms/step - loss: 7.8528e-04 - val_loss: 4.8380e-04\n",
      "Epoch 96/100\n",
      "50/50 [==============================] - 0s 8ms/step - loss: 7.9082e-04 - val_loss: 2.1694e-04\n",
      "Epoch 97/100\n",
      "50/50 [==============================] - 0s 9ms/step - loss: 7.6698e-04 - val_loss: 1.6686e-04\n",
      "Epoch 98/100\n",
      "50/50 [==============================] - 0s 8ms/step - loss: 7.4875e-04 - val_loss: 4.6623e-04\n",
      "Epoch 99/100\n",
      "50/50 [==============================] - 0s 8ms/step - loss: 7.7337e-04 - val_loss: 5.8849e-04\n",
      "Epoch 100/100\n",
      "50/50 [==============================] - 0s 8ms/step - loss: 7.6217e-04 - val_loss: 8.6770e-04\n"
     ]
    },
    {
     "data": {
      "text/plain": [
       "<tensorflow.python.keras.callbacks.History at 0x222598d8880>"
      ]
     },
     "execution_count": 74,
     "metadata": {},
     "output_type": "execute_result"
    }
   ],
   "source": [
    "cnn.fit(X_train,y_train, validation_split=0.2,batch_size = 128, verbose=1,epochs = 100)"
   ]
  },
  {
   "cell_type": "code",
   "execution_count": 75,
   "metadata": {},
   "outputs": [
    {
     "data": {
      "text/plain": [
       "<matplotlib.legend.Legend at 0x2222820ec10>"
      ]
     },
     "execution_count": 75,
     "metadata": {},
     "output_type": "execute_result"
    },
    {
     "data": {
      "image/png": "[encoded data removed]",
      "text/plain": [
       "<Figure size 432x288 with 1 Axes>"
      ]
     },
     "metadata": {
      "needs_background": "light"
     },
     "output_type": "display_data"
    }
   ],
   "source": [
    "# Plotting training and validation losses\n",
    "\n",
    "plt.plot(cnn.history.history['loss'], label = 'loss')\n",
    "plt.plot(cnn.history.history['val_loss'], label = 'val loss')\n",
    "plt.title('CNN Loss')\n",
    "plt.xlabel(\"Epochs\")\n",
    "plt.ylabel(\"Loss\")\n",
    "plt.legend()"
   ]
  },
  {
   "cell_type": "code",
   "execution_count": 76,
   "metadata": {},
   "outputs": [],
   "source": [
    "# Predictions using trained cnn model\n",
    "\n",
    "cnntrainPredict = cnn.predict(X_train)\n",
    "cnntestPredict = cnn.predict(X_test)"
   ]
  },
  {
   "cell_type": "code",
   "execution_count": 77,
   "metadata": {},
   "outputs": [],
   "source": [
    "# Reverse scaling for plotting and rmse\n",
    "\n",
    "cnntrainPredict = scaler_pred.inverse_transform(cnntrainPredict)\n",
    "y_train_cnn = scaler_pred.inverse_transform(y_train.reshape(-1, 1))\n",
    "cnntestPredict = scaler_pred.inverse_transform(cnntestPredict)\n",
    "y_test_cnn = scaler_pred.inverse_transform(y_test.reshape(-1, 1))"
   ]
  },
  {
   "cell_type": "code",
   "execution_count": 78,
   "metadata": {},
   "outputs": [
    {
     "name": "stdout",
     "output_type": "stream",
     "text": [
      "Train RMSE: 311.29\n"
     ]
    }
   ],
   "source": [
    "# Training RMSE\n",
    "\n",
    "train_rmse = np.sqrt(mean_squared_error(y_train_cnn, cnntrainPredict))\n",
    "print('Train RMSE: %.2f' % (train_rmse))"
   ]
  },
  {
   "cell_type": "code",
   "execution_count": 79,
   "metadata": {},
   "outputs": [
    {
     "name": "stdout",
     "output_type": "stream",
     "text": [
      "Test RMSE: 1074.70\n"
     ]
    }
   ],
   "source": [
    "# Test RMSE\n",
    "\n",
    "test_rmse = np.sqrt(mean_squared_error(y_test_cnn, cnntestPredict))\n",
    "print('Test RMSE: %.2f' % (test_rmse))"
   ]
  },
  {
   "cell_type": "code",
   "execution_count": 80,
   "metadata": {},
   "outputs": [
    {
     "data": {
      "image/png": "[encoded data removed]",
      "text/plain": [
       "<Figure size 504x360 with 1 Axes>"
      ]
     },
     "metadata": {
      "needs_background": "light"
     },
     "output_type": "display_data"
    }
   ],
   "source": [
    "# Plotting actual vs predicted prices\n",
    "\n",
    "plt.figure(figsize=(7,5))\n",
    "plt.plot(y_test_cnn, label = 'Actual')\n",
    "plt.plot(cnntestPredict,label = 'Predicted')\n",
    "plt.title('CNN Predictions')\n",
    "plt.xlabel('Days')\n",
    "plt.ylabel('Stock Price')\n",
    "plt.legend()\n",
    "plt.show()"
   ]
  },
  {
   "cell_type": "code",
   "execution_count": 36,
   "metadata": {},
   "outputs": [],
   "source": [
    "#-----------------------  CNN-LSTM model -----------------------------------------------"
   ]
  },
  {
   "cell_type": "code",
   "execution_count": 37,
   "metadata": {},
   "outputs": [
    {
     "name": "stdout",
     "output_type": "stream",
     "text": [
      "(7921, 1, 10, 4)\n"
     ]
    }
   ],
   "source": [
    "# Checking shape\n",
    "\n",
    "print(X_train.shape)"
   ]
  },
  {
   "cell_type": "code",
   "execution_count": 38,
   "metadata": {},
   "outputs": [],
   "source": [
    "# Create CNN-LSTM Model\n",
    "\n",
    "cnn_lstm = tf.keras.Sequential()\n",
    "cnn_lstm.add(TimeDistributed(Conv1D(64, kernel_size=1, activation='relu', input_shape=(1, 10, 4))))\n",
    "cnn_lstm.add(TimeDistributed(MaxPooling1D(2)))\n",
    "cnn_lstm.add(TimeDistributed(Conv1D(64, kernel_size=1, activation='relu')))\n",
    "cnn_lstm.add(TimeDistributed(MaxPooling1D(2)))\n",
    "cnn_lstm.add(TimeDistributed(Flatten()))\n",
    "cnn_lstm.add(Bidirectional(LSTM(100, return_sequences=True)))\n",
    "cnn_lstm.add(Dropout(0.25))\n",
    "cnn_lstm.add(Bidirectional(LSTM(100, return_sequences=False)))\n",
    "cnn_lstm.add(Dropout(0.5))\n",
    "cnn_lstm.add(Dense(1, activation='linear'))\n",
    "cnn_lstm.compile(optimizer='adam', loss='mse')"
   ]
  },
  {
   "cell_type": "code",
   "execution_count": 39,
   "metadata": {},
   "outputs": [
    {
     "name": "stdout",
     "output_type": "stream",
     "text": [
      "Epoch 1/100\n",
      "50/50 [==============================] - 29s 169ms/step - loss: 0.0075 - val_loss: 7.7290e-04\n",
      "Epoch 2/100\n",
      "50/50 [==============================] - 1s 26ms/step - loss: 4.1380e-04 - val_loss: 2.2183e-04\n",
      "Epoch 3/100\n",
      "50/50 [==============================] - 2s 33ms/step - loss: 3.8190e-04 - val_loss: 1.9912e-04\n",
      "Epoch 4/100\n",
      "50/50 [==============================] - 1s 25ms/step - loss: 3.1924e-04 - val_loss: 1.9027e-04\n",
      "Epoch 5/100\n",
      "50/50 [==============================] - 2s 38ms/step - loss: 3.3452e-04 - val_loss: 2.0113e-04\n",
      "Epoch 6/100\n",
      "50/50 [==============================] - 1s 24ms/step - loss: 3.0765e-04 - val_loss: 2.5249e-04\n",
      "Epoch 7/100\n",
      "50/50 [==============================] - 1s 24ms/step - loss: 2.8207e-04 - val_loss: 2.0007e-04\n",
      "Epoch 8/100\n",
      "50/50 [==============================] - 1s 25ms/step - loss: 2.7509e-04 - val_loss: 2.0410e-04\n",
      "Epoch 9/100\n",
      "50/50 [==============================] - 2s 33ms/step - loss: 2.5607e-04 - val_loss: 4.3238e-04\n",
      "Epoch 10/100\n",
      "50/50 [==============================] - 4s 86ms/step - loss: 2.6804e-04 - val_loss: 2.2986e-04\n",
      "Epoch 11/100\n",
      "50/50 [==============================] - 4s 84ms/step - loss: 2.5163e-04 - val_loss: 4.0980e-04\n",
      "Epoch 12/100\n",
      "50/50 [==============================] - 2s 31ms/step - loss: 2.5196e-04 - val_loss: 1.8965e-04\n",
      "Epoch 13/100\n",
      "50/50 [==============================] - 1s 25ms/step - loss: 2.2425e-04 - val_loss: 2.8788e-04\n",
      "Epoch 14/100\n",
      "50/50 [==============================] - 2s 34ms/step - loss: 2.1735e-04 - val_loss: 2.0526e-04\n",
      "Epoch 15/100\n",
      "50/50 [==============================] - 1s 25ms/step - loss: 2.2367e-04 - val_loss: 2.5191e-04\n",
      "Epoch 16/100\n",
      "50/50 [==============================] - 1s 26ms/step - loss: 2.2405e-04 - val_loss: 2.0788e-04\n",
      "Epoch 17/100\n",
      "50/50 [==============================] - 1s 25ms/step - loss: 2.3120e-04 - val_loss: 1.9872e-04\n",
      "Epoch 18/100\n",
      "50/50 [==============================] - 1s 29ms/step - loss: 2.1984e-04 - val_loss: 5.0631e-04\n",
      "Epoch 19/100\n",
      "50/50 [==============================] - 2s 37ms/step - loss: 2.0268e-04 - val_loss: 2.3135e-04\n",
      "Epoch 20/100\n",
      "50/50 [==============================] - 1s 25ms/step - loss: 2.1078e-04 - val_loss: 6.6370e-04\n",
      "Epoch 21/100\n",
      "50/50 [==============================] - 1s 25ms/step - loss: 2.1161e-04 - val_loss: 3.0315e-04\n",
      "Epoch 22/100\n",
      "50/50 [==============================] - 1s 25ms/step - loss: 1.9388e-04 - val_loss: 2.3749e-04\n",
      "Epoch 23/100\n",
      "50/50 [==============================] - 1s 26ms/step - loss: 1.9140e-04 - val_loss: 3.8119e-04\n",
      "Epoch 24/100\n",
      "50/50 [==============================] - 1s 25ms/step - loss: 1.7997e-04 - val_loss: 2.1253e-04\n",
      "Epoch 25/100\n",
      "50/50 [==============================] - 1s 25ms/step - loss: 1.8838e-04 - val_loss: 3.3055e-04\n",
      "Epoch 26/100\n",
      "50/50 [==============================] - 1s 27ms/step - loss: 1.8779e-04 - val_loss: 2.3322e-04\n",
      "Epoch 27/100\n",
      "50/50 [==============================] - 1s 22ms/step - loss: 1.8610e-04 - val_loss: 2.0885e-04\n",
      "Epoch 28/100\n",
      "50/50 [==============================] - 1s 21ms/step - loss: 1.8576e-04 - val_loss: 1.9600e-04\n",
      "Epoch 29/100\n",
      "50/50 [==============================] - 1s 22ms/step - loss: 1.8605e-04 - val_loss: 2.0733e-04\n",
      "Epoch 30/100\n",
      "50/50 [==============================] - 1s 22ms/step - loss: 1.8357e-04 - val_loss: 2.7909e-04\n",
      "Epoch 31/100\n",
      "50/50 [==============================] - 1s 21ms/step - loss: 1.6408e-04 - val_loss: 3.2749e-04\n",
      "Epoch 32/100\n",
      "50/50 [==============================] - 1s 24ms/step - loss: 1.8285e-04 - val_loss: 2.0347e-04\n",
      "Epoch 33/100\n",
      "50/50 [==============================] - 1s 23ms/step - loss: 1.8047e-04 - val_loss: 3.0143e-04\n",
      "Epoch 34/100\n",
      "50/50 [==============================] - 1s 25ms/step - loss: 1.6519e-04 - val_loss: 2.8704e-04\n",
      "Epoch 35/100\n",
      "50/50 [==============================] - 1s 24ms/step - loss: 1.6989e-04 - val_loss: 3.4394e-04\n",
      "Epoch 36/100\n",
      "50/50 [==============================] - 1s 22ms/step - loss: 1.6767e-04 - val_loss: 6.1128e-04\n",
      "Epoch 37/100\n",
      "50/50 [==============================] - 1s 25ms/step - loss: 1.6877e-04 - val_loss: 2.1423e-04\n",
      "Epoch 38/100\n",
      "50/50 [==============================] - 1s 25ms/step - loss: 1.5736e-04 - val_loss: 4.0029e-04\n",
      "Epoch 39/100\n",
      "50/50 [==============================] - 2s 37ms/step - loss: 1.6353e-04 - val_loss: 2.8663e-04\n",
      "Epoch 40/100\n",
      "50/50 [==============================] - 1s 27ms/step - loss: 1.6549e-04 - val_loss: 2.4679e-04\n",
      "Epoch 41/100\n",
      "50/50 [==============================] - 1s 26ms/step - loss: 1.6686e-04 - val_loss: 4.3131e-04\n",
      "Epoch 42/100\n",
      "50/50 [==============================] - 1s 26ms/step - loss: 1.6500e-04 - val_loss: 3.1488e-04\n",
      "Epoch 43/100\n",
      "50/50 [==============================] - 1s 25ms/step - loss: 1.6331e-04 - val_loss: 2.1130e-04\n",
      "Epoch 44/100\n",
      "50/50 [==============================] - 1s 27ms/step - loss: 1.6056e-04 - val_loss: 5.8693e-04\n",
      "Epoch 45/100\n",
      "50/50 [==============================] - 1s 25ms/step - loss: 1.5167e-04 - val_loss: 2.7940e-04\n",
      "Epoch 46/100\n",
      "50/50 [==============================] - 1s 26ms/step - loss: 1.5247e-04 - val_loss: 3.3394e-04\n",
      "Epoch 47/100\n",
      "50/50 [==============================] - 1s 25ms/step - loss: 1.5649e-04 - val_loss: 3.4043e-04\n",
      "Epoch 48/100\n",
      "50/50 [==============================] - 1s 26ms/step - loss: 1.6178e-04 - val_loss: 2.9092e-04\n",
      "Epoch 49/100\n",
      "50/50 [==============================] - 1s 26ms/step - loss: 1.5378e-04 - val_loss: 6.3567e-04\n",
      "Epoch 50/100\n",
      "50/50 [==============================] - 1s 26ms/step - loss: 1.5589e-04 - val_loss: 7.9135e-04\n",
      "Epoch 51/100\n",
      "50/50 [==============================] - 1s 26ms/step - loss: 1.5511e-04 - val_loss: 2.8219e-04\n",
      "Epoch 52/100\n",
      "50/50 [==============================] - 1s 26ms/step - loss: 1.5491e-04 - val_loss: 3.4407e-04\n",
      "Epoch 53/100\n",
      "50/50 [==============================] - 1s 28ms/step - loss: 1.5387e-04 - val_loss: 7.0956e-04\n",
      "Epoch 54/100\n",
      "50/50 [==============================] - 1s 27ms/step - loss: 1.4728e-04 - val_loss: 3.9810e-04\n",
      "Epoch 55/100\n",
      "50/50 [==============================] - 1s 27ms/step - loss: 1.6053e-04 - val_loss: 3.1320e-04\n",
      "Epoch 56/100\n",
      "50/50 [==============================] - 1s 27ms/step - loss: 1.4797e-04 - val_loss: 4.3245e-04\n",
      "Epoch 57/100\n",
      "50/50 [==============================] - 1s 26ms/step - loss: 1.4250e-04 - val_loss: 2.5406e-04\n",
      "Epoch 58/100\n",
      "50/50 [==============================] - 1s 26ms/step - loss: 1.5302e-04 - val_loss: 3.2364e-04\n",
      "Epoch 59/100\n",
      "50/50 [==============================] - 1s 27ms/step - loss: 1.4539e-04 - val_loss: 2.5877e-04\n",
      "Epoch 60/100\n",
      "50/50 [==============================] - 1s 27ms/step - loss: 1.5008e-04 - val_loss: 2.6814e-04\n",
      "Epoch 61/100\n",
      "50/50 [==============================] - 1s 27ms/step - loss: 1.3866e-04 - val_loss: 3.9469e-04\n",
      "Epoch 62/100\n",
      "50/50 [==============================] - 1s 28ms/step - loss: 1.4705e-04 - val_loss: 9.2623e-04\n",
      "Epoch 63/100\n",
      "50/50 [==============================] - 1s 28ms/step - loss: 1.5317e-04 - val_loss: 4.3107e-04\n",
      "Epoch 64/100\n",
      "50/50 [==============================] - 1s 27ms/step - loss: 1.4235e-04 - val_loss: 4.7124e-04\n",
      "Epoch 65/100\n",
      "50/50 [==============================] - 1s 29ms/step - loss: 1.4967e-04 - val_loss: 4.3054e-04\n",
      "Epoch 66/100\n",
      "50/50 [==============================] - 1s 27ms/step - loss: 1.4538e-04 - val_loss: 3.5685e-04\n",
      "Epoch 67/100\n",
      "50/50 [==============================] - 1s 28ms/step - loss: 1.4833e-04 - val_loss: 2.4723e-04\n",
      "Epoch 68/100\n",
      "50/50 [==============================] - 1s 27ms/step - loss: 1.4522e-04 - val_loss: 3.7178e-04\n",
      "Epoch 69/100\n",
      "50/50 [==============================] - 1s 27ms/step - loss: 1.4535e-04 - val_loss: 4.2617e-04\n",
      "Epoch 70/100\n",
      "50/50 [==============================] - 1s 30ms/step - loss: 1.4283e-04 - val_loss: 3.3471e-04\n",
      "Epoch 71/100\n",
      "50/50 [==============================] - 1s 28ms/step - loss: 1.4178e-04 - val_loss: 3.6597e-04\n",
      "Epoch 72/100\n",
      "50/50 [==============================] - 1s 28ms/step - loss: 1.4728e-04 - val_loss: 3.9432e-04\n",
      "Epoch 73/100\n",
      "50/50 [==============================] - 1s 28ms/step - loss: 1.6236e-04 - val_loss: 3.0858e-04\n",
      "Epoch 74/100\n",
      "50/50 [==============================] - 1s 27ms/step - loss: 1.4663e-04 - val_loss: 4.3514e-04\n",
      "Epoch 75/100\n",
      "50/50 [==============================] - 1s 27ms/step - loss: 1.5091e-04 - val_loss: 2.8519e-04\n",
      "Epoch 76/100\n",
      "50/50 [==============================] - 1s 25ms/step - loss: 1.3356e-04 - val_loss: 6.1249e-04\n",
      "Epoch 77/100\n",
      "50/50 [==============================] - 1s 25ms/step - loss: 1.4943e-04 - val_loss: 3.0875e-04\n",
      "Epoch 78/100\n",
      "50/50 [==============================] - 1s 25ms/step - loss: 1.4123e-04 - val_loss: 5.4862e-04\n",
      "Epoch 79/100\n",
      "50/50 [==============================] - 1s 24ms/step - loss: 1.4453e-04 - val_loss: 6.2215e-04\n",
      "Epoch 80/100\n",
      "50/50 [==============================] - 1s 25ms/step - loss: 1.4238e-04 - val_loss: 6.2051e-04\n",
      "Epoch 81/100\n",
      "50/50 [==============================] - 1s 26ms/step - loss: 1.4477e-04 - val_loss: 6.0861e-04\n",
      "Epoch 82/100\n",
      "50/50 [==============================] - 1s 25ms/step - loss: 1.4315e-04 - val_loss: 2.9141e-04\n",
      "Epoch 83/100\n",
      "50/50 [==============================] - 1s 25ms/step - loss: 1.3684e-04 - val_loss: 5.7139e-04\n",
      "Epoch 84/100\n",
      "50/50 [==============================] - 1s 24ms/step - loss: 1.5104e-04 - val_loss: 9.6328e-04\n",
      "Epoch 85/100\n",
      "50/50 [==============================] - 1s 25ms/step - loss: 1.4642e-04 - val_loss: 4.3471e-04\n",
      "Epoch 86/100\n",
      "50/50 [==============================] - 1s 24ms/step - loss: 1.5067e-04 - val_loss: 5.4498e-04\n",
      "Epoch 87/100\n",
      "50/50 [==============================] - 1s 24ms/step - loss: 1.3878e-04 - val_loss: 5.2483e-04\n",
      "Epoch 88/100\n",
      "50/50 [==============================] - 1s 25ms/step - loss: 1.4606e-04 - val_loss: 3.5396e-04\n",
      "Epoch 89/100\n",
      "50/50 [==============================] - 1s 25ms/step - loss: 1.5260e-04 - val_loss: 5.1999e-04\n",
      "Epoch 90/100\n",
      "50/50 [==============================] - 1s 25ms/step - loss: 1.3838e-04 - val_loss: 2.8752e-04\n",
      "Epoch 91/100\n",
      "50/50 [==============================] - 1s 25ms/step - loss: 1.4068e-04 - val_loss: 4.8917e-04\n",
      "Epoch 92/100\n",
      "50/50 [==============================] - 1s 26ms/step - loss: 1.3701e-04 - val_loss: 6.1912e-04\n",
      "Epoch 93/100\n",
      "50/50 [==============================] - 1s 25ms/step - loss: 1.4229e-04 - val_loss: 5.8971e-04\n",
      "Epoch 94/100\n",
      "50/50 [==============================] - 1s 26ms/step - loss: 1.5510e-04 - val_loss: 3.1785e-04\n",
      "Epoch 95/100\n",
      "50/50 [==============================] - 1s 25ms/step - loss: 1.5546e-04 - val_loss: 3.3127e-04\n",
      "Epoch 96/100\n",
      "50/50 [==============================] - 1s 26ms/step - loss: 1.4218e-04 - val_loss: 4.0948e-04\n",
      "Epoch 97/100\n",
      "50/50 [==============================] - 1s 25ms/step - loss: 1.4273e-04 - val_loss: 4.7366e-04\n",
      "Epoch 98/100\n",
      "50/50 [==============================] - 1s 27ms/step - loss: 1.4721e-04 - val_loss: 8.0324e-04\n",
      "Epoch 99/100\n",
      "50/50 [==============================] - 1s 25ms/step - loss: 1.3598e-04 - val_loss: 2.7948e-04\n",
      "Epoch 100/100\n",
      "50/50 [==============================] - 1s 25ms/step - loss: 1.5501e-04 - val_loss: 3.7309e-04\n"
     ]
    },
    {
     "data": {
      "text/plain": [
       "<tensorflow.python.keras.callbacks.History at 0x22239fdf850>"
      ]
     },
     "execution_count": 39,
     "metadata": {},
     "output_type": "execute_result"
    }
   ],
   "source": [
    "# Training the model \n",
    "\n",
    "cnn_lstm.fit(X_train, y_train, validation_split=0.2, epochs=100, batch_size=128, verbose=1)"
   ]
  },
  {
   "cell_type": "code",
   "execution_count": 40,
   "metadata": {},
   "outputs": [
    {
     "data": {
      "text/plain": [
       "<matplotlib.legend.Legend at 0x2224a1a73a0>"
      ]
     },
     "execution_count": 40,
     "metadata": {},
     "output_type": "execute_result"
    },
    {
     "data": {
      "image/png": "[encoded data removed]",
      "text/plain": [
       "<Figure size 432x288 with 1 Axes>"
      ]
     },
     "metadata": {
      "needs_background": "light"
     },
     "output_type": "display_data"
    }
   ],
   "source": [
    "# Plotting training and validation losses\n",
    "\n",
    "plt.plot(cnn_lstm.history.history['loss'], label='train loss')\n",
    "plt.plot(cnn_lstm.history.history['val_loss'], label='val loss')\n",
    "plt.title('CNN-LSTM Loss')\n",
    "plt.xlabel(\"Epochs\")\n",
    "plt.ylabel(\"Loss\")\n",
    "plt.legend()"
   ]
  },
  {
   "cell_type": "code",
   "execution_count": 41,
   "metadata": {},
   "outputs": [],
   "source": [
    "# Predictions using trained cnn-lstm model\n",
    "\n",
    "trainPredict = cnn_lstm.predict(X_train)\n",
    "testPredict = cnn_lstm.predict(X_test)"
   ]
  },
  {
   "cell_type": "code",
   "execution_count": 42,
   "metadata": {},
   "outputs": [],
   "source": [
    "# Reverse scaling for plotting and rmse\n",
    "\n",
    "cnnlstm_trainPredict = scaler_pred.inverse_transform(trainPredict)\n",
    "y_train_cnnlstm = scaler_pred.inverse_transform(y_train.reshape(-1, 1))\n",
    "cnnlstm_testPredict = scaler_pred.inverse_transform(testPredict)\n",
    "y_test_cnnlstm = scaler_pred.inverse_transform(y_test.reshape(-1, 1))"
   ]
  },
  {
   "cell_type": "code",
   "execution_count": 43,
   "metadata": {},
   "outputs": [
    {
     "name": "stdout",
     "output_type": "stream",
     "text": [
      "Train RMSE: 165.06\n"
     ]
    }
   ],
   "source": [
    "# Training RMSE\n",
    "\n",
    "train_rmse = np.sqrt(mean_squared_error(y_train_cnnlstm, cnnlstm_trainPredict))\n",
    "print('Train RMSE: %.2f' % (train_rmse))"
   ]
  },
  {
   "cell_type": "code",
   "execution_count": 44,
   "metadata": {},
   "outputs": [
    {
     "name": "stdout",
     "output_type": "stream",
     "text": [
      "Test RMSE: 1565.51\n"
     ]
    }
   ],
   "source": [
    "# Test RMSE\n",
    "\n",
    "test_rmse = np.sqrt(mean_squared_error(y_test_cnnlstm, cnnlstm_testPredict))\n",
    "print('Test RMSE: %.2f' % (test_rmse))"
   ]
  },
  {
   "cell_type": "code",
   "execution_count": 45,
   "metadata": {},
   "outputs": [
    {
     "data": {
      "image/png": "[encoded data removed]",
      "text/plain": [
       "<Figure size 504x360 with 1 Axes>"
      ]
     },
     "metadata": {
      "needs_background": "light"
     },
     "output_type": "display_data"
    }
   ],
   "source": [
    "# Plotting actual vs predicted prices\n",
    "\n",
    "plt.figure(figsize=(7,5))\n",
    "plt.plot(y_test_cnnlstm, label = 'Actual')\n",
    "plt.plot(cnnlstm_testPredict,label = 'Predicted')\n",
    "plt.title('CNN-LSTM Predictions')\n",
    "plt.xlabel('Days')\n",
    "plt.ylabel('Stock Price')\n",
    "plt.legend()\n",
    "plt.show()"
   ]
  },
  {
   "cell_type": "code",
   "execution_count": 46,
   "metadata": {},
   "outputs": [],
   "source": [
    "#-------------------  GRU Model  --------------------------------------------"
   ]
  },
  {
   "cell_type": "code",
   "execution_count": 47,
   "metadata": {},
   "outputs": [
    {
     "data": {
      "text/plain": [
       "(7921, 1, 10, 4)"
      ]
     },
     "execution_count": 47,
     "metadata": {},
     "output_type": "execute_result"
    }
   ],
   "source": [
    "# Checking shape of training data\n",
    "\n",
    "X_train.shape"
   ]
  },
  {
   "cell_type": "code",
   "execution_count": 48,
   "metadata": {},
   "outputs": [],
   "source": [
    "# reshape input to be suitable for GRU\n",
    "\n",
    "X_train = X_train.reshape(X_train.shape[0], X_train.shape[2], X_train.shape[3]) \n",
    "X_test = X_test.reshape(X_test.shape[0], X_test.shape[2], X_test.shape[3])    "
   ]
  },
  {
   "cell_type": "code",
   "execution_count": 49,
   "metadata": {},
   "outputs": [],
   "source": [
    "# Create GRU Model\n",
    "\n",
    "gru = Sequential()\n",
    "gru.add(GRU(units=50, return_sequences=True, input_shape=(10, 4), activation='tanh'))\n",
    "gru.add(GRU(units=50, return_sequences=True, input_shape=(10, 4), activation='tanh'))\n",
    "gru.add(Dropout(0.2))\n",
    "gru.add(GRU(units=50, activation='tanh'))\n",
    "gru.add(Dropout(0.2))\n",
    "gru.add(Dense(units=1))"
   ]
  },
  {
   "cell_type": "code",
   "execution_count": 50,
   "metadata": {},
   "outputs": [
    {
     "name": "stdout",
     "output_type": "stream",
     "text": [
      "Epoch 1/100\n",
      "50/50 [==============================] - 22s 114ms/step - loss: 0.0089 - val_loss: 0.0054\n",
      "Epoch 2/100\n",
      "50/50 [==============================] - 3s 56ms/step - loss: 7.7530e-04 - val_loss: 2.1491e-04\n",
      "Epoch 3/100\n",
      "50/50 [==============================] - 3s 56ms/step - loss: 5.4268e-04 - val_loss: 3.3160e-04\n",
      "Epoch 4/100\n",
      "50/50 [==============================] - 3s 56ms/step - loss: 4.9829e-04 - val_loss: 1.8770e-04\n",
      "Epoch 5/100\n",
      "50/50 [==============================] - 3s 55ms/step - loss: 4.5908e-04 - val_loss: 1.9983e-04\n",
      "Epoch 6/100\n",
      "50/50 [==============================] - 3s 55ms/step - loss: 4.3626e-04 - val_loss: 2.2628e-04\n",
      "Epoch 7/100\n",
      "50/50 [==============================] - 3s 56ms/step - loss: 4.2139e-04 - val_loss: 1.8600e-04\n",
      "Epoch 8/100\n",
      "50/50 [==============================] - 3s 56ms/step - loss: 4.1550e-04 - val_loss: 1.5920e-04\n",
      "Epoch 9/100\n",
      "50/50 [==============================] - 3s 56ms/step - loss: 3.8352e-04 - val_loss: 1.3570e-04\n",
      "Epoch 10/100\n",
      "50/50 [==============================] - 3s 56ms/step - loss: 3.7965e-04 - val_loss: 1.4733e-04\n",
      "Epoch 11/100\n",
      "50/50 [==============================] - 3s 55ms/step - loss: 3.5298e-04 - val_loss: 1.3647e-04\n",
      "Epoch 12/100\n",
      "50/50 [==============================] - 3s 56ms/step - loss: 3.4858e-04 - val_loss: 1.6633e-04\n",
      "Epoch 13/100\n",
      "50/50 [==============================] - 3s 56ms/step - loss: 3.3918e-04 - val_loss: 1.5065e-04\n",
      "Epoch 14/100\n",
      "50/50 [==============================] - 3s 56ms/step - loss: 3.2412e-04 - val_loss: 1.4773e-04\n",
      "Epoch 15/100\n",
      "50/50 [==============================] - 3s 56ms/step - loss: 3.4067e-04 - val_loss: 1.6066e-04\n",
      "Epoch 16/100\n",
      "50/50 [==============================] - 3s 57ms/step - loss: 3.0629e-04 - val_loss: 1.5559e-04\n",
      "Epoch 17/100\n",
      "50/50 [==============================] - 3s 57ms/step - loss: 3.0321e-04 - val_loss: 1.4237e-04\n",
      "Epoch 18/100\n",
      "50/50 [==============================] - 3s 55ms/step - loss: 3.1122e-04 - val_loss: 1.4914e-04\n",
      "Epoch 19/100\n",
      "50/50 [==============================] - 3s 56ms/step - loss: 3.0977e-04 - val_loss: 1.5805e-04\n",
      "Epoch 20/100\n",
      "50/50 [==============================] - 3s 56ms/step - loss: 3.0033e-04 - val_loss: 1.3293e-04\n",
      "Epoch 21/100\n",
      "50/50 [==============================] - 3s 56ms/step - loss: 3.1658e-04 - val_loss: 1.6916e-04\n",
      "Epoch 22/100\n",
      "50/50 [==============================] - 3s 55ms/step - loss: 2.8152e-04 - val_loss: 1.8408e-04\n",
      "Epoch 23/100\n",
      "50/50 [==============================] - 3s 55ms/step - loss: 2.9149e-04 - val_loss: 1.8821e-04\n",
      "Epoch 24/100\n",
      "50/50 [==============================] - 3s 55ms/step - loss: 2.8451e-04 - val_loss: 1.5196e-04\n",
      "Epoch 25/100\n",
      "50/50 [==============================] - 3s 56ms/step - loss: 2.8295e-04 - val_loss: 1.5529e-04\n",
      "Epoch 26/100\n",
      "50/50 [==============================] - 3s 56ms/step - loss: 2.7617e-04 - val_loss: 1.2366e-04\n",
      "Epoch 27/100\n",
      "50/50 [==============================] - 3s 56ms/step - loss: 2.7819e-04 - val_loss: 1.5705e-04\n",
      "Epoch 28/100\n",
      "50/50 [==============================] - 3s 55ms/step - loss: 2.7914e-04 - val_loss: 1.7845e-04\n",
      "Epoch 29/100\n",
      "50/50 [==============================] - 3s 55ms/step - loss: 2.6933e-04 - val_loss: 1.2597e-04\n",
      "Epoch 30/100\n",
      "50/50 [==============================] - 3s 55ms/step - loss: 2.5760e-04 - val_loss: 1.2247e-04\n",
      "Epoch 31/100\n",
      "50/50 [==============================] - 3s 56ms/step - loss: 2.6192e-04 - val_loss: 1.4643e-04\n",
      "Epoch 32/100\n",
      "50/50 [==============================] - 3s 57ms/step - loss: 2.5587e-04 - val_loss: 1.4567e-04\n",
      "Epoch 33/100\n",
      "50/50 [==============================] - 3s 56ms/step - loss: 2.6442e-04 - val_loss: 1.5545e-04\n",
      "Epoch 34/100\n",
      "50/50 [==============================] - 3s 55ms/step - loss: 2.6313e-04 - val_loss: 1.5377e-04\n",
      "Epoch 35/100\n",
      "50/50 [==============================] - 3s 56ms/step - loss: 2.5710e-04 - val_loss: 1.5493e-04\n",
      "Epoch 36/100\n",
      "50/50 [==============================] - 3s 56ms/step - loss: 2.6066e-04 - val_loss: 1.4605e-04\n",
      "Epoch 37/100\n",
      "50/50 [==============================] - 3s 56ms/step - loss: 2.6624e-04 - val_loss: 1.2220e-04\n",
      "Epoch 38/100\n",
      "50/50 [==============================] - 3s 55ms/step - loss: 2.5886e-04 - val_loss: 1.3641e-04\n",
      "Epoch 39/100\n",
      "50/50 [==============================] - 3s 55ms/step - loss: 2.3848e-04 - val_loss: 1.5354e-04\n",
      "Epoch 40/100\n",
      "50/50 [==============================] - 3s 56ms/step - loss: 2.4697e-04 - val_loss: 1.7732e-04\n",
      "Epoch 41/100\n",
      "50/50 [==============================] - 3s 56ms/step - loss: 2.5277e-04 - val_loss: 1.4166e-04\n",
      "Epoch 42/100\n",
      "50/50 [==============================] - 3s 55ms/step - loss: 2.4880e-04 - val_loss: 1.4334e-04\n",
      "Epoch 43/100\n",
      "50/50 [==============================] - 3s 55ms/step - loss: 2.4821e-04 - val_loss: 1.3054e-04\n",
      "Epoch 44/100\n",
      "50/50 [==============================] - 3s 55ms/step - loss: 2.5800e-04 - val_loss: 1.6281e-04\n",
      "Epoch 45/100\n",
      "50/50 [==============================] - 3s 57ms/step - loss: 2.4109e-04 - val_loss: 1.4495e-04\n",
      "Epoch 46/100\n",
      "50/50 [==============================] - 3s 55ms/step - loss: 2.2901e-04 - val_loss: 1.3206e-04\n",
      "Epoch 47/100\n",
      "50/50 [==============================] - 3s 55ms/step - loss: 2.4142e-04 - val_loss: 1.3030e-04\n",
      "Epoch 48/100\n",
      "50/50 [==============================] - 3s 56ms/step - loss: 2.4677e-04 - val_loss: 1.4586e-04\n",
      "Epoch 49/100\n",
      "50/50 [==============================] - 3s 58ms/step - loss: 2.4112e-04 - val_loss: 1.6437e-04\n",
      "Epoch 50/100\n",
      "50/50 [==============================] - 3s 58ms/step - loss: 2.3104e-04 - val_loss: 1.5386e-04\n",
      "Epoch 51/100\n",
      "50/50 [==============================] - 3s 59ms/step - loss: 2.4194e-04 - val_loss: 1.5815e-04\n",
      "Epoch 52/100\n",
      "50/50 [==============================] - 3s 57ms/step - loss: 2.2355e-04 - val_loss: 1.6834e-04\n",
      "Epoch 53/100\n",
      "50/50 [==============================] - 3s 57ms/step - loss: 2.2935e-04 - val_loss: 1.4364e-04\n",
      "Epoch 54/100\n",
      "50/50 [==============================] - 3s 55ms/step - loss: 2.2939e-04 - val_loss: 1.3621e-04\n",
      "Epoch 55/100\n",
      "50/50 [==============================] - 3s 57ms/step - loss: 2.2944e-04 - val_loss: 1.4709e-04\n",
      "Epoch 56/100\n",
      "50/50 [==============================] - 3s 58ms/step - loss: 2.3948e-04 - val_loss: 1.1399e-04\n",
      "Epoch 57/100\n",
      "50/50 [==============================] - 3s 58ms/step - loss: 2.3127e-04 - val_loss: 1.1193e-04\n",
      "Epoch 58/100\n",
      "50/50 [==============================] - 3s 57ms/step - loss: 2.2664e-04 - val_loss: 1.2239e-04\n",
      "Epoch 59/100\n",
      "50/50 [==============================] - 3s 56ms/step - loss: 2.2988e-04 - val_loss: 1.6155e-04\n",
      "Epoch 60/100\n",
      "50/50 [==============================] - 3s 57ms/step - loss: 2.2428e-04 - val_loss: 1.4282e-04\n",
      "Epoch 61/100\n",
      "50/50 [==============================] - 3s 58ms/step - loss: 2.2126e-04 - val_loss: 1.3643e-04\n",
      "Epoch 62/100\n",
      "50/50 [==============================] - 3s 57ms/step - loss: 2.2699e-04 - val_loss: 1.1831e-04\n",
      "Epoch 63/100\n",
      "50/50 [==============================] - 3s 57ms/step - loss: 2.2695e-04 - val_loss: 1.2268e-04\n",
      "Epoch 64/100\n",
      "50/50 [==============================] - 3s 57ms/step - loss: 2.1922e-04 - val_loss: 1.3319e-04\n",
      "Epoch 65/100\n",
      "50/50 [==============================] - 3s 57ms/step - loss: 2.2498e-04 - val_loss: 1.3926e-04\n",
      "Epoch 66/100\n",
      "50/50 [==============================] - 3s 55ms/step - loss: 2.1873e-04 - val_loss: 1.3971e-04\n",
      "Epoch 67/100\n",
      "50/50 [==============================] - 3s 57ms/step - loss: 2.2240e-04 - val_loss: 1.0725e-04\n",
      "Epoch 68/100\n",
      "50/50 [==============================] - 3s 58ms/step - loss: 2.2458e-04 - val_loss: 1.2457e-04\n",
      "Epoch 69/100\n",
      "50/50 [==============================] - 3s 57ms/step - loss: 2.1218e-04 - val_loss: 1.3541e-04\n",
      "Epoch 70/100\n",
      "50/50 [==============================] - 3s 56ms/step - loss: 2.1023e-04 - val_loss: 1.5694e-04\n",
      "Epoch 71/100\n",
      "50/50 [==============================] - 3s 55ms/step - loss: 2.0512e-04 - val_loss: 1.3617e-04\n",
      "Epoch 72/100\n",
      "50/50 [==============================] - 3s 55ms/step - loss: 2.1540e-04 - val_loss: 1.4005e-04\n",
      "Epoch 73/100\n",
      "50/50 [==============================] - 3s 57ms/step - loss: 2.2408e-04 - val_loss: 1.2617e-04\n",
      "Epoch 74/100\n",
      "50/50 [==============================] - 3s 55ms/step - loss: 2.1956e-04 - val_loss: 1.2126e-04\n",
      "Epoch 75/100\n",
      "50/50 [==============================] - 3s 57ms/step - loss: 2.1056e-04 - val_loss: 1.3778e-04\n",
      "Epoch 76/100\n",
      "50/50 [==============================] - 3s 57ms/step - loss: 2.1818e-04 - val_loss: 1.1499e-04\n",
      "Epoch 77/100\n",
      "50/50 [==============================] - 3s 57ms/step - loss: 2.1010e-04 - val_loss: 1.3034e-04\n",
      "Epoch 78/100\n",
      "50/50 [==============================] - 3s 57ms/step - loss: 2.0967e-04 - val_loss: 1.0942e-04\n",
      "Epoch 79/100\n",
      "50/50 [==============================] - 3s 56ms/step - loss: 2.1160e-04 - val_loss: 1.3744e-04\n",
      "Epoch 80/100\n",
      "50/50 [==============================] - 3s 57ms/step - loss: 2.1234e-04 - val_loss: 1.0556e-04\n",
      "Epoch 81/100\n",
      "50/50 [==============================] - 3s 57ms/step - loss: 2.1386e-04 - val_loss: 1.2252e-04\n",
      "Epoch 82/100\n",
      "50/50 [==============================] - 3s 57ms/step - loss: 2.0879e-04 - val_loss: 1.2868e-04\n",
      "Epoch 83/100\n",
      "50/50 [==============================] - 3s 57ms/step - loss: 2.0818e-04 - val_loss: 1.8591e-04\n",
      "Epoch 84/100\n",
      "50/50 [==============================] - 3s 57ms/step - loss: 2.1136e-04 - val_loss: 1.4346e-04\n",
      "Epoch 85/100\n",
      "50/50 [==============================] - 3s 57ms/step - loss: 2.0883e-04 - val_loss: 1.7484e-04\n",
      "Epoch 86/100\n",
      "50/50 [==============================] - 3s 57ms/step - loss: 2.0944e-04 - val_loss: 1.1482e-04\n",
      "Epoch 87/100\n",
      "50/50 [==============================] - 3s 56ms/step - loss: 2.1203e-04 - val_loss: 1.2848e-04\n",
      "Epoch 88/100\n",
      "50/50 [==============================] - 3s 55ms/step - loss: 2.0269e-04 - val_loss: 1.5139e-04\n",
      "Epoch 89/100\n",
      "50/50 [==============================] - 3s 56ms/step - loss: 2.0737e-04 - val_loss: 1.2723e-04\n",
      "Epoch 90/100\n",
      "50/50 [==============================] - 3s 56ms/step - loss: 2.1921e-04 - val_loss: 1.2391e-04\n",
      "Epoch 91/100\n",
      "50/50 [==============================] - 3s 56ms/step - loss: 2.0428e-04 - val_loss: 1.3771e-04\n",
      "Epoch 92/100\n",
      "50/50 [==============================] - 3s 55ms/step - loss: 2.0354e-04 - val_loss: 1.4492e-04\n",
      "Epoch 93/100\n",
      "50/50 [==============================] - 3s 53ms/step - loss: 2.0309e-04 - val_loss: 1.4726e-04\n",
      "Epoch 94/100\n",
      "50/50 [==============================] - 3s 53ms/step - loss: 2.0679e-04 - val_loss: 1.4215e-04\n",
      "Epoch 95/100\n",
      "50/50 [==============================] - 3s 56ms/step - loss: 1.9849e-04 - val_loss: 1.1840e-04\n",
      "Epoch 96/100\n",
      "50/50 [==============================] - 3s 56ms/step - loss: 2.0600e-04 - val_loss: 1.2724e-04\n",
      "Epoch 97/100\n",
      "50/50 [==============================] - 3s 55ms/step - loss: 1.9944e-04 - val_loss: 1.2242e-04\n",
      "Epoch 98/100\n",
      "50/50 [==============================] - 3s 56ms/step - loss: 1.9987e-04 - val_loss: 1.3180e-04\n",
      "Epoch 99/100\n",
      "50/50 [==============================] - 3s 57ms/step - loss: 2.0135e-04 - val_loss: 1.2942e-04\n",
      "Epoch 100/100\n",
      "50/50 [==============================] - 3s 56ms/step - loss: 2.0538e-04 - val_loss: 1.5909e-04\n"
     ]
    },
    {
     "data": {
      "text/plain": [
       "<tensorflow.python.keras.callbacks.History at 0x2224d896670>"
      ]
     },
     "execution_count": 50,
     "metadata": {},
     "output_type": "execute_result"
    }
   ],
   "source": [
    "# Compile and train model\n",
    "\n",
    "gru.compile(optimizer=SGD(learning_rate = 0.01, decay=1e-7, momentum=0.9, nesterov=False), loss='mean_squared_error')\n",
    "gru.fit(X_train, y_train, validation_split=0.2, epochs=100, batch_size=128, verbose=1)"
   ]
  },
  {
   "cell_type": "code",
   "execution_count": 51,
   "metadata": {},
   "outputs": [
    {
     "data": {
      "text/plain": [
       "<matplotlib.legend.Legend at 0x2224cf6a940>"
      ]
     },
     "execution_count": 51,
     "metadata": {},
     "output_type": "execute_result"
    },
    {
     "data": {
      "image/png": "[encoded data removed]",
      "text/plain": [
       "<Figure size 432x288 with 1 Axes>"
      ]
     },
     "metadata": {
      "needs_background": "light"
     },
     "output_type": "display_data"
    }
   ],
   "source": [
    "# Plotting training and validation losses\n",
    "\n",
    "plt.plot(gru.history.history['loss'], label='train loss')\n",
    "plt.plot(gru.history.history['val_loss'], label='val loss')\n",
    "plt.title('GRU Loss')\n",
    "plt.xlabel(\"Epochs\")\n",
    "plt.ylabel(\"Loss\")\n",
    "plt.legend()"
   ]
  },
  {
   "cell_type": "code",
   "execution_count": 52,
   "metadata": {},
   "outputs": [],
   "source": [
    "# Predictions using trained gru model\n",
    "\n",
    "gru_trainPredict = gru.predict(X_train)\n",
    "gru_testPredict = gru.predict(X_test)"
   ]
  },
  {
   "cell_type": "code",
   "execution_count": 53,
   "metadata": {},
   "outputs": [],
   "source": [
    "# Rescale for plotting \n",
    "\n",
    "gru_trainPredict = scaler_pred.inverse_transform(gru_trainPredict)\n",
    "y_train_gru = scaler_pred.inverse_transform(y_train.reshape(-1, 1))\n",
    "gru_testPredict = scaler_pred.inverse_transform(gru_testPredict)\n",
    "y_test_gru = scaler_pred.inverse_transform(y_test.reshape(-1, 1))"
   ]
  },
  {
   "cell_type": "code",
   "execution_count": 54,
   "metadata": {},
   "outputs": [
    {
     "name": "stdout",
     "output_type": "stream",
     "text": [
      "Train RMSE: 115.76\n"
     ]
    }
   ],
   "source": [
    "# Training RMSE\n",
    "\n",
    "train_rmse = np.sqrt(mean_squared_error(y_train_gru, gru_trainPredict))\n",
    "print('Train RMSE: %.2f' % (train_rmse))"
   ]
  },
  {
   "cell_type": "code",
   "execution_count": 55,
   "metadata": {},
   "outputs": [
    {
     "name": "stdout",
     "output_type": "stream",
     "text": [
      "Test RMSE: 414.53\n"
     ]
    }
   ],
   "source": [
    "# Test RMSE\n",
    "\n",
    "test_rmse = np.sqrt(mean_squared_error(y_test_gru, gru_testPredict))\n",
    "print('Test RMSE: %.2f' % (test_rmse))"
   ]
  },
  {
   "cell_type": "code",
   "execution_count": 56,
   "metadata": {},
   "outputs": [
    {
     "data": {
      "image/png": "[encoded data removed]",
      "text/plain": [
       "<Figure size 504x360 with 1 Axes>"
      ]
     },
     "metadata": {
      "needs_background": "light"
     },
     "output_type": "display_data"
    }
   ],
   "source": [
    "# Plotting actual vs predicted prices\n",
    "\n",
    "plt.figure(figsize=(7,5))\n",
    "plt.plot(y_test_gru, label = 'Actual')\n",
    "plt.plot(gru_testPredict,label = 'Predicted')\n",
    "plt.title('GRU Predictions')\n",
    "plt.xlabel('Days')\n",
    "plt.ylabel('Stock Price')\n",
    "plt.legend()\n",
    "plt.show()"
   ]
  },
  {
   "cell_type": "code",
   "execution_count": null,
   "metadata": {},
   "outputs": [],
   "source": []
  },
  {
   "cell_type": "code",
   "execution_count": null,
   "metadata": {},
   "outputs": [],
   "source": []
  }
 ],
 "metadata": {
  "kernelspec": {
   "display_name": "Python 3 (ipykernel)",
   "language": "python",
   "name": "python3"
  },
  "language_info": {
   "codemirror_mode": {
    "name": "ipython",
    "version": 3
   },
   "file_extension": ".py",
   "mimetype": "text/x-python",
   "name": "python",
   "nbconvert_exporter": "python",
   "pygments_lexer": "ipython3",
   "version": "3.9.7"
  }
 },
 "nbformat": 4,
 "nbformat_minor": 4
}
