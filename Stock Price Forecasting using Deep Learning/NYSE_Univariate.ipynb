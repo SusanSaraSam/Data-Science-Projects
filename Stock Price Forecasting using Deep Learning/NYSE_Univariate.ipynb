{
 "cells": [
  {
   "cell_type": "code",
   "execution_count": 1,
   "metadata": {},
   "outputs": [],
   "source": [
    "import numpy as np\n",
    "import pandas as pd\n",
    "import matplotlib.pyplot as plt\n",
    "from sklearn.preprocessing import MinMaxScaler\n",
    "from tensorflow.keras.models import Sequential\n",
    "from tensorflow.keras.layers import Dense, LSTM, Dropout, GRU\n",
    "from tensorflow.keras.layers import Activation, Flatten, Dropout, TimeDistributed, Bidirectional\n",
    "from tensorflow.keras.layers import Conv1D, Conv2D, MaxPooling2D, MaxPooling1D\n",
    "from tensorflow.keras.callbacks import ModelCheckpoint, EarlyStopping\n",
    "from tensorflow.keras.optimizers import Adam, SGD\n",
    "from sklearn.metrics import mean_squared_error\n",
    "import tensorflow as tf\n",
    "tf.keras.regularizers.l2(l=0.01)\n",
    "tf.keras.regularizers.l1(l=0.01)\n",
    "%matplotlib inline\n",
    "np.random.seed(45)"
   ]
  },
  {
   "cell_type": "code",
   "execution_count": 62,
   "metadata": {},
   "outputs": [
    {
     "data": {
      "text/html": [
       "<div>\n",
       "<style scoped>\n",
       "    .dataframe tbody tr th:only-of-type {\n",
       "        vertical-align: middle;\n",
       "    }\n",
       "\n",
       "    .dataframe tbody tr th {\n",
       "        vertical-align: top;\n",
       "    }\n",
       "\n",
       "    .dataframe thead th {\n",
       "        text-align: right;\n",
       "    }\n",
       "</style>\n",
       "<table border=\"1\" class=\"dataframe\">\n",
       "  <thead>\n",
       "    <tr style=\"text-align: right;\">\n",
       "      <th></th>\n",
       "      <th>Date</th>\n",
       "      <th>Open</th>\n",
       "      <th>High</th>\n",
       "      <th>Low</th>\n",
       "      <th>Close</th>\n",
       "      <th>Adj Close</th>\n",
       "      <th>Volume</th>\n",
       "    </tr>\n",
       "  </thead>\n",
       "  <tbody>\n",
       "    <tr>\n",
       "      <th>0</th>\n",
       "      <td>1980-01-02</td>\n",
       "      <td>641.719971</td>\n",
       "      <td>641.719971</td>\n",
       "      <td>641.719971</td>\n",
       "      <td>641.719971</td>\n",
       "      <td>641.719971</td>\n",
       "      <td>0</td>\n",
       "    </tr>\n",
       "    <tr>\n",
       "      <th>1</th>\n",
       "      <td>1980-01-03</td>\n",
       "      <td>638.020020</td>\n",
       "      <td>638.020020</td>\n",
       "      <td>638.020020</td>\n",
       "      <td>638.020020</td>\n",
       "      <td>638.020020</td>\n",
       "      <td>0</td>\n",
       "    </tr>\n",
       "    <tr>\n",
       "      <th>2</th>\n",
       "      <td>1980-01-04</td>\n",
       "      <td>646.799988</td>\n",
       "      <td>646.799988</td>\n",
       "      <td>646.799988</td>\n",
       "      <td>646.799988</td>\n",
       "      <td>646.799988</td>\n",
       "      <td>0</td>\n",
       "    </tr>\n",
       "    <tr>\n",
       "      <th>3</th>\n",
       "      <td>1980-01-07</td>\n",
       "      <td>649.229980</td>\n",
       "      <td>649.229980</td>\n",
       "      <td>649.229980</td>\n",
       "      <td>649.229980</td>\n",
       "      <td>649.229980</td>\n",
       "      <td>0</td>\n",
       "    </tr>\n",
       "    <tr>\n",
       "      <th>4</th>\n",
       "      <td>1980-01-08</td>\n",
       "      <td>661.809998</td>\n",
       "      <td>661.809998</td>\n",
       "      <td>661.809998</td>\n",
       "      <td>661.809998</td>\n",
       "      <td>661.809998</td>\n",
       "      <td>0</td>\n",
       "    </tr>\n",
       "  </tbody>\n",
       "</table>\n",
       "</div>"
      ],
      "text/plain": [
       "         Date        Open        High         Low       Close   Adj Close  \\\n",
       "0  1980-01-02  641.719971  641.719971  641.719971  641.719971  641.719971   \n",
       "1  1980-01-03  638.020020  638.020020  638.020020  638.020020  638.020020   \n",
       "2  1980-01-04  646.799988  646.799988  646.799988  646.799988  646.799988   \n",
       "3  1980-01-07  649.229980  649.229980  649.229980  649.229980  649.229980   \n",
       "4  1980-01-08  661.809998  661.809998  661.809998  661.809998  661.809998   \n",
       "\n",
       "   Volume  \n",
       "0       0  \n",
       "1       0  \n",
       "2       0  \n",
       "3       0  \n",
       "4       0  "
      ]
     },
     "execution_count": 62,
     "metadata": {},
     "output_type": "execute_result"
    }
   ],
   "source": [
    "# Reading the dataset\n",
    "\n",
    "data = pd.read_csv('NYSE-Composite Index.csv')\n",
    "data.head(5)"
   ]
  },
  {
   "cell_type": "code",
   "execution_count": 63,
   "metadata": {},
   "outputs": [
    {
     "data": {
      "text/html": [
       "<div>\n",
       "<style scoped>\n",
       "    .dataframe tbody tr th:only-of-type {\n",
       "        vertical-align: middle;\n",
       "    }\n",
       "\n",
       "    .dataframe tbody tr th {\n",
       "        vertical-align: top;\n",
       "    }\n",
       "\n",
       "    .dataframe thead th {\n",
       "        text-align: right;\n",
       "    }\n",
       "</style>\n",
       "<table border=\"1\" class=\"dataframe\">\n",
       "  <thead>\n",
       "    <tr style=\"text-align: right;\">\n",
       "      <th></th>\n",
       "      <th>Open</th>\n",
       "      <th>High</th>\n",
       "      <th>Low</th>\n",
       "      <th>Close</th>\n",
       "    </tr>\n",
       "  </thead>\n",
       "  <tbody>\n",
       "    <tr>\n",
       "      <th>0</th>\n",
       "      <td>641.719971</td>\n",
       "      <td>641.719971</td>\n",
       "      <td>641.719971</td>\n",
       "      <td>641.719971</td>\n",
       "    </tr>\n",
       "    <tr>\n",
       "      <th>1</th>\n",
       "      <td>638.020020</td>\n",
       "      <td>638.020020</td>\n",
       "      <td>638.020020</td>\n",
       "      <td>638.020020</td>\n",
       "    </tr>\n",
       "    <tr>\n",
       "      <th>2</th>\n",
       "      <td>646.799988</td>\n",
       "      <td>646.799988</td>\n",
       "      <td>646.799988</td>\n",
       "      <td>646.799988</td>\n",
       "    </tr>\n",
       "    <tr>\n",
       "      <th>3</th>\n",
       "      <td>649.229980</td>\n",
       "      <td>649.229980</td>\n",
       "      <td>649.229980</td>\n",
       "      <td>649.229980</td>\n",
       "    </tr>\n",
       "    <tr>\n",
       "      <th>4</th>\n",
       "      <td>661.809998</td>\n",
       "      <td>661.809998</td>\n",
       "      <td>661.809998</td>\n",
       "      <td>661.809998</td>\n",
       "    </tr>\n",
       "  </tbody>\n",
       "</table>\n",
       "</div>"
      ],
      "text/plain": [
       "         Open        High         Low       Close\n",
       "0  641.719971  641.719971  641.719971  641.719971\n",
       "1  638.020020  638.020020  638.020020  638.020020\n",
       "2  646.799988  646.799988  646.799988  646.799988\n",
       "3  649.229980  649.229980  649.229980  649.229980\n",
       "4  661.809998  661.809998  661.809998  661.809998"
      ]
     },
     "execution_count": 63,
     "metadata": {},
     "output_type": "execute_result"
    }
   ],
   "source": [
    "# Dropping irrelevant columns\n",
    "\n",
    "data = data.drop(columns=['Date','Adj Close','Volume'])\n",
    "data.head()"
   ]
  },
  {
   "cell_type": "code",
   "execution_count": 64,
   "metadata": {},
   "outputs": [
    {
     "data": {
      "text/plain": [
       "(10576,)"
      ]
     },
     "execution_count": 64,
     "metadata": {},
     "output_type": "execute_result"
    }
   ],
   "source": [
    "# Caculating mean of Open, High, Low and Close for predictions\n",
    "\n",
    "OHLC_avg = data.mean(axis = 1)\n",
    "OHLC_avg.shape"
   ]
  },
  {
   "cell_type": "code",
   "execution_count": 65,
   "metadata": {},
   "outputs": [
    {
     "data": {
      "text/plain": [
       "[<matplotlib.lines.Line2D at 0x1b926613490>]"
      ]
     },
     "execution_count": 65,
     "metadata": {},
     "output_type": "execute_result"
    },
    {
     "data": {
      "image/png": "[encoded data removed]",
      "text/plain": [
       "<Figure size 432x288 with 1 Axes>"
      ]
     },
     "metadata": {
      "needs_background": "light"
     },
     "output_type": "display_data"
    }
   ],
   "source": [
    "# Plotting  OHLC mean\n",
    "\n",
    "plt.plot(OHLC_avg)"
   ]
  },
  {
   "cell_type": "code",
   "execution_count": 66,
   "metadata": {},
   "outputs": [],
   "source": [
    "# Scaling the data values\n",
    "\n",
    "data = np.reshape(OHLC_avg.values, (len(OHLC_avg),1)) \n",
    "scaler = MinMaxScaler(feature_range=(0, 1))\n",
    "data = scaler.fit_transform(data)"
   ]
  },
  {
   "cell_type": "code",
   "execution_count": 67,
   "metadata": {},
   "outputs": [
    {
     "name": "stdout",
     "output_type": "stream",
     "text": [
      "[[0.00340751]\n",
      " [0.00318628]\n",
      " [0.00371125]\n",
      " ...\n",
      " [0.95087855]\n",
      " [0.96588963]\n",
      " [0.97425681]]\n"
     ]
    }
   ],
   "source": [
    "print(data)"
   ]
  },
  {
   "cell_type": "code",
   "execution_count": 68,
   "metadata": {},
   "outputs": [],
   "source": [
    "# splitting dataset into train and test sets\n",
    "\n",
    "train_size = int(len(data) * 0.75)\n",
    "test_size = len(data)-train_size\n",
    "\n",
    "train_data = data[0:train_size,:]\n",
    "test_data = data[train_size:len(data),:1]"
   ]
  },
  {
   "cell_type": "code",
   "execution_count": 69,
   "metadata": {},
   "outputs": [
    {
     "data": {
      "text/plain": [
       "(7932, 2644)"
      ]
     },
     "execution_count": 69,
     "metadata": {},
     "output_type": "execute_result"
    }
   ],
   "source": [
    "train_size, test_size"
   ]
  },
  {
   "cell_type": "code",
   "execution_count": 70,
   "metadata": {},
   "outputs": [],
   "source": [
    "# Function for converting data into sequences of size 10\n",
    "\n",
    "def create_timeseries(dataset, time_step=1):\n",
    "    \n",
    "    X = []\n",
    "    Y = []\n",
    "    \n",
    "    for i in range(len(dataset)-time_step-1):\n",
    "        \n",
    "        a = dataset[i:(i+time_step), 0]   \n",
    "        X.append(a)\n",
    "        Y.append(dataset[i + time_step, 0])\n",
    "        \n",
    "    return np.array(X), np.array(Y)"
   ]
  },
  {
   "cell_type": "code",
   "execution_count": 71,
   "metadata": {},
   "outputs": [],
   "source": [
    "# Creating sequences from data\n",
    "\n",
    "time_step = 10\n",
    "X_train, y_train = create_timeseries(train_data, time_step)\n",
    "X_test, y_test = create_timeseries(test_data, time_step)"
   ]
  },
  {
   "cell_type": "code",
   "execution_count": 72,
   "metadata": {},
   "outputs": [
    {
     "name": "stdout",
     "output_type": "stream",
     "text": [
      "(7921, 10)\n",
      "(7921,)\n",
      "(2633, 10)\n",
      "(2633,)\n"
     ]
    }
   ],
   "source": [
    "# Checking the size of training and testing data\n",
    "\n",
    "print(X_train.shape)\n",
    "print(y_train.shape)\n",
    "print(X_test.shape)\n",
    "print(y_test.shape)"
   ]
  },
  {
   "cell_type": "code",
   "execution_count": 73,
   "metadata": {},
   "outputs": [],
   "source": [
    "# Reshape input to be [samples, time steps, features] which is required for LSTM\n",
    "\n",
    "X_train =X_train.reshape(X_train.shape[0], X_train.shape[1], 1)  \n",
    "X_test = X_test.reshape(X_test.shape[0], X_test.shape[1], 1)     "
   ]
  },
  {
   "cell_type": "code",
   "execution_count": 74,
   "metadata": {},
   "outputs": [
    {
     "name": "stdout",
     "output_type": "stream",
     "text": [
      "(7921, 10, 1)\n",
      "(2633, 10, 1)\n"
     ]
    }
   ],
   "source": [
    "# Checking the shape of the data\n",
    "\n",
    "print(X_train.shape)\n",
    "print(X_test.shape)"
   ]
  },
  {
   "cell_type": "code",
   "execution_count": 15,
   "metadata": {},
   "outputs": [],
   "source": [
    "#--------------------------- Stacked LSTM model -------------------------------------------"
   ]
  },
  {
   "cell_type": "code",
   "execution_count": 16,
   "metadata": {},
   "outputs": [],
   "source": [
    "# Create the LSTM Model\n",
    "\n",
    "lstm = Sequential()\n",
    "lstm.add(LSTM(64, input_shape = (time_step, 1), return_sequences = True))\n",
    "lstm.add(LSTM(32, return_sequences = True))\n",
    "lstm.add(LSTM(32, return_sequences = True))\n",
    "lstm.add(LSTM(16))\n",
    "lstm.add(Dense(1, activation = 'linear'))"
   ]
  },
  {
   "cell_type": "code",
   "execution_count": 17,
   "metadata": {},
   "outputs": [
    {
     "name": "stdout",
     "output_type": "stream",
     "text": [
      "Epoch 1/100\n",
      "50/50 - 43s - loss: 0.0071 - val_loss: 3.3706e-04\n",
      "Epoch 2/100\n",
      "50/50 - 4s - loss: 7.9181e-05 - val_loss: 1.9208e-04\n",
      "Epoch 3/100\n",
      "50/50 - 3s - loss: 3.7148e-05 - val_loss: 3.0331e-04\n",
      "Epoch 4/100\n",
      "50/50 - 3s - loss: 3.1963e-05 - val_loss: 3.6667e-04\n",
      "Epoch 5/100\n",
      "50/50 - 3s - loss: 3.0963e-05 - val_loss: 4.7233e-04\n",
      "Epoch 6/100\n",
      "50/50 - 4s - loss: 3.1401e-05 - val_loss: 3.8720e-04\n",
      "Epoch 7/100\n",
      "50/50 - 4s - loss: 3.1371e-05 - val_loss: 4.5936e-04\n",
      "Epoch 8/100\n",
      "50/50 - 4s - loss: 3.1206e-05 - val_loss: 4.0181e-04\n",
      "Epoch 9/100\n",
      "50/50 - 3s - loss: 3.1343e-05 - val_loss: 4.5811e-04\n",
      "Epoch 10/100\n",
      "50/50 - 3s - loss: 3.1916e-05 - val_loss: 4.5007e-04\n",
      "Epoch 11/100\n",
      "50/50 - 3s - loss: 3.2292e-05 - val_loss: 3.5379e-04\n",
      "Epoch 12/100\n",
      "50/50 - 3s - loss: 3.2958e-05 - val_loss: 3.7784e-04\n",
      "Epoch 13/100\n",
      "50/50 - 3s - loss: 3.1601e-05 - val_loss: 4.8405e-04\n",
      "Epoch 14/100\n",
      "50/50 - 3s - loss: 3.2286e-05 - val_loss: 4.1254e-04\n",
      "Epoch 15/100\n",
      "50/50 - 3s - loss: 3.1134e-05 - val_loss: 4.5761e-04\n",
      "Epoch 16/100\n",
      "50/50 - 3s - loss: 3.1450e-05 - val_loss: 5.0751e-04\n",
      "Epoch 17/100\n",
      "50/50 - 3s - loss: 3.2501e-05 - val_loss: 3.2238e-04\n",
      "Epoch 18/100\n",
      "50/50 - 3s - loss: 3.1824e-05 - val_loss: 4.0046e-04\n",
      "Epoch 19/100\n",
      "50/50 - 3s - loss: 3.2169e-05 - val_loss: 3.0917e-04\n",
      "Epoch 20/100\n",
      "50/50 - 3s - loss: 3.4092e-05 - val_loss: 4.2420e-04\n",
      "Epoch 21/100\n",
      "50/50 - 3s - loss: 3.1407e-05 - val_loss: 3.0295e-04\n",
      "Epoch 22/100\n",
      "50/50 - 3s - loss: 3.3534e-05 - val_loss: 5.5605e-04\n",
      "Epoch 23/100\n",
      "50/50 - 3s - loss: 3.3497e-05 - val_loss: 5.7340e-04\n",
      "Epoch 24/100\n",
      "50/50 - 3s - loss: 3.2317e-05 - val_loss: 3.4353e-04\n",
      "Epoch 25/100\n",
      "50/50 - 3s - loss: 3.1452e-05 - val_loss: 3.8419e-04\n",
      "Epoch 26/100\n",
      "50/50 - 3s - loss: 3.3916e-05 - val_loss: 3.3810e-04\n",
      "Epoch 27/100\n",
      "50/50 - 3s - loss: 3.1298e-05 - val_loss: 2.9596e-04\n",
      "Epoch 28/100\n",
      "50/50 - 3s - loss: 3.4625e-05 - val_loss: 4.5110e-04\n",
      "Epoch 29/100\n",
      "50/50 - 3s - loss: 3.1662e-05 - val_loss: 3.0559e-04\n",
      "Epoch 30/100\n",
      "50/50 - 3s - loss: 3.0782e-05 - val_loss: 2.6631e-04\n",
      "Epoch 31/100\n",
      "50/50 - 3s - loss: 3.2870e-05 - val_loss: 4.4350e-04\n",
      "Epoch 32/100\n",
      "50/50 - 3s - loss: 3.6826e-05 - val_loss: 2.9799e-04\n",
      "Epoch 33/100\n",
      "50/50 - 3s - loss: 3.6103e-05 - val_loss: 3.3888e-04\n",
      "Epoch 34/100\n",
      "50/50 - 3s - loss: 3.0185e-05 - val_loss: 3.8482e-04\n",
      "Epoch 35/100\n",
      "50/50 - 3s - loss: 3.6831e-05 - val_loss: 2.6644e-04\n",
      "Epoch 36/100\n",
      "50/50 - 3s - loss: 3.1064e-05 - val_loss: 3.6486e-04\n",
      "Epoch 37/100\n",
      "50/50 - 3s - loss: 3.2212e-05 - val_loss: 2.4793e-04\n",
      "Epoch 38/100\n",
      "50/50 - 3s - loss: 3.0733e-05 - val_loss: 3.5111e-04\n",
      "Epoch 39/100\n",
      "50/50 - 3s - loss: 3.2809e-05 - val_loss: 4.4718e-04\n",
      "Epoch 40/100\n",
      "50/50 - 3s - loss: 3.1655e-05 - val_loss: 3.2794e-04\n",
      "Epoch 41/100\n",
      "50/50 - 3s - loss: 3.3833e-05 - val_loss: 3.1864e-04\n",
      "Epoch 42/100\n",
      "50/50 - 3s - loss: 3.0959e-05 - val_loss: 4.1967e-04\n",
      "Epoch 43/100\n",
      "50/50 - 3s - loss: 3.3412e-05 - val_loss: 2.4143e-04\n",
      "Epoch 44/100\n",
      "50/50 - 3s - loss: 3.2373e-05 - val_loss: 3.4492e-04\n",
      "Epoch 45/100\n",
      "50/50 - 3s - loss: 3.4616e-05 - val_loss: 2.0765e-04\n",
      "Epoch 46/100\n",
      "50/50 - 3s - loss: 3.6304e-05 - val_loss: 7.4251e-04\n",
      "Epoch 47/100\n",
      "50/50 - 3s - loss: 3.8082e-05 - val_loss: 3.0459e-04\n",
      "Epoch 48/100\n",
      "50/50 - 3s - loss: 3.1024e-05 - val_loss: 2.0078e-04\n",
      "Epoch 49/100\n",
      "50/50 - 3s - loss: 3.0690e-05 - val_loss: 2.5789e-04\n",
      "Epoch 50/100\n",
      "50/50 - 3s - loss: 3.0131e-05 - val_loss: 3.2658e-04\n",
      "Epoch 51/100\n",
      "50/50 - 3s - loss: 3.0007e-05 - val_loss: 2.3322e-04\n",
      "Epoch 52/100\n",
      "50/50 - 3s - loss: 3.1785e-05 - val_loss: 5.3126e-04\n",
      "Epoch 53/100\n",
      "50/50 - 3s - loss: 3.1872e-05 - val_loss: 2.2944e-04\n",
      "Epoch 54/100\n",
      "50/50 - 3s - loss: 3.3377e-05 - val_loss: 2.5225e-04\n",
      "Epoch 55/100\n",
      "50/50 - 3s - loss: 3.1855e-05 - val_loss: 2.7321e-04\n",
      "Epoch 56/100\n",
      "50/50 - 3s - loss: 3.2178e-05 - val_loss: 2.2877e-04\n",
      "Epoch 57/100\n",
      "50/50 - 3s - loss: 2.9047e-05 - val_loss: 2.8438e-04\n",
      "Epoch 58/100\n",
      "50/50 - 3s - loss: 3.2047e-05 - val_loss: 1.9174e-04\n",
      "Epoch 59/100\n",
      "50/50 - 3s - loss: 3.1212e-05 - val_loss: 2.0063e-04\n",
      "Epoch 60/100\n",
      "50/50 - 3s - loss: 3.0832e-05 - val_loss: 1.9480e-04\n",
      "Epoch 61/100\n",
      "50/50 - 3s - loss: 3.4839e-05 - val_loss: 1.8803e-04\n",
      "Epoch 62/100\n",
      "50/50 - 3s - loss: 3.3092e-05 - val_loss: 2.2558e-04\n",
      "Epoch 63/100\n",
      "50/50 - 3s - loss: 3.1658e-05 - val_loss: 2.3748e-04\n",
      "Epoch 64/100\n",
      "50/50 - 3s - loss: 3.5302e-05 - val_loss: 2.0418e-04\n",
      "Epoch 65/100\n",
      "50/50 - 3s - loss: 3.0275e-05 - val_loss: 2.8240e-04\n",
      "Epoch 66/100\n",
      "50/50 - 3s - loss: 3.0499e-05 - val_loss: 2.8141e-04\n",
      "Epoch 67/100\n",
      "50/50 - 3s - loss: 3.2223e-05 - val_loss: 1.9308e-04\n",
      "Epoch 68/100\n",
      "50/50 - 3s - loss: 2.9666e-05 - val_loss: 2.0110e-04\n",
      "Epoch 69/100\n",
      "50/50 - 3s - loss: 4.0138e-05 - val_loss: 2.5129e-04\n",
      "Epoch 70/100\n",
      "50/50 - 3s - loss: 2.9875e-05 - val_loss: 3.2057e-04\n",
      "Epoch 71/100\n",
      "50/50 - 3s - loss: 3.3810e-05 - val_loss: 2.0594e-04\n",
      "Epoch 72/100\n",
      "50/50 - 4s - loss: 2.9139e-05 - val_loss: 2.9691e-04\n",
      "Epoch 73/100\n",
      "50/50 - 3s - loss: 3.2138e-05 - val_loss: 1.8263e-04\n",
      "Epoch 74/100\n",
      "50/50 - 3s - loss: 3.2665e-05 - val_loss: 1.7222e-04\n",
      "Epoch 75/100\n",
      "50/50 - 3s - loss: 2.9691e-05 - val_loss: 2.4081e-04\n",
      "Epoch 76/100\n",
      "50/50 - 3s - loss: 2.7527e-05 - val_loss: 2.5899e-04\n",
      "Epoch 77/100\n",
      "50/50 - 3s - loss: 2.7937e-05 - val_loss: 1.6466e-04\n",
      "Epoch 78/100\n",
      "50/50 - 3s - loss: 3.0681e-05 - val_loss: 1.9720e-04\n",
      "Epoch 79/100\n",
      "50/50 - 4s - loss: 3.2669e-05 - val_loss: 3.8735e-04\n",
      "Epoch 80/100\n",
      "50/50 - 3s - loss: 2.8911e-05 - val_loss: 2.7343e-04\n",
      "Epoch 81/100\n",
      "50/50 - 3s - loss: 2.8574e-05 - val_loss: 1.7299e-04\n",
      "Epoch 82/100\n",
      "50/50 - 3s - loss: 2.8493e-05 - val_loss: 2.1053e-04\n",
      "Epoch 83/100\n",
      "50/50 - 3s - loss: 2.6007e-05 - val_loss: 1.6678e-04\n",
      "Epoch 84/100\n",
      "50/50 - 3s - loss: 2.9503e-05 - val_loss: 2.5451e-04\n",
      "Epoch 85/100\n",
      "50/50 - 3s - loss: 2.7873e-05 - val_loss: 2.1206e-04\n",
      "Epoch 86/100\n",
      "50/50 - 3s - loss: 2.7123e-05 - val_loss: 2.9396e-04\n",
      "Epoch 87/100\n",
      "50/50 - 3s - loss: 2.5278e-05 - val_loss: 1.5765e-04\n",
      "Epoch 88/100\n",
      "50/50 - 3s - loss: 2.6576e-05 - val_loss: 2.1566e-04\n",
      "Epoch 89/100\n",
      "50/50 - 3s - loss: 2.4556e-05 - val_loss: 2.7169e-04\n",
      "Epoch 90/100\n",
      "50/50 - 3s - loss: 3.2914e-05 - val_loss: 1.6561e-04\n",
      "Epoch 91/100\n",
      "50/50 - 3s - loss: 2.4215e-05 - val_loss: 2.5669e-04\n",
      "Epoch 92/100\n",
      "50/50 - 3s - loss: 2.6546e-05 - val_loss: 1.5994e-04\n",
      "Epoch 93/100\n",
      "50/50 - 3s - loss: 2.8407e-05 - val_loss: 2.1449e-04\n",
      "Epoch 94/100\n",
      "50/50 - 3s - loss: 2.4924e-05 - val_loss: 2.4850e-04\n",
      "Epoch 95/100\n",
      "50/50 - 3s - loss: 2.7518e-05 - val_loss: 1.9593e-04\n",
      "Epoch 96/100\n",
      "50/50 - 3s - loss: 2.8171e-05 - val_loss: 1.7188e-04\n",
      "Epoch 97/100\n",
      "50/50 - 3s - loss: 2.7123e-05 - val_loss: 2.7151e-04\n",
      "Epoch 98/100\n",
      "50/50 - 3s - loss: 2.5171e-05 - val_loss: 1.4624e-04\n",
      "Epoch 99/100\n",
      "50/50 - 3s - loss: 2.5367e-05 - val_loss: 1.5266e-04\n",
      "Epoch 100/100\n",
      "50/50 - 3s - loss: 2.3847e-05 - val_loss: 1.5164e-04\n"
     ]
    },
    {
     "data": {
      "text/plain": [
       "<tensorflow.python.keras.callbacks.History at 0x1b97441dd30>"
      ]
     },
     "execution_count": 17,
     "metadata": {},
     "output_type": "execute_result"
    }
   ],
   "source": [
    "# Model Compiling and training\n",
    "\n",
    "lstm.compile(loss='mean_squared_error', optimizer='adam')\n",
    "lstm.fit(X_train, y_train, validation_split=0.2, epochs=100, batch_size=128, verbose=2)\n"
   ]
  },
  {
   "cell_type": "code",
   "execution_count": 18,
   "metadata": {},
   "outputs": [
    {
     "name": "stdout",
     "output_type": "stream",
     "text": [
      "Model: \"sequential\"\n",
      "_________________________________________________________________\n",
      "Layer (type)                 Output Shape              Param #   \n",
      "=================================================================\n",
      "lstm (LSTM)                  (None, 10, 64)            16896     \n",
      "_________________________________________________________________\n",
      "lstm_1 (LSTM)                (None, 10, 32)            12416     \n",
      "_________________________________________________________________\n",
      "lstm_2 (LSTM)                (None, 10, 32)            8320      \n",
      "_________________________________________________________________\n",
      "lstm_3 (LSTM)                (None, 16)                3136      \n",
      "_________________________________________________________________\n",
      "dense (Dense)                (None, 1)                 17        \n",
      "=================================================================\n",
      "Total params: 40,785\n",
      "Trainable params: 40,785\n",
      "Non-trainable params: 0\n",
      "_________________________________________________________________\n"
     ]
    }
   ],
   "source": [
    "lstm.summary()"
   ]
  },
  {
   "cell_type": "code",
   "execution_count": 19,
   "metadata": {},
   "outputs": [
    {
     "data": {
      "text/plain": [
       "<matplotlib.legend.Legend at 0x1b973297130>"
      ]
     },
     "execution_count": 19,
     "metadata": {},
     "output_type": "execute_result"
    },
    {
     "data": {
      "image/png": "[encoded data removed]",
      "text/plain": [
       "<Figure size 432x288 with 1 Axes>"
      ]
     },
     "metadata": {
      "needs_background": "light"
     },
     "output_type": "display_data"
    }
   ],
   "source": [
    "# Plotting training and validation losses\n",
    "\n",
    "plt.plot(lstm.history.history['loss'], label = 'loss')\n",
    "plt.plot(lstm.history.history['val_loss'], label = 'val loss')\n",
    "plt.title('LSTM Loss')\n",
    "plt.xlabel(\"Epochs\")\n",
    "plt.ylabel(\"Loss\")\n",
    "plt.legend()"
   ]
  },
  {
   "cell_type": "code",
   "execution_count": 20,
   "metadata": {},
   "outputs": [],
   "source": [
    "# Predictions using trained lstm model\n",
    "\n",
    "lstmtrainPredict = lstm.predict(X_train)\n",
    "lstmtestPredict = lstm.predict(X_test)"
   ]
  },
  {
   "cell_type": "code",
   "execution_count": 21,
   "metadata": {},
   "outputs": [],
   "source": [
    "# Inverse Scaling for plotting and RMSE calculations\n",
    "\n",
    "lstmtrainPredict = scaler.inverse_transform(lstmtrainPredict)\n",
    "lstmy_train = scaler.inverse_transform([y_train])\n",
    "lstmtestPredict = scaler.inverse_transform(lstmtestPredict)\n",
    "lstmy_test = scaler.inverse_transform([y_test])"
   ]
  },
  {
   "cell_type": "code",
   "execution_count": 22,
   "metadata": {},
   "outputs": [
    {
     "name": "stdout",
     "output_type": "stream",
     "text": [
      "Train RMSE: 115.17\n"
     ]
    }
   ],
   "source": [
    "# Training RMSE\n",
    "\n",
    "train_rmse = np.sqrt(mean_squared_error(lstmy_train[0], lstmtrainPredict[:,0]))\n",
    "print('Train RMSE: %.2f' % (train_rmse))"
   ]
  },
  {
   "cell_type": "code",
   "execution_count": 23,
   "metadata": {},
   "outputs": [
    {
     "name": "stdout",
     "output_type": "stream",
     "text": [
      "Test RMSE: 836.43\n"
     ]
    }
   ],
   "source": [
    "# Test RMSE\n",
    "\n",
    "test_rmse = np.sqrt(mean_squared_error(lstmy_test[0], lstmtestPredict[:,0]))\n",
    "print('Test RMSE: %.2f' % (test_rmse))"
   ]
  },
  {
   "cell_type": "code",
   "execution_count": 24,
   "metadata": {},
   "outputs": [
    {
     "data": {
      "image/png": "[encoded data removed]",
      "text/plain": [
       "<Figure size 504x360 with 1 Axes>"
      ]
     },
     "metadata": {
      "needs_background": "light"
     },
     "output_type": "display_data"
    }
   ],
   "source": [
    "# Plotting actual vs predicted prices\n",
    "\n",
    "plt.figure(figsize=(7,5))\n",
    "testY = lstmy_test.reshape(-1,1)\n",
    "plt.plot(testY, label = 'actual')\n",
    "plt.plot(lstmtestPredict,label = 'predicted')\n",
    "plt.title('LSTM Predictions')\n",
    "plt.xlabel('Days')\n",
    "plt.ylabel('Stock Price')\n",
    "plt.legend()\n",
    "plt.show()"
   ]
  },
  {
   "cell_type": "code",
   "execution_count": 75,
   "metadata": {},
   "outputs": [],
   "source": [
    "#-----------------------  CNN Model  ---------------------------------------"
   ]
  },
  {
   "cell_type": "code",
   "execution_count": 76,
   "metadata": {},
   "outputs": [
    {
     "name": "stdout",
     "output_type": "stream",
     "text": [
      "(7921, 1, 10, 1)\n",
      "(2633, 1, 10, 1)\n"
     ]
    }
   ],
   "source": [
    "# Reshape input to that which is required for CNN and check shape\n",
    "\n",
    "X_train =X_train.reshape(X_train.shape[0], 1, X_train.shape[1], 1) \n",
    "X_test = X_test.reshape(X_test.shape[0], 1, X_test.shape[1], 1)    \n",
    "\n",
    "print(X_train.shape)\n",
    "print(X_test.shape)"
   ]
  },
  {
   "cell_type": "code",
   "execution_count": 77,
   "metadata": {},
   "outputs": [
    {
     "name": "stdout",
     "output_type": "stream",
     "text": [
      "Model: \"sequential_4\"\n",
      "_________________________________________________________________\n",
      "Layer (type)                 Output Shape              Param #   \n",
      "=================================================================\n",
      "conv2d_1 (Conv2D)            (None, 1, 9, 8)           24        \n",
      "_________________________________________________________________\n",
      "max_pooling2d_1 (MaxPooling2 (None, 1, 4, 8)           0         \n",
      "_________________________________________________________________\n",
      "flatten_2 (Flatten)          (None, 32)                0         \n",
      "_________________________________________________________________\n",
      "dense_5 (Dense)              (None, 64)                2112      \n",
      "_________________________________________________________________\n",
      "dropout_5 (Dropout)          (None, 64)                0         \n",
      "_________________________________________________________________\n",
      "dense_6 (Dense)              (None, 1)                 65        \n",
      "=================================================================\n",
      "Total params: 2,201\n",
      "Trainable params: 2,201\n",
      "Non-trainable params: 0\n",
      "_________________________________________________________________\n"
     ]
    }
   ],
   "source": [
    "# Create the CNN Model\n",
    "\n",
    "cnn = Sequential()\n",
    "cnn.add(Conv2D(8, kernel_size = (1, 2), strides = (1, 1),  padding = 'valid', \n",
    "               activation = 'relu', input_shape = (1,10,1)))\n",
    "cnn.add(MaxPooling2D(pool_size = (1,2)))\n",
    "\n",
    "cnn.add(Flatten())\n",
    "cnn.add(Dense(64, activation=\"relu\"))\n",
    "cnn.add(Dropout(0.5))\n",
    "cnn.add(Dense(1, activation=\"relu\"))\n",
    "cnn.summary()   "
   ]
  },
  {
   "cell_type": "code",
   "execution_count": 78,
   "metadata": {},
   "outputs": [
    {
     "name": "stdout",
     "output_type": "stream",
     "text": [
      "Epoch 1/100\n",
      "50/50 [==============================] - 2s 18ms/step - loss: 0.0109 - val_loss: 0.0040\n",
      "Epoch 2/100\n",
      "50/50 [==============================] - 2s 32ms/step - loss: 0.0029 - val_loss: 0.0015\n",
      "Epoch 3/100\n",
      "50/50 [==============================] - 0s 9ms/step - loss: 0.0022 - val_loss: 0.0016\n",
      "Epoch 4/100\n",
      "50/50 [==============================] - 0s 9ms/step - loss: 0.0018 - val_loss: 0.0013\n",
      "Epoch 5/100\n",
      "50/50 [==============================] - 0s 9ms/step - loss: 0.0016 - val_loss: 0.0011\n",
      "Epoch 6/100\n",
      "50/50 [==============================] - 0s 8ms/step - loss: 0.0015 - val_loss: 8.6909e-04\n",
      "Epoch 7/100\n",
      "50/50 [==============================] - 0s 8ms/step - loss: 0.0014 - val_loss: 9.7878e-04\n",
      "Epoch 8/100\n",
      "50/50 [==============================] - 0s 8ms/step - loss: 0.0013 - val_loss: 9.5026e-04\n",
      "Epoch 9/100\n",
      "50/50 [==============================] - 0s 8ms/step - loss: 0.0013 - val_loss: 8.3619e-04\n",
      "Epoch 10/100\n",
      "50/50 [==============================] - 1s 27ms/step - loss: 0.0012 - val_loss: 0.0013\n",
      "Epoch 11/100\n",
      "50/50 [==============================] - 2s 41ms/step - loss: 0.0012 - val_loss: 7.7500e-04\n",
      "Epoch 12/100\n",
      "50/50 [==============================] - 0s 8ms/step - loss: 0.0011 - val_loss: 7.6288e-04\n",
      "Epoch 13/100\n",
      "50/50 [==============================] - 0s 8ms/step - loss: 0.0011 - val_loss: 6.0151e-04\n",
      "Epoch 14/100\n",
      "50/50 [==============================] - 0s 8ms/step - loss: 0.0011 - val_loss: 0.0011\n",
      "Epoch 15/100\n",
      "50/50 [==============================] - 0s 8ms/step - loss: 0.0011 - val_loss: 7.1765e-04\n",
      "Epoch 16/100\n",
      "50/50 [==============================] - 1s 10ms/step - loss: 0.0011 - val_loss: 4.5932e-04\n",
      "Epoch 17/100\n",
      "50/50 [==============================] - 2s 35ms/step - loss: 0.0011 - val_loss: 8.3367e-04\n",
      "Epoch 18/100\n",
      "50/50 [==============================] - 0s 8ms/step - loss: 0.0011 - val_loss: 4.7377e-04\n",
      "Epoch 19/100\n",
      "50/50 [==============================] - 0s 8ms/step - loss: 0.0011 - val_loss: 6.7084e-04\n",
      "Epoch 20/100\n",
      "50/50 [==============================] - 0s 8ms/step - loss: 0.0011 - val_loss: 4.8238e-04\n",
      "Epoch 21/100\n",
      "50/50 [==============================] - 0s 8ms/step - loss: 0.0011 - val_loss: 8.1497e-04\n",
      "Epoch 22/100\n",
      "50/50 [==============================] - 0s 9ms/step - loss: 0.0010 - val_loss: 4.9742e-04\n",
      "Epoch 23/100\n",
      "50/50 [==============================] - 0s 8ms/step - loss: 0.0011 - val_loss: 5.2464e-04\n",
      "Epoch 24/100\n",
      "50/50 [==============================] - 0s 8ms/step - loss: 0.0011 - val_loss: 3.9276e-04\n",
      "Epoch 25/100\n",
      "50/50 [==============================] - 0s 8ms/step - loss: 0.0010 - val_loss: 5.1902e-04\n",
      "Epoch 26/100\n",
      "50/50 [==============================] - 0s 8ms/step - loss: 0.0011 - val_loss: 0.0011\n",
      "Epoch 27/100\n",
      "50/50 [==============================] - 0s 9ms/step - loss: 0.0011 - val_loss: 2.1142e-04\n",
      "Epoch 28/100\n",
      "50/50 [==============================] - 0s 9ms/step - loss: 0.0011 - val_loss: 5.0233e-04\n",
      "Epoch 29/100\n",
      "50/50 [==============================] - 1s 27ms/step - loss: 0.0011 - val_loss: 5.9856e-04\n",
      "Epoch 30/100\n",
      "50/50 [==============================] - 1s 26ms/step - loss: 0.0011 - val_loss: 0.0010\n",
      "Epoch 31/100\n",
      "50/50 [==============================] - 0s 8ms/step - loss: 0.0011 - val_loss: 8.3505e-04\n",
      "Epoch 32/100\n",
      "50/50 [==============================] - 0s 8ms/step - loss: 0.0011 - val_loss: 5.9494e-04\n",
      "Epoch 33/100\n",
      "50/50 [==============================] - 0s 8ms/step - loss: 0.0011 - val_loss: 6.6835e-04\n",
      "Epoch 34/100\n",
      "50/50 [==============================] - 0s 8ms/step - loss: 0.0011 - val_loss: 9.7771e-04\n",
      "Epoch 35/100\n",
      "50/50 [==============================] - 0s 8ms/step - loss: 0.0011 - val_loss: 2.9815e-04\n",
      "Epoch 36/100\n",
      "50/50 [==============================] - 0s 9ms/step - loss: 0.0011 - val_loss: 8.6293e-04\n",
      "Epoch 37/100\n",
      "50/50 [==============================] - 0s 9ms/step - loss: 0.0011 - val_loss: 4.5106e-04\n",
      "Epoch 38/100\n",
      "50/50 [==============================] - 0s 8ms/step - loss: 0.0011 - val_loss: 5.2859e-04\n",
      "Epoch 39/100\n",
      "50/50 [==============================] - 0s 8ms/step - loss: 0.0010 - val_loss: 6.7066e-04\n",
      "Epoch 40/100\n",
      "50/50 [==============================] - 0s 8ms/step - loss: 0.0011 - val_loss: 5.4192e-04\n",
      "Epoch 41/100\n",
      "50/50 [==============================] - 0s 8ms/step - loss: 9.9744e-04 - val_loss: 3.8347e-04\n",
      "Epoch 42/100\n",
      "50/50 [==============================] - 0s 8ms/step - loss: 0.0010 - val_loss: 5.6351e-04\n",
      "Epoch 43/100\n",
      "50/50 [==============================] - 0s 8ms/step - loss: 0.0011 - val_loss: 4.5941e-04\n",
      "Epoch 44/100\n",
      "50/50 [==============================] - 0s 8ms/step - loss: 0.0011 - val_loss: 4.4821e-04\n",
      "Epoch 45/100\n",
      "50/50 [==============================] - 0s 8ms/step - loss: 0.0011 - val_loss: 3.4441e-04\n",
      "Epoch 46/100\n",
      "50/50 [==============================] - 0s 8ms/step - loss: 0.0011 - val_loss: 9.0918e-04\n",
      "Epoch 47/100\n",
      "50/50 [==============================] - 0s 8ms/step - loss: 0.0011 - val_loss: 7.2504e-04\n",
      "Epoch 48/100\n",
      "50/50 [==============================] - 0s 8ms/step - loss: 0.0011 - val_loss: 6.8598e-04\n",
      "Epoch 49/100\n",
      "50/50 [==============================] - 0s 8ms/step - loss: 0.0011 - val_loss: 5.9107e-04\n",
      "Epoch 50/100\n",
      "50/50 [==============================] - 0s 8ms/step - loss: 0.0011 - val_loss: 0.0012\n",
      "Epoch 51/100\n",
      "50/50 [==============================] - 0s 9ms/step - loss: 0.0011 - val_loss: 8.2026e-04\n",
      "Epoch 52/100\n",
      "50/50 [==============================] - 0s 8ms/step - loss: 0.0012 - val_loss: 0.0011\n",
      "Epoch 53/100\n",
      "50/50 [==============================] - 0s 9ms/step - loss: 0.0010 - val_loss: 5.8988e-04\n",
      "Epoch 54/100\n",
      "50/50 [==============================] - 0s 8ms/step - loss: 0.0011 - val_loss: 9.1103e-04\n",
      "Epoch 55/100\n",
      "50/50 [==============================] - 0s 8ms/step - loss: 0.0011 - val_loss: 5.4054e-04\n",
      "Epoch 56/100\n",
      "50/50 [==============================] - 0s 8ms/step - loss: 0.0011 - val_loss: 7.5621e-04\n",
      "Epoch 57/100\n",
      "50/50 [==============================] - 0s 8ms/step - loss: 0.0011 - val_loss: 5.0501e-04\n",
      "Epoch 58/100\n",
      "50/50 [==============================] - 0s 8ms/step - loss: 0.0011 - val_loss: 4.0894e-04\n",
      "Epoch 59/100\n",
      "50/50 [==============================] - 0s 8ms/step - loss: 0.0011 - val_loss: 6.0388e-04\n",
      "Epoch 60/100\n",
      "50/50 [==============================] - 0s 8ms/step - loss: 0.0011 - val_loss: 3.7128e-04\n",
      "Epoch 61/100\n",
      "50/50 [==============================] - 0s 8ms/step - loss: 0.0011 - val_loss: 4.3587e-04\n",
      "Epoch 62/100\n",
      "50/50 [==============================] - 0s 8ms/step - loss: 0.0011 - val_loss: 2.2348e-04\n",
      "Epoch 63/100\n",
      "50/50 [==============================] - 0s 9ms/step - loss: 0.0011 - val_loss: 7.1950e-04\n",
      "Epoch 64/100\n",
      "50/50 [==============================] - 0s 8ms/step - loss: 0.0011 - val_loss: 8.7624e-04\n",
      "Epoch 65/100\n",
      "50/50 [==============================] - 0s 8ms/step - loss: 0.0011 - val_loss: 0.0011\n",
      "Epoch 66/100\n",
      "50/50 [==============================] - 0s 8ms/step - loss: 0.0010 - val_loss: 0.0011\n",
      "Epoch 67/100\n",
      "50/50 [==============================] - 0s 8ms/step - loss: 0.0011 - val_loss: 7.5760e-04\n",
      "Epoch 68/100\n",
      "50/50 [==============================] - 0s 9ms/step - loss: 0.0011 - val_loss: 8.3805e-04\n",
      "Epoch 69/100\n",
      "50/50 [==============================] - 0s 8ms/step - loss: 0.0010 - val_loss: 2.8019e-04\n",
      "Epoch 70/100\n",
      "50/50 [==============================] - 0s 9ms/step - loss: 0.0011 - val_loss: 3.9381e-04\n",
      "Epoch 71/100\n",
      "50/50 [==============================] - 0s 8ms/step - loss: 0.0011 - val_loss: 4.5065e-04\n",
      "Epoch 72/100\n",
      "50/50 [==============================] - 0s 9ms/step - loss: 0.0011 - val_loss: 5.3464e-04\n",
      "Epoch 73/100\n",
      "50/50 [==============================] - 0s 9ms/step - loss: 0.0011 - val_loss: 3.1252e-04\n",
      "Epoch 74/100\n",
      "50/50 [==============================] - 0s 9ms/step - loss: 0.0010 - val_loss: 5.4231e-04\n",
      "Epoch 75/100\n",
      "50/50 [==============================] - 0s 9ms/step - loss: 0.0011 - val_loss: 7.6689e-04\n",
      "Epoch 76/100\n",
      "50/50 [==============================] - 0s 9ms/step - loss: 0.0010 - val_loss: 1.9439e-04\n",
      "Epoch 77/100\n",
      "50/50 [==============================] - 0s 9ms/step - loss: 0.0011 - val_loss: 5.2893e-04\n",
      "Epoch 78/100\n",
      "50/50 [==============================] - 0s 9ms/step - loss: 0.0011 - val_loss: 2.7020e-04\n",
      "Epoch 79/100\n",
      "50/50 [==============================] - 0s 9ms/step - loss: 0.0011 - val_loss: 9.3033e-04\n",
      "Epoch 80/100\n",
      "50/50 [==============================] - 0s 8ms/step - loss: 0.0010 - val_loss: 2.8465e-04\n",
      "Epoch 81/100\n",
      "50/50 [==============================] - 0s 7ms/step - loss: 0.0011 - val_loss: 9.2857e-04\n",
      "Epoch 82/100\n",
      "50/50 [==============================] - 0s 8ms/step - loss: 0.0010 - val_loss: 6.1665e-04\n",
      "Epoch 83/100\n",
      "50/50 [==============================] - 0s 7ms/step - loss: 0.0011 - val_loss: 5.4889e-04\n",
      "Epoch 84/100\n",
      "50/50 [==============================] - 0s 8ms/step - loss: 0.0011 - val_loss: 4.3840e-04\n",
      "Epoch 85/100\n",
      "50/50 [==============================] - 0s 8ms/step - loss: 0.0011 - val_loss: 4.7856e-04\n",
      "Epoch 86/100\n",
      "50/50 [==============================] - 0s 7ms/step - loss: 0.0011 - val_loss: 0.0013\n",
      "Epoch 87/100\n",
      "50/50 [==============================] - 0s 8ms/step - loss: 0.0010 - val_loss: 3.2620e-04\n",
      "Epoch 88/100\n",
      "50/50 [==============================] - 0s 7ms/step - loss: 0.0011 - val_loss: 4.9077e-04\n",
      "Epoch 89/100\n",
      "50/50 [==============================] - 0s 7ms/step - loss: 0.0011 - val_loss: 8.8211e-04\n",
      "Epoch 90/100\n",
      "50/50 [==============================] - 0s 8ms/step - loss: 0.0011 - val_loss: 0.0018\n",
      "Epoch 91/100\n",
      "50/50 [==============================] - 0s 8ms/step - loss: 0.0011 - val_loss: 3.8777e-04\n",
      "Epoch 92/100\n",
      "50/50 [==============================] - 0s 8ms/step - loss: 0.0010 - val_loss: 3.3759e-04\n",
      "Epoch 93/100\n",
      "50/50 [==============================] - 0s 8ms/step - loss: 0.0010 - val_loss: 5.4605e-04\n",
      "Epoch 94/100\n",
      "50/50 [==============================] - 0s 8ms/step - loss: 0.0011 - val_loss: 6.5132e-04\n",
      "Epoch 95/100\n",
      "50/50 [==============================] - 0s 7ms/step - loss: 0.0011 - val_loss: 8.4604e-04\n",
      "Epoch 96/100\n",
      "50/50 [==============================] - 0s 8ms/step - loss: 0.0011 - val_loss: 5.2325e-04\n",
      "Epoch 97/100\n",
      "50/50 [==============================] - 0s 8ms/step - loss: 0.0010 - val_loss: 3.3783e-04\n",
      "Epoch 98/100\n",
      "50/50 [==============================] - 0s 8ms/step - loss: 0.0011 - val_loss: 4.0342e-04\n",
      "Epoch 99/100\n",
      "50/50 [==============================] - 0s 8ms/step - loss: 0.0011 - val_loss: 4.4608e-04\n",
      "Epoch 100/100\n",
      "50/50 [==============================] - 0s 8ms/step - loss: 0.0010 - val_loss: 6.7774e-04\n"
     ]
    },
    {
     "data": {
      "text/plain": [
       "<tensorflow.python.keras.callbacks.History at 0x1b926757430>"
      ]
     },
     "execution_count": 78,
     "metadata": {},
     "output_type": "execute_result"
    }
   ],
   "source": [
    "# compiling and training model\n",
    "\n",
    "cnn.compile(loss='mean_squared_error', optimizer='adam')\n",
    "cnn.fit(X_train,y_train, validation_split=0.2, batch_size = 128, verbose=1,epochs = 100)"
   ]
  },
  {
   "cell_type": "code",
   "execution_count": 79,
   "metadata": {},
   "outputs": [
    {
     "data": {
      "text/plain": [
       "<matplotlib.legend.Legend at 0x1b926639100>"
      ]
     },
     "execution_count": 79,
     "metadata": {},
     "output_type": "execute_result"
    },
    {
     "data": {
      "image/png": "[encoded data removed]",
      "text/plain": [
       "<Figure size 432x288 with 1 Axes>"
      ]
     },
     "metadata": {
      "needs_background": "light"
     },
     "output_type": "display_data"
    }
   ],
   "source": [
    "# Plotting training and validation losses\n",
    "\n",
    "plt.plot(cnn.history.history['loss'], label = 'loss')\n",
    "plt.plot(cnn.history.history['val_loss'], label = 'val loss')\n",
    "plt.title('CNN Loss')\n",
    "plt.xlabel(\"Epochs\")\n",
    "plt.ylabel(\"Loss\")\n",
    "plt.legend()"
   ]
  },
  {
   "cell_type": "code",
   "execution_count": 80,
   "metadata": {},
   "outputs": [],
   "source": [
    "# Predictions using trained cnn model\n",
    "\n",
    "cnntrainPredict = cnn.predict(X_train)\n",
    "cnntestPredict = cnn.predict(X_test)"
   ]
  },
  {
   "cell_type": "code",
   "execution_count": 81,
   "metadata": {},
   "outputs": [],
   "source": [
    "# Rescaling for plotting and rmse values\n",
    "\n",
    "cnntrainPredict = scaler.inverse_transform(cnntrainPredict)\n",
    "cnny_train = scaler.inverse_transform([y_train])\n",
    "cnntestPredict = scaler.inverse_transform(cnntestPredict)\n",
    "cnny_test = scaler.inverse_transform([y_test])"
   ]
  },
  {
   "cell_type": "code",
   "execution_count": 82,
   "metadata": {},
   "outputs": [
    {
     "name": "stdout",
     "output_type": "stream",
     "text": [
      "Train RMSE: 299.74\n"
     ]
    }
   ],
   "source": [
    "# Training RMSE\n",
    "\n",
    "train_rmse = np.sqrt(mean_squared_error(cnny_train[0], cnntrainPredict[:,0]))\n",
    "print('Train RMSE: %.2f' % (train_rmse))"
   ]
  },
  {
   "cell_type": "code",
   "execution_count": 83,
   "metadata": {},
   "outputs": [
    {
     "name": "stdout",
     "output_type": "stream",
     "text": [
      "Test RMSE: 789.05\n"
     ]
    }
   ],
   "source": [
    "# Test RMSE\n",
    "\n",
    "test_rmse = np.sqrt(mean_squared_error(cnny_test[0], cnntestPredict[:,0]))\n",
    "print('Test RMSE: %.2f' % (test_rmse))"
   ]
  },
  {
   "cell_type": "code",
   "execution_count": 84,
   "metadata": {},
   "outputs": [
    {
     "data": {
      "image/png": "[encoded data removed]",
      "text/plain": [
       "<Figure size 504x360 with 1 Axes>"
      ]
     },
     "metadata": {
      "needs_background": "light"
     },
     "output_type": "display_data"
    }
   ],
   "source": [
    "# Plotting actual vs predicted prices\n",
    "\n",
    "plt.figure(figsize=(7,5))\n",
    "testY = cnny_test.reshape(-1,1)\n",
    "plt.plot(testY, label = 'actual')\n",
    "plt.plot(cnntestPredict,label = 'predicted')\n",
    "plt.title('CNN Predictions')\n",
    "plt.xlabel('Days')\n",
    "plt.ylabel('Stock Price')\n",
    "plt.legend()\n",
    "plt.show()"
   ]
  },
  {
   "cell_type": "code",
   "execution_count": 41,
   "metadata": {},
   "outputs": [],
   "source": [
    "# ----------------- CNN-LSTM model -----------------------"
   ]
  },
  {
   "cell_type": "code",
   "execution_count": 42,
   "metadata": {},
   "outputs": [
    {
     "name": "stdout",
     "output_type": "stream",
     "text": [
      "(7921, 1, 10, 1)\n",
      "(2633, 1, 10, 1)\n"
     ]
    }
   ],
   "source": [
    "# Checking shape of training data for CNN-LSTM\n",
    "\n",
    "print(X_train.shape)\n",
    "print(X_test.shape)"
   ]
  },
  {
   "cell_type": "code",
   "execution_count": 43,
   "metadata": {},
   "outputs": [],
   "source": [
    "# Building CNN-LSTM Model\n",
    "\n",
    "cnn_lstm = tf.keras.Sequential()\n",
    "cnn_lstm.add(TimeDistributed(Conv1D(64, kernel_size=1, activation='relu', input_shape=(None, 10, 1))))\n",
    "cnn_lstm.add(TimeDistributed(MaxPooling1D(2)))\n",
    "cnn_lstm.add(TimeDistributed(Conv1D(64, kernel_size=1, activation='relu')))\n",
    "cnn_lstm.add(TimeDistributed(MaxPooling1D(2)))\n",
    "cnn_lstm.add(TimeDistributed(Flatten()))\n",
    "cnn_lstm.add(Bidirectional(LSTM(100, return_sequences=True)))\n",
    "cnn_lstm.add(Dropout(0.25))\n",
    "cnn_lstm.add(Bidirectional(LSTM(100, return_sequences=False)))\n",
    "cnn_lstm.add(Dropout(0.5))\n",
    "cnn_lstm.add(Dense(1, activation='linear'))\n",
    "cnn_lstm.compile(optimizer='adam', loss='mse')"
   ]
  },
  {
   "cell_type": "code",
   "execution_count": 44,
   "metadata": {},
   "outputs": [
    {
     "name": "stdout",
     "output_type": "stream",
     "text": [
      "Epoch 1/100\n",
      "50/50 [==============================] - 35s 178ms/step - loss: 0.0091 - val_loss: 0.0014\n",
      "Epoch 2/100\n",
      "50/50 [==============================] - 1s 27ms/step - loss: 4.6337e-04 - val_loss: 2.0135e-04\n",
      "Epoch 3/100\n",
      "50/50 [==============================] - 1s 26ms/step - loss: 3.6106e-04 - val_loss: 3.1684e-04\n",
      "Epoch 4/100\n",
      "50/50 [==============================] - 4s 79ms/step - loss: 3.4164e-04 - val_loss: 2.1924e-04\n",
      "Epoch 5/100\n",
      "50/50 [==============================] - 5s 95ms/step - loss: 3.0697e-04 - val_loss: 1.8881e-04\n",
      "Epoch 6/100\n",
      "50/50 [==============================] - 4s 71ms/step - loss: 2.8779e-04 - val_loss: 2.1690e-04\n",
      "Epoch 7/100\n",
      "50/50 [==============================] - 2s 45ms/step - loss: 2.8506e-04 - val_loss: 3.5549e-04\n",
      "Epoch 8/100\n",
      "50/50 [==============================] - 1s 25ms/step - loss: 2.8749e-04 - val_loss: 1.7389e-04\n",
      "Epoch 9/100\n",
      "50/50 [==============================] - 1s 26ms/step - loss: 2.6614e-04 - val_loss: 3.3254e-04\n",
      "Epoch 10/100\n",
      "50/50 [==============================] - 1s 23ms/step - loss: 2.5049e-04 - val_loss: 1.7514e-04\n",
      "Epoch 11/100\n",
      "50/50 [==============================] - 1s 24ms/step - loss: 2.6069e-04 - val_loss: 2.1747e-04\n",
      "Epoch 12/100\n",
      "50/50 [==============================] - 1s 24ms/step - loss: 2.3811e-04 - val_loss: 3.8071e-04\n",
      "Epoch 13/100\n",
      "50/50 [==============================] - 1s 24ms/step - loss: 2.4438e-04 - val_loss: 2.0330e-04\n",
      "Epoch 14/100\n",
      "50/50 [==============================] - 1s 25ms/step - loss: 2.2314e-04 - val_loss: 1.6949e-04\n",
      "Epoch 15/100\n",
      "50/50 [==============================] - 2s 37ms/step - loss: 2.2696e-04 - val_loss: 2.9882e-04\n",
      "Epoch 16/100\n",
      "50/50 [==============================] - 5s 100ms/step - loss: 2.3075e-04 - val_loss: 1.8132e-04\n",
      "Epoch 17/100\n",
      "50/50 [==============================] - 1s 29ms/step - loss: 2.2643e-04 - val_loss: 2.3457e-04\n",
      "Epoch 18/100\n",
      "50/50 [==============================] - 3s 54ms/step - loss: 2.1311e-04 - val_loss: 1.7717e-04\n",
      "Epoch 19/100\n",
      "50/50 [==============================] - 4s 81ms/step - loss: 2.2952e-04 - val_loss: 3.8984e-04\n",
      "Epoch 20/100\n",
      "50/50 [==============================] - 1s 24ms/step - loss: 2.1674e-04 - val_loss: 1.9716e-04\n",
      "Epoch 21/100\n",
      "50/50 [==============================] - 1s 24ms/step - loss: 2.0789e-04 - val_loss: 4.4127e-04\n",
      "Epoch 22/100\n",
      "50/50 [==============================] - 1s 24ms/step - loss: 2.0995e-04 - val_loss: 4.6645e-04\n",
      "Epoch 23/100\n",
      "50/50 [==============================] - 3s 62ms/step - loss: 1.9638e-04 - val_loss: 2.8971e-04\n",
      "Epoch 24/100\n",
      "50/50 [==============================] - 3s 50ms/step - loss: 1.9284e-04 - val_loss: 2.1805e-04\n",
      "Epoch 25/100\n",
      "50/50 [==============================] - 3s 57ms/step - loss: 2.0416e-04 - val_loss: 4.3096e-04\n",
      "Epoch 26/100\n",
      "50/50 [==============================] - 3s 55ms/step - loss: 1.9344e-04 - val_loss: 2.1455e-04\n",
      "Epoch 27/100\n",
      "50/50 [==============================] - 2s 33ms/step - loss: 1.8466e-04 - val_loss: 4.4791e-04\n",
      "Epoch 28/100\n",
      "50/50 [==============================] - 1s 24ms/step - loss: 1.8016e-04 - val_loss: 3.0755e-04\n",
      "Epoch 29/100\n",
      "50/50 [==============================] - 1s 24ms/step - loss: 1.8415e-04 - val_loss: 3.0157e-04\n",
      "Epoch 30/100\n",
      "50/50 [==============================] - 2s 33ms/step - loss: 1.7013e-04 - val_loss: 2.5431e-04\n",
      "Epoch 31/100\n",
      "50/50 [==============================] - 2s 33ms/step - loss: 1.7273e-04 - val_loss: 3.9880e-04\n",
      "Epoch 32/100\n",
      "50/50 [==============================] - 1s 29ms/step - loss: 1.7449e-04 - val_loss: 3.3618e-04\n",
      "Epoch 33/100\n",
      "50/50 [==============================] - 2s 36ms/step - loss: 1.7315e-04 - val_loss: 2.1404e-04\n",
      "Epoch 34/100\n",
      "50/50 [==============================] - 4s 90ms/step - loss: 1.8714e-04 - val_loss: 4.2063e-04\n",
      "Epoch 35/100\n",
      "50/50 [==============================] - 4s 73ms/step - loss: 1.7005e-04 - val_loss: 2.4230e-04\n",
      "Epoch 36/100\n",
      "50/50 [==============================] - 3s 55ms/step - loss: 1.7985e-04 - val_loss: 4.2241e-04\n",
      "Epoch 37/100\n",
      "50/50 [==============================] - 2s 31ms/step - loss: 1.7750e-04 - val_loss: 4.6422e-04\n",
      "Epoch 38/100\n",
      "50/50 [==============================] - 3s 57ms/step - loss: 1.5861e-04 - val_loss: 3.7830e-04\n",
      "Epoch 39/100\n",
      "50/50 [==============================] - 2s 45ms/step - loss: 1.6537e-04 - val_loss: 4.3506e-04\n",
      "Epoch 40/100\n",
      "50/50 [==============================] - ETA: 0s - loss: 1.7001e-0 - 1s 30ms/step - loss: 1.7001e-04 - val_loss: 2.4173e-04\n",
      "Epoch 41/100\n",
      "50/50 [==============================] - 4s 70ms/step - loss: 1.6905e-04 - val_loss: 3.1293e-04\n",
      "Epoch 42/100\n",
      "50/50 [==============================] - 2s 41ms/step - loss: 1.5571e-04 - val_loss: 3.9157e-04\n",
      "Epoch 43/100\n",
      "50/50 [==============================] - 2s 33ms/step - loss: 1.6335e-04 - val_loss: 3.6513e-04\n",
      "Epoch 44/100\n",
      "50/50 [==============================] - 2s 35ms/step - loss: 1.5708e-04 - val_loss: 7.1824e-04\n",
      "Epoch 45/100\n",
      "50/50 [==============================] - 2s 49ms/step - loss: 1.5637e-04 - val_loss: 3.2959e-04\n",
      "Epoch 46/100\n",
      "50/50 [==============================] - 4s 74ms/step - loss: 1.6046e-04 - val_loss: 5.5011e-04\n",
      "Epoch 47/100\n",
      "50/50 [==============================] - 2s 41ms/step - loss: 1.6567e-04 - val_loss: 5.6929e-04\n",
      "Epoch 48/100\n",
      "50/50 [==============================] - 2s 34ms/step - loss: 1.4840e-04 - val_loss: 6.1868e-04\n",
      "Epoch 49/100\n",
      "50/50 [==============================] - 2s 36ms/step - loss: 1.5728e-04 - val_loss: 8.0486e-04\n",
      "Epoch 50/100\n",
      "50/50 [==============================] - 3s 64ms/step - loss: 1.5246e-04 - val_loss: 4.0640e-04\n",
      "Epoch 51/100\n",
      "50/50 [==============================] - 3s 62ms/step - loss: 1.6273e-04 - val_loss: 4.0150e-04\n",
      "Epoch 52/100\n",
      "50/50 [==============================] - 2s 41ms/step - loss: 1.5045e-04 - val_loss: 5.4756e-04\n",
      "Epoch 53/100\n",
      "50/50 [==============================] - 3s 56ms/step - loss: 1.5696e-04 - val_loss: 5.2737e-04\n",
      "Epoch 54/100\n",
      "50/50 [==============================] - 2s 30ms/step - loss: 1.4509e-04 - val_loss: 6.6991e-04\n",
      "Epoch 55/100\n",
      "50/50 [==============================] - 1s 28ms/step - loss: 1.4787e-04 - val_loss: 5.2300e-04\n",
      "Epoch 56/100\n",
      "50/50 [==============================] - 1s 27ms/step - loss: 1.6310e-04 - val_loss: 8.3755e-04\n",
      "Epoch 57/100\n",
      "50/50 [==============================] - 1s 27ms/step - loss: 1.5090e-04 - val_loss: 8.1901e-04\n",
      "Epoch 58/100\n",
      "50/50 [==============================] - 1s 26ms/step - loss: 1.4683e-04 - val_loss: 9.7991e-04\n",
      "Epoch 59/100\n",
      "50/50 [==============================] - 1s 28ms/step - loss: 1.5440e-04 - val_loss: 8.2000e-04\n",
      "Epoch 60/100\n",
      "50/50 [==============================] - 1s 27ms/step - loss: 1.4625e-04 - val_loss: 0.0012\n",
      "Epoch 61/100\n",
      "50/50 [==============================] - 1s 27ms/step - loss: 1.6304e-04 - val_loss: 7.8277e-04\n",
      "Epoch 62/100\n",
      "50/50 [==============================] - 1s 27ms/step - loss: 1.4636e-04 - val_loss: 4.8712e-04\n",
      "Epoch 63/100\n",
      "50/50 [==============================] - 1s 29ms/step - loss: 1.4043e-04 - val_loss: 5.4057e-04\n",
      "Epoch 64/100\n",
      "50/50 [==============================] - 1s 26ms/step - loss: 1.5550e-04 - val_loss: 7.3431e-04\n",
      "Epoch 65/100\n",
      "50/50 [==============================] - 1s 27ms/step - loss: 1.4409e-04 - val_loss: 8.2102e-04\n",
      "Epoch 66/100\n",
      "50/50 [==============================] - 1s 26ms/step - loss: 1.4137e-04 - val_loss: 6.2876e-04\n",
      "Epoch 67/100\n",
      "50/50 [==============================] - 1s 28ms/step - loss: 1.4404e-04 - val_loss: 5.5602e-04\n",
      "Epoch 68/100\n",
      "50/50 [==============================] - 1s 27ms/step - loss: 1.4547e-04 - val_loss: 7.3105e-04\n",
      "Epoch 69/100\n",
      "50/50 [==============================] - 1s 26ms/step - loss: 1.4551e-04 - val_loss: 9.5541e-04\n",
      "Epoch 70/100\n",
      "50/50 [==============================] - 1s 26ms/step - loss: 1.4575e-04 - val_loss: 8.8043e-04\n",
      "Epoch 71/100\n",
      "50/50 [==============================] - 1s 27ms/step - loss: 1.5293e-04 - val_loss: 5.6166e-04\n",
      "Epoch 72/100\n",
      "50/50 [==============================] - 1s 27ms/step - loss: 1.4453e-04 - val_loss: 9.5141e-04\n",
      "Epoch 73/100\n",
      "50/50 [==============================] - 1s 26ms/step - loss: 1.5551e-04 - val_loss: 8.0985e-04\n",
      "Epoch 74/100\n",
      "50/50 [==============================] - 1s 26ms/step - loss: 1.4428e-04 - val_loss: 4.8886e-04\n",
      "Epoch 75/100\n",
      "50/50 [==============================] - 1s 28ms/step - loss: 1.4385e-04 - val_loss: 5.8522e-04\n",
      "Epoch 76/100\n"
     ]
    },
    {
     "name": "stdout",
     "output_type": "stream",
     "text": [
      "50/50 [==============================] - 1s 25ms/step - loss: 1.4650e-04 - val_loss: 8.3890e-04\n",
      "Epoch 77/100\n",
      "50/50 [==============================] - 1s 24ms/step - loss: 1.4781e-04 - val_loss: 7.7453e-04\n",
      "Epoch 78/100\n",
      "50/50 [==============================] - 1s 24ms/step - loss: 1.4404e-04 - val_loss: 6.0065e-04\n",
      "Epoch 79/100\n",
      "50/50 [==============================] - 1s 25ms/step - loss: 1.5229e-04 - val_loss: 6.8696e-04\n",
      "Epoch 80/100\n",
      "50/50 [==============================] - 1s 25ms/step - loss: 1.4816e-04 - val_loss: 3.5386e-04\n",
      "Epoch 81/100\n",
      "50/50 [==============================] - 1s 24ms/step - loss: 1.4925e-04 - val_loss: 8.3791e-04\n",
      "Epoch 82/100\n",
      "50/50 [==============================] - 1s 24ms/step - loss: 1.4812e-04 - val_loss: 6.9039e-04\n",
      "Epoch 83/100\n",
      "50/50 [==============================] - 1s 24ms/step - loss: 1.3664e-04 - val_loss: 6.9913e-04\n",
      "Epoch 84/100\n",
      "50/50 [==============================] - 1s 24ms/step - loss: 1.3923e-04 - val_loss: 8.4983e-04\n",
      "Epoch 85/100\n",
      "50/50 [==============================] - 1s 25ms/step - loss: 1.4089e-04 - val_loss: 5.4679e-04\n",
      "Epoch 86/100\n",
      "50/50 [==============================] - 1s 25ms/step - loss: 1.3975e-04 - val_loss: 9.1733e-04\n",
      "Epoch 87/100\n",
      "50/50 [==============================] - 1s 24ms/step - loss: 1.4361e-04 - val_loss: 5.9567e-04\n",
      "Epoch 88/100\n",
      "50/50 [==============================] - 1s 25ms/step - loss: 1.5061e-04 - val_loss: 5.5191e-04\n",
      "Epoch 89/100\n",
      "50/50 [==============================] - ETA: 0s - loss: 1.4960e-0 - 1s 24ms/step - loss: 1.4874e-04 - val_loss: 4.9607e-04\n",
      "Epoch 90/100\n",
      "50/50 [==============================] - 1s 27ms/step - loss: 1.4575e-04 - val_loss: 4.6998e-04\n",
      "Epoch 91/100\n",
      "50/50 [==============================] - 1s 25ms/step - loss: 1.4379e-04 - val_loss: 4.7407e-04\n",
      "Epoch 92/100\n",
      "50/50 [==============================] - 1s 25ms/step - loss: 1.4518e-04 - val_loss: 9.6025e-04\n",
      "Epoch 93/100\n",
      "50/50 [==============================] - 1s 25ms/step - loss: 1.3931e-04 - val_loss: 8.7195e-04\n",
      "Epoch 94/100\n",
      "50/50 [==============================] - 1s 25ms/step - loss: 1.4347e-04 - val_loss: 7.9740e-04\n",
      "Epoch 95/100\n",
      "50/50 [==============================] - 1s 26ms/step - loss: 1.4592e-04 - val_loss: 3.3944e-04\n",
      "Epoch 96/100\n",
      "50/50 [==============================] - 1s 26ms/step - loss: 1.4761e-04 - val_loss: 7.4361e-04\n",
      "Epoch 97/100\n",
      "50/50 [==============================] - 1s 26ms/step - loss: 1.3796e-04 - val_loss: 6.2358e-04\n",
      "Epoch 98/100\n",
      "50/50 [==============================] - 1s 26ms/step - loss: 1.4643e-04 - val_loss: 8.6608e-04\n",
      "Epoch 99/100\n",
      "50/50 [==============================] - 1s 26ms/step - loss: 1.4121e-04 - val_loss: 7.5224e-04\n",
      "Epoch 100/100\n",
      "50/50 [==============================] - 1s 25ms/step - loss: 1.3776e-04 - val_loss: 7.0399e-04\n"
     ]
    },
    {
     "data": {
      "text/plain": [
       "<tensorflow.python.keras.callbacks.History at 0x1b908289730>"
      ]
     },
     "execution_count": 44,
     "metadata": {},
     "output_type": "execute_result"
    }
   ],
   "source": [
    "# Fitting model\n",
    "\n",
    "cnn_lstm.fit(X_train, y_train, validation_split=0.2, epochs=100, batch_size=128, verbose=1)"
   ]
  },
  {
   "cell_type": "code",
   "execution_count": 45,
   "metadata": {},
   "outputs": [
    {
     "data": {
      "text/plain": [
       "<matplotlib.legend.Legend at 0x1b90812cd90>"
      ]
     },
     "execution_count": 45,
     "metadata": {},
     "output_type": "execute_result"
    },
    {
     "data": {
      "image/png": "[encoded data removed]",
      "text/plain": [
       "<Figure size 432x288 with 1 Axes>"
      ]
     },
     "metadata": {
      "needs_background": "light"
     },
     "output_type": "display_data"
    }
   ],
   "source": [
    "# Plotting training and validation losses\n",
    "\n",
    "plt.plot(cnn_lstm.history.history['loss'], label='train loss')\n",
    "plt.plot(cnn_lstm.history.history['val_loss'], label='val loss')\n",
    "plt.title('CNN-LSTM Loss')\n",
    "plt.xlabel(\"Epochs\")\n",
    "plt.ylabel(\"Loss\")\n",
    "plt.legend()"
   ]
  },
  {
   "cell_type": "code",
   "execution_count": 46,
   "metadata": {},
   "outputs": [],
   "source": [
    "# Predictions using trained cnn-lstm model\n",
    "\n",
    "trainPredict = cnn_lstm.predict(X_train)\n",
    "testPredict = cnn_lstm.predict(X_test)"
   ]
  },
  {
   "cell_type": "code",
   "execution_count": 47,
   "metadata": {},
   "outputs": [],
   "source": [
    "# Rescaling for plotting and rmse\n",
    "\n",
    "trainPredict = scaler.inverse_transform(trainPredict)\n",
    "y_train_cnnlstm = scaler.inverse_transform([y_train])\n",
    "testPredict = scaler.inverse_transform(testPredict)\n",
    "y_test_cnnlstm = scaler.inverse_transform([y_test])"
   ]
  },
  {
   "cell_type": "code",
   "execution_count": 48,
   "metadata": {},
   "outputs": [
    {
     "name": "stdout",
     "output_type": "stream",
     "text": [
      "Train RMSE: 212.12\n"
     ]
    }
   ],
   "source": [
    "# Training RMSE\n",
    "\n",
    "train_rmse = np.sqrt(mean_squared_error(y_train_cnnlstm[0], trainPredict[:,0]))\n",
    "print('Train RMSE: %.2f' % (train_rmse))"
   ]
  },
  {
   "cell_type": "code",
   "execution_count": 49,
   "metadata": {},
   "outputs": [
    {
     "name": "stdout",
     "output_type": "stream",
     "text": [
      "Test RMSE: 1725.78\n"
     ]
    }
   ],
   "source": [
    "# Test RMSE\n",
    "\n",
    "test_rmse = np.sqrt(mean_squared_error(y_test_cnnlstm[0], testPredict[:,0]))\n",
    "print('Test RMSE: %.2f' % (test_rmse))"
   ]
  },
  {
   "cell_type": "code",
   "execution_count": 50,
   "metadata": {},
   "outputs": [
    {
     "data": {
      "image/png": "[encoded data removed]",
      "text/plain": [
       "<Figure size 504x360 with 1 Axes>"
      ]
     },
     "metadata": {
      "needs_background": "light"
     },
     "output_type": "display_data"
    }
   ],
   "source": [
    "# Plotting actual vs predicted prices\n",
    "\n",
    "plt.figure(figsize=(7,5))\n",
    "testY = y_test_cnnlstm.reshape(-1,1)\n",
    "plt.plot(testY, label = 'actual')\n",
    "plt.plot(testPredict,label = 'predicted')\n",
    "plt.title('CNN-LSTM Predictions')\n",
    "plt.xlabel('Days')\n",
    "plt.ylabel('Stock Price')\n",
    "plt.legend()\n",
    "plt.show()"
   ]
  },
  {
   "cell_type": "code",
   "execution_count": 51,
   "metadata": {},
   "outputs": [],
   "source": [
    "# ------------------------- GRU Model --------------------------"
   ]
  },
  {
   "cell_type": "code",
   "execution_count": 52,
   "metadata": {},
   "outputs": [
    {
     "name": "stdout",
     "output_type": "stream",
     "text": [
      "(7921, 1, 10, 1)\n"
     ]
    }
   ],
   "source": [
    "# Checking shape of training data\n",
    "\n",
    "print(X_train.shape)"
   ]
  },
  {
   "cell_type": "code",
   "execution_count": 53,
   "metadata": {},
   "outputs": [],
   "source": [
    "# Reshape input to that which is required for GRU\n",
    "\n",
    "X_train = X_train.reshape(X_train.shape[0], X_train.shape[2], 1)  \n",
    "X_test = X_test.reshape(X_test.shape[0], X_test.shape[2], 1)    "
   ]
  },
  {
   "cell_type": "code",
   "execution_count": 54,
   "metadata": {},
   "outputs": [],
   "source": [
    "# Create GRU Model\n",
    "\n",
    "gru = Sequential()\n",
    "gru.add(GRU(units=50, return_sequences=True, input_shape=(10, 1), activation='tanh'))\n",
    "gru.add(GRU(units=50, return_sequences=True, input_shape=(10, 1), activation='tanh'))\n",
    "gru.add(Dropout(0.2))\n",
    "gru.add(GRU(units=50, activation='tanh'))\n",
    "gru.add(Dropout(0.2))\n",
    "gru.add(Dense(units=1))"
   ]
  },
  {
   "cell_type": "code",
   "execution_count": 55,
   "metadata": {},
   "outputs": [
    {
     "name": "stdout",
     "output_type": "stream",
     "text": [
      "Epoch 1/100\n",
      "50/50 [==============================] - 21s 113ms/step - loss: 0.0199 - val_loss: 0.0617\n",
      "Epoch 2/100\n",
      "50/50 [==============================] - 3s 56ms/step - loss: 0.0084 - val_loss: 0.0233\n",
      "Epoch 3/100\n",
      "50/50 [==============================] - 3s 56ms/step - loss: 0.0029 - val_loss: 0.0059\n",
      "Epoch 4/100\n",
      "50/50 [==============================] - 3s 56ms/step - loss: 7.5872e-04 - val_loss: 5.8872e-04\n",
      "Epoch 5/100\n",
      "50/50 [==============================] - 3s 56ms/step - loss: 4.4713e-04 - val_loss: 2.0612e-04\n",
      "Epoch 6/100\n",
      "50/50 [==============================] - 3s 57ms/step - loss: 3.9596e-04 - val_loss: 1.2761e-04\n",
      "Epoch 7/100\n",
      "50/50 [==============================] - 3s 56ms/step - loss: 3.6746e-04 - val_loss: 1.2880e-04\n",
      "Epoch 8/100\n",
      "50/50 [==============================] - 3s 56ms/step - loss: 3.8888e-04 - val_loss: 1.4554e-04\n",
      "Epoch 9/100\n",
      "50/50 [==============================] - 3s 56ms/step - loss: 3.6323e-04 - val_loss: 1.2887e-04\n",
      "Epoch 10/100\n",
      "50/50 [==============================] - 3s 56ms/step - loss: 3.4110e-04 - val_loss: 1.5557e-04\n",
      "Epoch 11/100\n",
      "50/50 [==============================] - 3s 56ms/step - loss: 3.4696e-04 - val_loss: 1.0741e-04\n",
      "Epoch 12/100\n",
      "50/50 [==============================] - 3s 56ms/step - loss: 3.3917e-04 - val_loss: 1.0520e-04\n",
      "Epoch 13/100\n",
      "50/50 [==============================] - 3s 56ms/step - loss: 3.3192e-04 - val_loss: 1.1693e-04\n",
      "Epoch 14/100\n",
      "50/50 [==============================] - 3s 56ms/step - loss: 3.3742e-04 - val_loss: 1.4309e-04\n",
      "Epoch 15/100\n",
      "50/50 [==============================] - 3s 56ms/step - loss: 3.2597e-04 - val_loss: 1.0666e-04\n",
      "Epoch 16/100\n",
      "50/50 [==============================] - 3s 56ms/step - loss: 3.1581e-04 - val_loss: 1.3736e-04\n",
      "Epoch 17/100\n",
      "50/50 [==============================] - 3s 56ms/step - loss: 3.1640e-04 - val_loss: 1.2851e-04\n",
      "Epoch 18/100\n",
      "50/50 [==============================] - 3s 56ms/step - loss: 3.0732e-04 - val_loss: 1.5580e-04\n",
      "Epoch 19/100\n",
      "50/50 [==============================] - 3s 56ms/step - loss: 3.0162e-04 - val_loss: 9.8215e-05\n",
      "Epoch 20/100\n",
      "50/50 [==============================] - 3s 56ms/step - loss: 3.2008e-04 - val_loss: 1.1272e-04\n",
      "Epoch 21/100\n",
      "50/50 [==============================] - 3s 56ms/step - loss: 3.0065e-04 - val_loss: 1.3390e-04\n",
      "Epoch 22/100\n",
      "50/50 [==============================] - 3s 56ms/step - loss: 2.8401e-04 - val_loss: 1.0143e-04\n",
      "Epoch 23/100\n",
      "50/50 [==============================] - 3s 56ms/step - loss: 2.9389e-04 - val_loss: 1.4392e-04\n",
      "Epoch 24/100\n",
      "50/50 [==============================] - 3s 56ms/step - loss: 2.8858e-04 - val_loss: 1.4030e-04\n",
      "Epoch 25/100\n",
      "50/50 [==============================] - 3s 56ms/step - loss: 3.0508e-04 - val_loss: 1.6098e-04\n",
      "Epoch 26/100\n",
      "50/50 [==============================] - 3s 56ms/step - loss: 2.8221e-04 - val_loss: 1.4163e-04\n",
      "Epoch 27/100\n",
      "50/50 [==============================] - 3s 56ms/step - loss: 2.8021e-04 - val_loss: 1.2924e-04\n",
      "Epoch 28/100\n",
      "50/50 [==============================] - 3s 55ms/step - loss: 2.7972e-04 - val_loss: 1.1403e-04\n",
      "Epoch 29/100\n",
      "50/50 [==============================] - 3s 56ms/step - loss: 2.9103e-04 - val_loss: 9.9395e-05\n",
      "Epoch 30/100\n",
      "50/50 [==============================] - 3s 56ms/step - loss: 2.8197e-04 - val_loss: 1.4049e-04\n",
      "Epoch 31/100\n",
      "50/50 [==============================] - 3s 56ms/step - loss: 2.7417e-04 - val_loss: 1.1493e-04\n",
      "Epoch 32/100\n",
      "50/50 [==============================] - 3s 56ms/step - loss: 2.6808e-04 - val_loss: 1.3734e-04\n",
      "Epoch 33/100\n",
      "50/50 [==============================] - 3s 56ms/step - loss: 2.8020e-04 - val_loss: 1.2515e-04\n",
      "Epoch 34/100\n",
      "50/50 [==============================] - 3s 56ms/step - loss: 2.7244e-04 - val_loss: 1.0513e-04\n",
      "Epoch 35/100\n",
      "50/50 [==============================] - 3s 55ms/step - loss: 2.6640e-04 - val_loss: 1.2590e-04\n",
      "Epoch 36/100\n",
      "50/50 [==============================] - 3s 56ms/step - loss: 2.8768e-04 - val_loss: 1.1195e-04\n",
      "Epoch 37/100\n",
      "50/50 [==============================] - 3s 56ms/step - loss: 2.7909e-04 - val_loss: 1.0641e-04\n",
      "Epoch 38/100\n",
      "50/50 [==============================] - 3s 55ms/step - loss: 2.7302e-04 - val_loss: 1.4315e-04\n",
      "Epoch 39/100\n",
      "50/50 [==============================] - 3s 56ms/step - loss: 2.5864e-04 - val_loss: 1.0673e-04\n",
      "Epoch 40/100\n",
      "50/50 [==============================] - 3s 56ms/step - loss: 2.7757e-04 - val_loss: 1.1040e-04\n",
      "Epoch 41/100\n",
      "50/50 [==============================] - 3s 56ms/step - loss: 2.7083e-04 - val_loss: 1.2967e-04\n",
      "Epoch 42/100\n",
      "50/50 [==============================] - 3s 57ms/step - loss: 2.7156e-04 - val_loss: 1.2484e-04\n",
      "Epoch 43/100\n",
      "50/50 [==============================] - 3s 58ms/step - loss: 2.6633e-04 - val_loss: 1.0557e-04\n",
      "Epoch 44/100\n",
      "50/50 [==============================] - 3s 56ms/step - loss: 2.5285e-04 - val_loss: 1.1024e-04\n",
      "Epoch 45/100\n",
      "50/50 [==============================] - 3s 56ms/step - loss: 2.7029e-04 - val_loss: 1.2313e-04\n",
      "Epoch 46/100\n",
      "50/50 [==============================] - 3s 55ms/step - loss: 2.5747e-04 - val_loss: 1.0373e-04\n",
      "Epoch 47/100\n",
      "50/50 [==============================] - 3s 55ms/step - loss: 2.7291e-04 - val_loss: 1.0050e-04\n",
      "Epoch 48/100\n",
      "50/50 [==============================] - 3s 55ms/step - loss: 2.5651e-04 - val_loss: 1.4040e-04\n",
      "Epoch 49/100\n",
      "50/50 [==============================] - 3s 56ms/step - loss: 2.6019e-04 - val_loss: 1.1454e-04\n",
      "Epoch 50/100\n",
      "50/50 [==============================] - 3s 56ms/step - loss: 2.6312e-04 - val_loss: 1.0319e-04\n",
      "Epoch 51/100\n",
      "50/50 [==============================] - 3s 55ms/step - loss: 2.5111e-04 - val_loss: 1.0473e-04\n",
      "Epoch 52/100\n",
      "50/50 [==============================] - 3s 55ms/step - loss: 2.5561e-04 - val_loss: 1.4232e-04\n",
      "Epoch 53/100\n",
      "50/50 [==============================] - 3s 55ms/step - loss: 2.4381e-04 - val_loss: 9.8270e-05\n",
      "Epoch 54/100\n",
      "50/50 [==============================] - 3s 55ms/step - loss: 2.5620e-04 - val_loss: 1.0974e-04\n",
      "Epoch 55/100\n",
      "50/50 [==============================] - 3s 55ms/step - loss: 2.4778e-04 - val_loss: 1.1502e-04\n",
      "Epoch 56/100\n",
      "50/50 [==============================] - 3s 56ms/step - loss: 2.5273e-04 - val_loss: 1.1014e-04\n",
      "Epoch 57/100\n",
      "50/50 [==============================] - 3s 58ms/step - loss: 2.5193e-04 - val_loss: 1.0340e-04\n",
      "Epoch 58/100\n",
      "50/50 [==============================] - 3s 59ms/step - loss: 2.6035e-04 - val_loss: 8.9917e-05\n",
      "Epoch 59/100\n",
      "50/50 [==============================] - 3s 59ms/step - loss: 2.6597e-04 - val_loss: 1.0799e-04\n",
      "Epoch 60/100\n",
      "50/50 [==============================] - 3s 56ms/step - loss: 2.4944e-04 - val_loss: 1.2978e-04\n",
      "Epoch 61/100\n",
      "50/50 [==============================] - 3s 55ms/step - loss: 2.5441e-04 - val_loss: 1.2293e-04\n",
      "Epoch 62/100\n",
      "50/50 [==============================] - 3s 55ms/step - loss: 2.5114e-04 - val_loss: 1.1842e-04\n",
      "Epoch 63/100\n",
      "50/50 [==============================] - 3s 55ms/step - loss: 2.4200e-04 - val_loss: 1.1402e-04\n",
      "Epoch 64/100\n",
      "50/50 [==============================] - 3s 55ms/step - loss: 2.5046e-04 - val_loss: 9.6961e-05\n",
      "Epoch 65/100\n",
      "50/50 [==============================] - 3s 55ms/step - loss: 2.4523e-04 - val_loss: 1.0672e-04\n",
      "Epoch 66/100\n",
      "50/50 [==============================] - 3s 55ms/step - loss: 2.4568e-04 - val_loss: 1.2336e-04\n",
      "Epoch 67/100\n",
      "50/50 [==============================] - 3s 55ms/step - loss: 2.4380e-04 - val_loss: 1.0936e-04\n",
      "Epoch 68/100\n",
      "50/50 [==============================] - 3s 56ms/step - loss: 2.3915e-04 - val_loss: 1.0220e-04\n",
      "Epoch 69/100\n",
      "50/50 [==============================] - 3s 56ms/step - loss: 2.4178e-04 - val_loss: 1.1399e-04\n",
      "Epoch 70/100\n",
      "50/50 [==============================] - 3s 55ms/step - loss: 2.5075e-04 - val_loss: 1.1637e-04\n",
      "Epoch 71/100\n",
      "50/50 [==============================] - 3s 55ms/step - loss: 2.4512e-04 - val_loss: 1.0916e-04\n",
      "Epoch 72/100\n",
      "50/50 [==============================] - 3s 56ms/step - loss: 2.5227e-04 - val_loss: 9.7796e-05\n",
      "Epoch 73/100\n",
      "50/50 [==============================] - 3s 55ms/step - loss: 2.4210e-04 - val_loss: 9.8945e-05\n",
      "Epoch 74/100\n",
      "50/50 [==============================] - 3s 55ms/step - loss: 2.5242e-04 - val_loss: 1.4576e-04\n",
      "Epoch 75/100\n",
      "50/50 [==============================] - 3s 55ms/step - loss: 2.5279e-04 - val_loss: 1.4558e-04\n",
      "Epoch 76/100\n",
      "50/50 [==============================] - 3s 56ms/step - loss: 2.4215e-04 - val_loss: 9.2584e-05\n",
      "Epoch 77/100\n",
      "50/50 [==============================] - 3s 56ms/step - loss: 2.3846e-04 - val_loss: 1.2793e-04\n",
      "Epoch 78/100\n",
      "50/50 [==============================] - 3s 56ms/step - loss: 2.4064e-04 - val_loss: 1.2022e-04\n",
      "Epoch 79/100\n",
      "50/50 [==============================] - 3s 56ms/step - loss: 2.3524e-04 - val_loss: 1.2961e-04\n",
      "Epoch 80/100\n",
      "50/50 [==============================] - 3s 56ms/step - loss: 2.3960e-04 - val_loss: 9.6594e-05\n",
      "Epoch 81/100\n",
      "50/50 [==============================] - 3s 56ms/step - loss: 2.4964e-04 - val_loss: 1.3219e-04\n",
      "Epoch 82/100\n",
      "50/50 [==============================] - 3s 56ms/step - loss: 2.3322e-04 - val_loss: 1.1892e-04\n",
      "Epoch 83/100\n",
      "50/50 [==============================] - 3s 56ms/step - loss: 2.4368e-04 - val_loss: 1.0277e-04\n",
      "Epoch 84/100\n",
      "50/50 [==============================] - 3s 56ms/step - loss: 2.3358e-04 - val_loss: 1.0446e-04\n",
      "Epoch 85/100\n",
      "50/50 [==============================] - 3s 56ms/step - loss: 2.3614e-04 - val_loss: 1.1356e-04\n",
      "Epoch 86/100\n",
      "50/50 [==============================] - 3s 56ms/step - loss: 2.2745e-04 - val_loss: 1.0068e-04\n",
      "Epoch 87/100\n",
      "50/50 [==============================] - 3s 56ms/step - loss: 2.3482e-04 - val_loss: 1.0149e-04\n",
      "Epoch 88/100\n",
      "50/50 [==============================] - 3s 56ms/step - loss: 2.3528e-04 - val_loss: 1.3338e-04\n",
      "Epoch 89/100\n",
      "50/50 [==============================] - 3s 56ms/step - loss: 2.3318e-04 - val_loss: 9.4065e-05\n",
      "Epoch 90/100\n",
      "50/50 [==============================] - 3s 57ms/step - loss: 2.3755e-04 - val_loss: 1.0472e-04\n",
      "Epoch 91/100\n",
      "50/50 [==============================] - 3s 56ms/step - loss: 2.3101e-04 - val_loss: 9.4437e-05oss: \n",
      "Epoch 92/100\n",
      "50/50 [==============================] - 3s 56ms/step - loss: 2.3023e-04 - val_loss: 9.5148e-05\n",
      "Epoch 93/100\n",
      "50/50 [==============================] - 3s 56ms/step - loss: 2.3705e-04 - val_loss: 9.6473e-05\n",
      "Epoch 94/100\n",
      "50/50 [==============================] - 3s 56ms/step - loss: 2.4603e-04 - val_loss: 1.1986e-04\n",
      "Epoch 95/100\n",
      "50/50 [==============================] - 3s 56ms/step - loss: 2.3545e-04 - val_loss: 1.0975e-04\n",
      "Epoch 96/100\n",
      "50/50 [==============================] - 3s 56ms/step - loss: 2.2928e-04 - val_loss: 1.1529e-04\n",
      "Epoch 97/100\n",
      "50/50 [==============================] - 3s 56ms/step - loss: 2.3157e-04 - val_loss: 1.0154e-04\n",
      "Epoch 98/100\n",
      "50/50 [==============================] - 3s 56ms/step - loss: 2.2614e-04 - val_loss: 9.9695e-05\n",
      "Epoch 99/100\n",
      "50/50 [==============================] - 3s 57ms/step - loss: 2.3793e-04 - val_loss: 1.3782e-04\n",
      "Epoch 100/100\n",
      "50/50 [==============================] - 3s 56ms/step - loss: 2.4211e-04 - val_loss: 1.1361e-04\n"
     ]
    },
    {
     "data": {
      "text/plain": [
       "<tensorflow.python.keras.callbacks.History at 0x1b91a71f4f0>"
      ]
     },
     "execution_count": 55,
     "metadata": {},
     "output_type": "execute_result"
    }
   ],
   "source": [
    "# Compiling and training the model\n",
    "\n",
    "gru.compile(optimizer=SGD(learning_rate = 0.01, decay=1e-7, momentum=0.9, nesterov=False), loss='mean_squared_error')\n",
    "gru.fit(X_train, y_train, validation_split=0.2, epochs=100, batch_size=128, verbose=1)"
   ]
  },
  {
   "cell_type": "code",
   "execution_count": 56,
   "metadata": {},
   "outputs": [
    {
     "data": {
      "text/plain": [
       "<matplotlib.legend.Legend at 0x1b923cf4460>"
      ]
     },
     "execution_count": 56,
     "metadata": {},
     "output_type": "execute_result"
    },
    {
     "data": {
      "image/png": "[encoded data removed]",
      "text/plain": [
       "<Figure size 432x288 with 1 Axes>"
      ]
     },
     "metadata": {
      "needs_background": "light"
     },
     "output_type": "display_data"
    }
   ],
   "source": [
    "# Plotting training and validation losses\n",
    "\n",
    "plt.plot(gru.history.history['loss'], label='train loss')\n",
    "plt.plot(gru.history.history['val_loss'], label='val loss')\n",
    "plt.title('GRU Loss')\n",
    "plt.xlabel(\"Epochs\")\n",
    "plt.ylabel(\"Loss\")\n",
    "plt.legend()"
   ]
  },
  {
   "cell_type": "code",
   "execution_count": 57,
   "metadata": {},
   "outputs": [],
   "source": [
    "# Predictions using trained gru model\n",
    "\n",
    "gru_trainPredict = gru.predict(X_train)\n",
    "gru_testPredict = gru.predict(X_test)"
   ]
  },
  {
   "cell_type": "code",
   "execution_count": 58,
   "metadata": {},
   "outputs": [],
   "source": [
    "# Inverse scaling for plotting and rmse values\n",
    "\n",
    "gru_trainPredict = scaler.inverse_transform(gru_trainPredict)\n",
    "y_train_gru = scaler.inverse_transform([y_train])\n",
    "gru_testPredict = scaler.inverse_transform(gru_testPredict)\n",
    "y_test_gru = scaler.inverse_transform([y_test])"
   ]
  },
  {
   "cell_type": "code",
   "execution_count": 59,
   "metadata": {},
   "outputs": [
    {
     "name": "stdout",
     "output_type": "stream",
     "text": [
      "Train RMSE: 102.76\n"
     ]
    }
   ],
   "source": [
    "# Training RMSE\n",
    "\n",
    "train_rmse = np.sqrt(mean_squared_error(y_train_gru[0], gru_trainPredict[:,0]))\n",
    "print('Train RMSE: %.2f' % (train_rmse))"
   ]
  },
  {
   "cell_type": "code",
   "execution_count": 60,
   "metadata": {},
   "outputs": [
    {
     "name": "stdout",
     "output_type": "stream",
     "text": [
      "Test RMSE: 323.03\n"
     ]
    }
   ],
   "source": [
    "# Test RMSE\n",
    "\n",
    "test_rmse = np.sqrt(mean_squared_error(y_test_gru[0], gru_testPredict[:,0]))\n",
    "print('Test RMSE: %.2f' % (test_rmse))"
   ]
  },
  {
   "cell_type": "code",
   "execution_count": 61,
   "metadata": {},
   "outputs": [
    {
     "data": {
      "image/png": "[encoded data removed]",
      "text/plain": [
       "<Figure size 504x360 with 1 Axes>"
      ]
     },
     "metadata": {
      "needs_background": "light"
     },
     "output_type": "display_data"
    }
   ],
   "source": [
    "# Plotting actual vs predicted prices\n",
    "\n",
    "plt.figure(figsize=(7,5))\n",
    "testY = y_test_gru.reshape(-1,1)\n",
    "plt.plot(testY, label = 'actual')\n",
    "plt.plot(gru_testPredict,label = 'predicted')\n",
    "plt.title('GRU Predictions')\n",
    "plt.xlabel('Days')\n",
    "plt.ylabel('Stock Price')\n",
    "plt.legend()\n",
    "plt.show()"
   ]
  },
  {
   "cell_type": "code",
   "execution_count": null,
   "metadata": {},
   "outputs": [],
   "source": []
  }
 ],
 "metadata": {
  "kernelspec": {
   "display_name": "Python 3 (ipykernel)",
   "language": "python",
   "name": "python3"
  },
  "language_info": {
   "codemirror_mode": {
    "name": "ipython",
    "version": 3
   },
   "file_extension": ".py",
   "mimetype": "text/x-python",
   "name": "python",
   "nbconvert_exporter": "python",
   "pygments_lexer": "ipython3",
   "version": "3.9.7"
  }
 },
 "nbformat": 4,
 "nbformat_minor": 4
}
