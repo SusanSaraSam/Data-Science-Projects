{
 "cells": [
  {
   "cell_type": "code",
   "execution_count": 22,
   "metadata": {},
   "outputs": [],
   "source": [
    "# K-Nearest Neighbour Model"
   ]
  },
  {
   "cell_type": "code",
   "execution_count": 1,
   "metadata": {},
   "outputs": [],
   "source": [
    "import pandas as pd\n",
    "import numpy as np\n",
    "import matplotlib.pyplot as plt\n",
    "import seaborn as sns\n",
    "from sklearn.model_selection import train_test_split\n",
    "from sklearn.preprocessing import MinMaxScaler\n",
    "from sklearn.neighbors import KNeighborsClassifier\n",
    "from sklearn.metrics import confusion_matrix, classification_report\n",
    "from sklearn.metrics import accuracy_score\n",
    "from sklearn.metrics import precision_recall_curve\n",
    "from sklearn.metrics import f1_score\n",
    "from sklearn.metrics import auc\n",
    "from sklearn.model_selection import RepeatedStratifiedKFold\n",
    "from sklearn.model_selection import GridSearchCV\n",
    "from mlxtend.evaluate import bias_variance_decomp\n",
    "sns.set()\n",
    "%matplotlib inline"
   ]
  },
  {
   "cell_type": "code",
   "execution_count": 3,
   "metadata": {},
   "outputs": [],
   "source": [
    "# Reading the data\n",
    "\n",
    "loans = pd.read_csv('lending_club_loan.csv')"
   ]
  },
  {
   "cell_type": "code",
   "execution_count": 4,
   "metadata": {},
   "outputs": [],
   "source": [
    "# function to fill in missing values of mort_acc\n",
    "\n",
    "def fill_mort_acc(total_acc,mort_acc):\n",
    "    if np.isnan(mort_acc):\n",
    "        return total_acc_avg[total_acc]\n",
    "    else:\n",
    "        return mort_acc"
   ]
  },
  {
   "cell_type": "code",
   "execution_count": 5,
   "metadata": {},
   "outputs": [],
   "source": [
    "# feature engineering\n",
    "\n",
    "loans['loan_repaid'] = loans['loan_status'].map({'Fully Paid':1,'Charged Off':0})\n",
    "total_acc_avg = loans.groupby('total_acc').mean()['mort_acc']\n",
    "loans['mort_acc'] = loans.apply(lambda x: fill_mort_acc(x['total_acc'], x['mort_acc']), axis=1)\n",
    "\n",
    "#categorical variables\n",
    "loans['term'] = loans['term'].apply(lambda term: int(term[:3]))\n",
    "loans['home_ownership']=loans['home_ownership'].replace(['NONE', 'ANY'], 'OTHER')\n",
    "loans['zip_code'] = loans['address'].apply(lambda address:address[-5:])\n",
    "loans['earliest_cr_year'] = loans['earliest_cr_line'].apply(lambda date:int(date[:4]))\n",
    "\n",
    "dummies = pd.get_dummies(loans[['zip_code','home_ownership','grade','verification_status', 'application_type','initial_list_status','purpose' ]],drop_first=True)\n",
    "loans = loans.drop(['zip_code','address', 'home_ownership', 'grade','verification_status', 'application_type','initial_list_status','purpose'],axis=1)\n",
    "loans = pd.concat([loans,dummies],axis=1)\n",
    "\n",
    "loans = loans.drop(['emp_title','emp_length','title','sub_grade', 'issue_d', 'earliest_cr_line', 'loan_status'],axis=1)\n",
    "loans = loans.dropna()"
   ]
  },
  {
   "cell_type": "code",
   "execution_count": 6,
   "metadata": {},
   "outputs": [],
   "source": [
    "# Removing labels from dataset\n",
    "\n",
    "X = loans.drop('loan_repaid',axis=1).values\n",
    "y = loans['loan_repaid'].values"
   ]
  },
  {
   "cell_type": "code",
   "execution_count": 7,
   "metadata": {},
   "outputs": [],
   "source": [
    "# Train-test-validation split\n",
    "\n",
    "X_train, X_test, y_train, y_test = train_test_split(X, y, test_size=0.30, random_state=101)\n",
    "X_val, X_test, y_val, y_test = train_test_split(X_test, y_test, test_size=0.5, random_state=101)"
   ]
  },
  {
   "cell_type": "code",
   "execution_count": 8,
   "metadata": {},
   "outputs": [],
   "source": [
    "# Normalizing the data\n",
    "\n",
    "scaler = MinMaxScaler()\n",
    "X_train = scaler.fit_transform(X_train)\n",
    "X_val = scaler.transform(X_val)\n",
    "X_test = scaler.transform(X_test)"
   ]
  },
  {
   "cell_type": "code",
   "execution_count": 9,
   "metadata": {},
   "outputs": [],
   "source": [
    "# Baseline KNN model\n",
    "\n",
    "knn = KNeighborsClassifier(n_neighbors=1)\n",
    "knn.fit(X_train,y_train)\n",
    "pred = knn.predict(X_val)"
   ]
  },
  {
   "cell_type": "code",
   "execution_count": 10,
   "metadata": {},
   "outputs": [
    {
     "name": "stdout",
     "output_type": "stream",
     "text": [
      "              precision    recall  f1-score   support\n",
      "\n",
      "           0       0.55      0.55      0.55      1444\n",
      "           1       0.89      0.89      0.89      6042\n",
      "\n",
      "    accuracy                           0.83      7486\n",
      "   macro avg       0.72      0.72      0.72      7486\n",
      "weighted avg       0.83      0.83      0.83      7486\n",
      "\n",
      "\n",
      " Accuracy of Baseline model:  0.8268768367619557\n"
     ]
    }
   ],
   "source": [
    "# classification accuracies on validation data\n",
    "\n",
    "print(classification_report(y_val, pred))\n",
    "print('\\n Accuracy of Baseline model: ', accuracy_score(y_val, pred))"
   ]
  },
  {
   "cell_type": "code",
   "execution_count": 11,
   "metadata": {},
   "outputs": [
    {
     "data": {
      "text/plain": [
       "<matplotlib.axes._subplots.AxesSubplot at 0x1e53c40edc0>"
      ]
     },
     "execution_count": 11,
     "metadata": {},
     "output_type": "execute_result"
    },
    {
     "data": {
      "image/png": "[encoded data removed]",
      "text/plain": [
       "<Figure size 432x288 with 2 Axes>"
      ]
     },
     "metadata": {
      "needs_background": "light"
     },
     "output_type": "display_data"
    }
   ],
   "source": [
    "# confusion matrix of validation data\n",
    "\n",
    "sns.heatmap(confusion_matrix(y_val, pred), annot = True, fmt = 'd', cmap = 'Blues', linewidths=1, linecolor='black')"
   ]
  },
  {
   "cell_type": "code",
   "execution_count": 12,
   "metadata": {},
   "outputs": [
    {
     "name": "stdout",
     "output_type": "stream",
     "text": [
      "KNN Model: F1 Score = 0.893 PR-AUC = 0.936\n"
     ]
    }
   ],
   "source": [
    "# F1 score and Area under Precision-Recall Curve\n",
    "\n",
    "knn_probs = knn.predict_proba(X_val)\n",
    "knn_probs = knn_probs[:, 1]\n",
    "knn_precision, knn_recall, _ = precision_recall_curve(y_val, knn_probs)\n",
    "knn_f1, knn_auc = f1_score(y_val, pred), auc(knn_recall, knn_precision)\n",
    "print('KNN Model: F1 Score = %.3f PR-AUC = %.3f' % (knn_f1, knn_auc))"
   ]
  },
  {
   "cell_type": "code",
   "execution_count": 13,
   "metadata": {},
   "outputs": [],
   "source": [
    "# finding best K value\n",
    "\n",
    "error_rate = []\n",
    "for i in range(1,21):\n",
    "    \n",
    "    knn = KNeighborsClassifier(n_neighbors=i)\n",
    "    knn.fit(X_train,y_train)\n",
    "    pred_i = knn.predict(X_val)\n",
    "    error_rate.append(np.mean(pred_i != y_val))"
   ]
  },
  {
   "cell_type": "code",
   "execution_count": 14,
   "metadata": {},
   "outputs": [
    {
     "data": {
      "text/plain": [
       "Text(0, 0.5, 'Error Rate')"
      ]
     },
     "execution_count": 14,
     "metadata": {},
     "output_type": "execute_result"
    },
    {
     "data": {
      "image/png": "[encoded data removed]",
      "text/plain": [
       "<Figure size 720x432 with 1 Axes>"
      ]
     },
     "metadata": {
      "needs_background": "light"
     },
     "output_type": "display_data"
    }
   ],
   "source": [
    "plt.figure(figsize=(10,6))\n",
    "plt.plot(range(1,21),error_rate,color='blue', linestyle='dashed', marker='o',\n",
    "         markerfacecolor='red', markersize=10)\n",
    "plt.title('Error Rate vs. K Value')\n",
    "plt.xlabel('K')\n",
    "plt.ylabel('Error Rate')"
   ]
  },
  {
   "cell_type": "code",
   "execution_count": 15,
   "metadata": {},
   "outputs": [
    {
     "data": {
      "text/plain": [
       "KNeighborsClassifier(n_neighbors=15)"
      ]
     },
     "execution_count": 15,
     "metadata": {},
     "output_type": "execute_result"
    }
   ],
   "source": [
    "# Final Model with K = 15\n",
    "\n",
    "knn_final = KNeighborsClassifier(n_neighbors=15)\n",
    "knn_final.fit(X_train,y_train)"
   ]
  },
  {
   "cell_type": "code",
   "execution_count": 16,
   "metadata": {},
   "outputs": [
    {
     "name": "stdout",
     "output_type": "stream",
     "text": [
      "              precision    recall  f1-score   support\n",
      "\n",
      "           0       0.88      0.41      0.56      1444\n",
      "           1       0.88      0.99      0.93      6042\n",
      "\n",
      "    accuracy                           0.88      7486\n",
      "   macro avg       0.88      0.70      0.74      7486\n",
      "weighted avg       0.88      0.88      0.86      7486\n",
      "\n",
      "\n",
      " Accuracy:  0.8759016831418648\n"
     ]
    }
   ],
   "source": [
    "# classification accuracy on validation data\n",
    "\n",
    "pred = knn_final.predict(X_val)\n",
    "print(classification_report(y_val, pred))\n",
    "print('\\n Accuracy: ', accuracy_score(y_val, pred))"
   ]
  },
  {
   "cell_type": "code",
   "execution_count": 17,
   "metadata": {},
   "outputs": [
    {
     "name": "stdout",
     "output_type": "stream",
     "text": [
      "              precision    recall  f1-score   support\n",
      "\n",
      "           0       0.86      0.39      0.54      1395\n",
      "           1       0.88      0.99      0.93      6092\n",
      "\n",
      "    accuracy                           0.87      7487\n",
      "   macro avg       0.87      0.69      0.73      7487\n",
      "weighted avg       0.87      0.87      0.86      7487\n",
      "\n",
      "\n",
      " Accuracy:  0.8749833043942834\n"
     ]
    }
   ],
   "source": [
    "# classification accuracy on test data\n",
    "\n",
    "prediction = knn_final.predict(X_test)\n",
    "print(classification_report(y_test, prediction))\n",
    "print('\\n Accuracy: ', accuracy_score(y_test, prediction))"
   ]
  },
  {
   "cell_type": "code",
   "execution_count": 18,
   "metadata": {},
   "outputs": [
    {
     "data": {
      "text/plain": [
       "<matplotlib.axes._subplots.AxesSubplot at 0x1e53b838b20>"
      ]
     },
     "execution_count": 18,
     "metadata": {},
     "output_type": "execute_result"
    },
    {
     "data": {
      "image/png": "[encoded data removed]",
      "text/plain": [
       "<Figure size 432x288 with 2 Axes>"
      ]
     },
     "metadata": {
      "needs_background": "light"
     },
     "output_type": "display_data"
    }
   ],
   "source": [
    "# confusion matrix of test data\n",
    "\n",
    "sns.heatmap(confusion_matrix(y_test, prediction), annot = True, fmt = 'd', cmap = 'Blues', linewidths=1, linecolor='black')"
   ]
  },
  {
   "cell_type": "code",
   "execution_count": 19,
   "metadata": {},
   "outputs": [
    {
     "name": "stdout",
     "output_type": "stream",
     "text": [
      "KNN Model: F1 Score = 0.928 PR-AUC = 0.963\n"
     ]
    }
   ],
   "source": [
    "# F1 score and Area under Precision-Recall Curve for test data\n",
    "\n",
    "knn_probs = knn_final.predict_proba(X_test)\n",
    "knn_probs = knn_probs[:, 1]\n",
    "knn_precision, knn_recall, _ = precision_recall_curve(y_test, knn_probs)\n",
    "knn_f1, knn_auc = f1_score(y_test, prediction), auc(knn_recall, knn_precision)\n",
    "print('KNN Model: F1 Score = %.3f PR-AUC = %.3f' % (knn_f1, knn_auc))"
   ]
  },
  {
   "cell_type": "code",
   "execution_count": 20,
   "metadata": {},
   "outputs": [
    {
     "name": "stdout",
     "output_type": "stream",
     "text": [
      "average MSE: 0.136\n",
      "average Bias: 0.110\n",
      "average Variance: 0.026\n"
     ]
    }
   ],
   "source": [
    "# Bias and Variance of the model\n",
    "\n",
    "mse, bias, var = bias_variance_decomp(knn_final, X_train, y_train, X_test, y_test, loss='mse', num_rounds=10, random_seed=1)\n",
    "print('average MSE: %.3f' % mse)\n",
    "print('average Bias: %.3f' % bias)\n",
    "print('average Variance: %.3f' % var)"
   ]
  },
  {
   "cell_type": "code",
   "execution_count": 67,
   "metadata": {},
   "outputs": [],
   "source": []
  }
 ],
 "metadata": {
  "kernelspec": {
   "display_name": "Python 3",
   "language": "python",
   "name": "python3"
  },
  "language_info": {
   "codemirror_mode": {
    "name": "ipython",
    "version": 3
   },
   "file_extension": ".py",
   "mimetype": "text/x-python",
   "name": "python",
   "nbconvert_exporter": "python",
   "pygments_lexer": "ipython3",
   "version": "3.8.3"
  }
 },
 "nbformat": 4,
 "nbformat_minor": 4
}
