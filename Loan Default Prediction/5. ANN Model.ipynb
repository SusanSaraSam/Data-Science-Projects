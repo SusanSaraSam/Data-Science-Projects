{
 "cells": [
  {
   "cell_type": "code",
   "execution_count": 1,
   "metadata": {},
   "outputs": [],
   "source": [
    "# ANN Model "
   ]
  },
  {
   "cell_type": "code",
   "execution_count": 1,
   "metadata": {},
   "outputs": [],
   "source": [
    "import pandas as pd\n",
    "import numpy as np\n",
    "import seaborn as sns\n",
    "from sklearn.model_selection import train_test_split\n",
    "from sklearn.preprocessing import MinMaxScaler\n",
    "from sklearn.metrics import confusion_matrix, classification_report\n",
    "from sklearn.metrics import accuracy_score\n",
    "from sklearn.metrics import precision_recall_curve\n",
    "from sklearn.metrics import f1_score\n",
    "from sklearn.metrics import auc\n",
    "import tensorflow as tf\n",
    "from tensorflow.keras.models import Sequential\n",
    "from tensorflow.keras.layers import Dense, Activation\n",
    "from tensorflow.keras.callbacks import EarlyStopping\n",
    "from tensorflow.keras import regularizers\n",
    "from tensorflow.keras.constraints import max_norm\n",
    "sns.set()"
   ]
  },
  {
   "cell_type": "code",
   "execution_count": 2,
   "metadata": {},
   "outputs": [],
   "source": [
    "from numpy.random import seed\n",
    "seed(1)\n",
    "tf.random.set_seed(2)"
   ]
  },
  {
   "cell_type": "code",
   "execution_count": 3,
   "metadata": {},
   "outputs": [],
   "source": [
    "# reading loans dataset\n",
    "\n",
    "loans = pd.read_csv('lending_club_loan.csv')"
   ]
  },
  {
   "cell_type": "code",
   "execution_count": 4,
   "metadata": {},
   "outputs": [],
   "source": [
    "# function to fill in missing mort_acc values\n",
    "\n",
    "def fill_mort_acc(total_acc,mort_acc):\n",
    "    if np.isnan(mort_acc):\n",
    "        return total_acc_avg[total_acc]\n",
    "    else:\n",
    "        return mort_acc"
   ]
  },
  {
   "cell_type": "code",
   "execution_count": 5,
   "metadata": {},
   "outputs": [],
   "source": [
    "# feature engineering\n",
    "\n",
    "loans['loan_repaid'] = loans['loan_status'].map({'Fully Paid':1,'Charged Off':0})\n",
    "total_acc_avg = loans.groupby('total_acc').mean()['mort_acc']\n",
    "loans['mort_acc'] = loans.apply(lambda x: fill_mort_acc(x['total_acc'], x['mort_acc']), axis=1)\n",
    "\n",
    "#categorical variables\n",
    "loans['term'] = loans['term'].apply(lambda term: int(term[:3]))\n",
    "loans['home_ownership']=loans['home_ownership'].replace(['NONE', 'ANY'], 'OTHER')\n",
    "loans['zip_code'] = loans['address'].apply(lambda address:address[-5:])\n",
    "loans['earliest_cr_year'] = loans['earliest_cr_line'].apply(lambda date:int(date[:4]))\n",
    "\n",
    "dummies = pd.get_dummies(loans[['zip_code','home_ownership','grade','verification_status', 'application_type','initial_list_status','purpose' ]],drop_first=True)\n",
    "loans = loans.drop(['zip_code','address', 'home_ownership', 'grade','verification_status', 'application_type','initial_list_status','purpose'],axis=1)\n",
    "loans = pd.concat([loans,dummies],axis=1)\n",
    "\n",
    "loans = loans.drop(['emp_title','emp_length','title','sub_grade', 'issue_d', 'earliest_cr_line', 'loan_status'],axis=1)\n",
    "loans = loans.dropna()"
   ]
  },
  {
   "cell_type": "code",
   "execution_count": 6,
   "metadata": {},
   "outputs": [],
   "source": [
    "# separating labels from the data for training\n",
    "\n",
    "X = loans.drop('loan_repaid',axis=1).values\n",
    "y = loans['loan_repaid'].values"
   ]
  },
  {
   "cell_type": "code",
   "execution_count": 7,
   "metadata": {},
   "outputs": [],
   "source": [
    "# train-test-validation split\n",
    "\n",
    "X_train, X_test, y_train, y_test = train_test_split(X, y, test_size=0.30, random_state=101)\n",
    "X_val, X_test, y_val, y_test = train_test_split(X_test, y_test, test_size=0.5, random_state=101)"
   ]
  },
  {
   "cell_type": "code",
   "execution_count": 8,
   "metadata": {},
   "outputs": [],
   "source": [
    "# Normalizing the data\n",
    "\n",
    "scaler = MinMaxScaler()\n",
    "X_train = scaler.fit_transform(X_train)\n",
    "X_val = scaler.transform(X_val)\n",
    "X_test = scaler.transform(X_test)"
   ]
  },
  {
   "cell_type": "code",
   "execution_count": 9,
   "metadata": {},
   "outputs": [],
   "source": [
    "# Baseline Model\n",
    "\n",
    "model1 = Sequential()\n",
    "model1.add(Dense(units=100,activation='relu'))\n",
    "model1.add(Dense(units=80,activation='relu'))\n",
    "model1.add(Dense(units=40,activation='relu'))\n",
    "model1.add(Dense(units=20,activation='relu'))\n",
    "model1.add(Dense(units=10,activation='relu'))\n",
    "model1.add(Dense(units=1,activation='sigmoid'))\n",
    "\n",
    "model1.compile(loss='binary_crossentropy', optimizer='adam')"
   ]
  },
  {
   "cell_type": "code",
   "execution_count": 10,
   "metadata": {},
   "outputs": [
    {
     "name": "stdout",
     "output_type": "stream",
     "text": [
      "Train on 34935 samples, validate on 7486 samples\n",
      "Epoch 1/100\n",
      "34935/34935 [==============================] - 2s 68us/sample - loss: 0.4897 - val_loss: 0.3965\n",
      "Epoch 2/100\n",
      "34935/34935 [==============================] - 1s 15us/sample - loss: 0.3604 - val_loss: 0.3043\n",
      "Epoch 3/100\n",
      "34935/34935 [==============================] - 1s 16us/sample - loss: 0.2899 - val_loss: 0.2644\n",
      "Epoch 4/100\n",
      "34935/34935 [==============================] - 1s 15us/sample - loss: 0.2708 - val_loss: 0.2586\n",
      "Epoch 5/100\n",
      "34935/34935 [==============================] - 1s 15us/sample - loss: 0.2692 - val_loss: 0.2702\n",
      "Epoch 6/100\n",
      "34935/34935 [==============================] - 1s 16us/sample - loss: 0.2682 - val_loss: 0.2578\n",
      "Epoch 7/100\n",
      "34935/34935 [==============================] - 1s 15us/sample - loss: 0.2639 - val_loss: 0.2585\n",
      "Epoch 8/100\n",
      "34935/34935 [==============================] - 1s 16us/sample - loss: 0.2628 - val_loss: 0.2545\n",
      "Epoch 9/100\n",
      "34935/34935 [==============================] - 1s 15us/sample - loss: 0.2599 - val_loss: 0.2617\n",
      "Epoch 10/100\n",
      "34935/34935 [==============================] - 1s 15us/sample - loss: 0.2599 - val_loss: 0.2541\n",
      "Epoch 11/100\n",
      "34935/34935 [==============================] - 1s 15us/sample - loss: 0.2597 - val_loss: 0.2555\n",
      "Epoch 12/100\n",
      "34935/34935 [==============================] - 1s 15us/sample - loss: 0.2566 - val_loss: 0.2664\n",
      "Epoch 13/100\n",
      "34935/34935 [==============================] - 1s 15us/sample - loss: 0.2562 - val_loss: 0.2631\n",
      "Epoch 14/100\n",
      "34935/34935 [==============================] - 1s 16us/sample - loss: 0.2573 - val_loss: 0.2571\n",
      "Epoch 15/100\n",
      "34935/34935 [==============================] - 0s 9us/sample - loss: 0.2548 - val_loss: 0.2555\n",
      "Epoch 16/100\n",
      "34935/34935 [==============================] - 0s 9us/sample - loss: 0.2542 - val_loss: 0.2553\n",
      "Epoch 17/100\n",
      "34935/34935 [==============================] - 0s 13us/sample - loss: 0.2542 - val_loss: 0.2544\n",
      "Epoch 18/100\n",
      "34935/34935 [==============================] - 1s 16us/sample - loss: 0.2510 - val_loss: 0.2599\n",
      "Epoch 19/100\n",
      "34935/34935 [==============================] - 1s 16us/sample - loss: 0.2521 - val_loss: 0.2569\n",
      "Epoch 20/100\n",
      "34935/34935 [==============================] - 1s 16us/sample - loss: 0.2517 - val_loss: 0.2571\n",
      "Epoch 21/100\n",
      "34935/34935 [==============================] - 0s 11us/sample - loss: 0.2502 - val_loss: 0.2623\n",
      "Epoch 22/100\n",
      "34935/34935 [==============================] - 0s 9us/sample - loss: 0.2477 - val_loss: 0.2578\n",
      "Epoch 23/100\n",
      "34935/34935 [==============================] - 0s 10us/sample - loss: 0.2468 - val_loss: 0.2592\n",
      "Epoch 24/100\n",
      "34935/34935 [==============================] - 0s 9us/sample - loss: 0.2468 - val_loss: 0.2637\n",
      "Epoch 25/100\n",
      "34935/34935 [==============================] - 1s 15us/sample - loss: 0.2454 - val_loss: 0.2594\n",
      "Epoch 26/100\n",
      "34935/34935 [==============================] - 0s 14us/sample - loss: 0.2452 - val_loss: 0.2586\n",
      "Epoch 27/100\n",
      "34935/34935 [==============================] - 0s 12us/sample - loss: 0.2432 - val_loss: 0.2629\n",
      "Epoch 28/100\n",
      "34935/34935 [==============================] - 0s 13us/sample - loss: 0.2440 - val_loss: 0.2634\n",
      "Epoch 29/100\n",
      "34935/34935 [==============================] - 0s 11us/sample - loss: 0.2418 - val_loss: 0.2628\n",
      "Epoch 30/100\n",
      "34935/34935 [==============================] - 0s 9us/sample - loss: 0.2446 - val_loss: 0.2679\n",
      "Epoch 31/100\n",
      "34935/34935 [==============================] - 0s 14us/sample - loss: 0.2432 - val_loss: 0.2619\n",
      "Epoch 32/100\n",
      "34935/34935 [==============================] - 0s 14us/sample - loss: 0.2428 - val_loss: 0.2606\n",
      "Epoch 33/100\n",
      "34935/34935 [==============================] - 1s 16us/sample - loss: 0.2390 - val_loss: 0.2646\n",
      "Epoch 34/100\n",
      "34935/34935 [==============================] - 0s 9us/sample - loss: 0.2399 - val_loss: 0.2673\n",
      "Epoch 35/100\n",
      "34935/34935 [==============================] - 0s 14us/sample - loss: 0.2385 - val_loss: 0.2664\n",
      "Epoch 36/100\n",
      "34935/34935 [==============================] - 1s 15us/sample - loss: 0.2375 - val_loss: 0.2695\n",
      "Epoch 37/100\n",
      "34935/34935 [==============================] - 0s 14us/sample - loss: 0.2376 - val_loss: 0.2732\n",
      "Epoch 38/100\n",
      "34935/34935 [==============================] - 0s 10us/sample - loss: 0.2401 - val_loss: 0.2664\n",
      "Epoch 39/100\n",
      "34935/34935 [==============================] - 1s 15us/sample - loss: 0.2351 - val_loss: 0.2743\n",
      "Epoch 40/100\n",
      "34935/34935 [==============================] - 0s 10us/sample - loss: 0.2369 - val_loss: 0.2658\n",
      "Epoch 41/100\n",
      "34935/34935 [==============================] - 0s 11us/sample - loss: 0.2330 - val_loss: 0.2800\n",
      "Epoch 42/100\n",
      "34935/34935 [==============================] - 0s 12us/sample - loss: 0.2336 - val_loss: 0.2727\n",
      "Epoch 43/100\n",
      "34935/34935 [==============================] - 0s 12us/sample - loss: 0.2315 - val_loss: 0.2828\n",
      "Epoch 44/100\n",
      "34935/34935 [==============================] - 0s 13us/sample - loss: 0.2331 - val_loss: 0.2768\n",
      "Epoch 45/100\n",
      "34935/34935 [==============================] - 0s 9us/sample - loss: 0.2295 - val_loss: 0.2753\n",
      "Epoch 46/100\n",
      "34935/34935 [==============================] - 0s 9us/sample - loss: 0.2296 - val_loss: 0.2777\n",
      "Epoch 47/100\n",
      "34935/34935 [==============================] - 0s 11us/sample - loss: 0.2290 - val_loss: 0.2785\n",
      "Epoch 48/100\n",
      "34935/34935 [==============================] - 0s 10us/sample - loss: 0.2278 - val_loss: 0.2800\n",
      "Epoch 49/100\n",
      "34935/34935 [==============================] - 0s 12us/sample - loss: 0.2276 - val_loss: 0.2862\n",
      "Epoch 50/100\n",
      "34935/34935 [==============================] - 0s 14us/sample - loss: 0.2333 - val_loss: 0.2780\n",
      "Epoch 51/100\n",
      "34935/34935 [==============================] - 0s 14us/sample - loss: 0.2256 - val_loss: 0.2835\n",
      "Epoch 52/100\n",
      "34935/34935 [==============================] - 1s 17us/sample - loss: 0.2248 - val_loss: 0.2798\n",
      "Epoch 53/100\n",
      "34935/34935 [==============================] - 1s 15us/sample - loss: 0.2231 - val_loss: 0.2900\n",
      "Epoch 54/100\n",
      "34935/34935 [==============================] - 0s 8us/sample - loss: 0.2236 - val_loss: 0.2900\n",
      "Epoch 55/100\n",
      "34935/34935 [==============================] - 0s 14us/sample - loss: 0.2254 - val_loss: 0.2900\n",
      "Epoch 56/100\n",
      "34935/34935 [==============================] - 1s 15us/sample - loss: 0.2229 - val_loss: 0.2871\n",
      "Epoch 57/100\n",
      "34935/34935 [==============================] - 1s 15us/sample - loss: 0.2199 - val_loss: 0.2936\n",
      "Epoch 58/100\n",
      "34935/34935 [==============================] - 1s 16us/sample - loss: 0.2198 - val_loss: 0.2910\n",
      "Epoch 59/100\n",
      "34935/34935 [==============================] - 0s 11us/sample - loss: 0.2195 - val_loss: 0.2893\n",
      "Epoch 60/100\n",
      "34935/34935 [==============================] - 0s 9us/sample - loss: 0.2190 - val_loss: 0.2925\n",
      "Epoch 61/100\n",
      "34935/34935 [==============================] - 0s 10us/sample - loss: 0.2200 - val_loss: 0.2992\n",
      "Epoch 62/100\n",
      "34935/34935 [==============================] - 0s 11us/sample - loss: 0.2185 - val_loss: 0.2939\n",
      "Epoch 63/100\n",
      "34935/34935 [==============================] - 0s 9us/sample - loss: 0.2178 - val_loss: 0.2910\n",
      "Epoch 64/100\n",
      "34935/34935 [==============================] - 0s 9us/sample - loss: 0.2187 - val_loss: 0.2890\n",
      "Epoch 65/100\n",
      "34935/34935 [==============================] - 0s 11us/sample - loss: 0.2152 - val_loss: 0.3031\n",
      "Epoch 66/100\n",
      "34935/34935 [==============================] - 0s 9us/sample - loss: 0.2155 - val_loss: 0.3024\n",
      "Epoch 67/100\n",
      "34935/34935 [==============================] - 0s 13us/sample - loss: 0.2120 - val_loss: 0.3033\n",
      "Epoch 68/100\n",
      "34935/34935 [==============================] - 0s 11us/sample - loss: 0.2106 - val_loss: 0.3079\n",
      "Epoch 69/100\n",
      "34935/34935 [==============================] - 0s 9us/sample - loss: 0.2116 - val_loss: 0.3013\n",
      "Epoch 70/100\n",
      "34935/34935 [==============================] - 0s 9us/sample - loss: 0.2113 - val_loss: 0.3105\n",
      "Epoch 71/100\n",
      "34935/34935 [==============================] - 0s 14us/sample - loss: 0.2096 - val_loss: 0.3141\n",
      "Epoch 72/100\n",
      "34935/34935 [==============================] - 0s 13us/sample - loss: 0.2092 - val_loss: 0.3102\n",
      "Epoch 73/100\n",
      "34935/34935 [==============================] - 0s 13us/sample - loss: 0.2108 - val_loss: 0.3098\n",
      "Epoch 74/100\n",
      "34935/34935 [==============================] - 0s 9us/sample - loss: 0.2067 - val_loss: 0.3231\n",
      "Epoch 75/100\n",
      "34935/34935 [==============================] - 0s 10us/sample - loss: 0.2074 - val_loss: 0.3289\n"
     ]
    },
    {
     "name": "stdout",
     "output_type": "stream",
     "text": [
      "Epoch 76/100\n",
      "34935/34935 [==============================] - 0s 10us/sample - loss: 0.2045 - val_loss: 0.3249\n",
      "Epoch 77/100\n",
      "34935/34935 [==============================] - 0s 14us/sample - loss: 0.2044 - val_loss: 0.3253\n",
      "Epoch 78/100\n",
      "34935/34935 [==============================] - 0s 13us/sample - loss: 0.2072 - val_loss: 0.3264\n",
      "Epoch 79/100\n",
      "34935/34935 [==============================] - 0s 11us/sample - loss: 0.2053 - val_loss: 0.3230\n",
      "Epoch 80/100\n",
      "34935/34935 [==============================] - 0s 14us/sample - loss: 0.2034 - val_loss: 0.3258\n",
      "Epoch 81/100\n",
      "34935/34935 [==============================] - 0s 13us/sample - loss: 0.2028 - val_loss: 0.3252\n",
      "Epoch 82/100\n",
      "34935/34935 [==============================] - 0s 14us/sample - loss: 0.2010 - val_loss: 0.3337\n",
      "Epoch 83/100\n",
      "34935/34935 [==============================] - 1s 15us/sample - loss: 0.2033 - val_loss: 0.3326\n",
      "Epoch 84/100\n",
      "34935/34935 [==============================] - 1s 15us/sample - loss: 0.2013 - val_loss: 0.3477\n",
      "Epoch 85/100\n",
      "34935/34935 [==============================] - 1s 15us/sample - loss: 0.2013 - val_loss: 0.3306\n",
      "Epoch 86/100\n",
      "34935/34935 [==============================] - 1s 15us/sample - loss: 0.1991 - val_loss: 0.3319\n",
      "Epoch 87/100\n",
      "34935/34935 [==============================] - 0s 12us/sample - loss: 0.1975 - val_loss: 0.3434\n",
      "Epoch 88/100\n",
      "34935/34935 [==============================] - 1s 16us/sample - loss: 0.1973 - val_loss: 0.3464\n",
      "Epoch 89/100\n",
      "34935/34935 [==============================] - 1s 16us/sample - loss: 0.2041 - val_loss: 0.3456\n",
      "Epoch 90/100\n",
      "34935/34935 [==============================] - 0s 14us/sample - loss: 0.1979 - val_loss: 0.3494\n",
      "Epoch 91/100\n",
      "34935/34935 [==============================] - 1s 16us/sample - loss: 0.1975 - val_loss: 0.3463\n",
      "Epoch 92/100\n",
      "34935/34935 [==============================] - 1s 15us/sample - loss: 0.1945 - val_loss: 0.3577\n",
      "Epoch 93/100\n",
      "34935/34935 [==============================] - 1s 16us/sample - loss: 0.1928 - val_loss: 0.3470\n",
      "Epoch 94/100\n",
      "34935/34935 [==============================] - 0s 9us/sample - loss: 0.1923 - val_loss: 0.3641\n",
      "Epoch 95/100\n",
      "34935/34935 [==============================] - 1s 16us/sample - loss: 0.2040 - val_loss: 0.3514\n",
      "Epoch 96/100\n",
      "34935/34935 [==============================] - 0s 13us/sample - loss: 0.1994 - val_loss: 0.3457\n",
      "Epoch 97/100\n",
      "34935/34935 [==============================] - 0s 9us/sample - loss: 0.1934 - val_loss: 0.3496\n",
      "Epoch 98/100\n",
      "34935/34935 [==============================] - 1s 16us/sample - loss: 0.1887 - val_loss: 0.3489\n",
      "Epoch 99/100\n",
      "34935/34935 [==============================] - 1s 15us/sample - loss: 0.1872 - val_loss: 0.3559\n",
      "Epoch 100/100\n",
      "34935/34935 [==============================] - 0s 9us/sample - loss: 0.1888 - val_loss: 0.3701\n"
     ]
    },
    {
     "data": {
      "text/plain": [
       "<tensorflow.python.keras.callbacks.History at 0x2b9f2352b88>"
      ]
     },
     "execution_count": 10,
     "metadata": {},
     "output_type": "execute_result"
    }
   ],
   "source": [
    "# Training the model\n",
    "\n",
    "model1.fit(x=X_train, y=y_train, epochs=100,\n",
    "          batch_size=1000, validation_data=(X_val, y_val), )"
   ]
  },
  {
   "cell_type": "code",
   "execution_count": 11,
   "metadata": {},
   "outputs": [
    {
     "data": {
      "text/plain": [
       "<matplotlib.axes._subplots.AxesSubplot at 0x2b9f297fa88>"
      ]
     },
     "execution_count": 11,
     "metadata": {},
     "output_type": "execute_result"
    },
    {
     "data": {
      "image/png": "[encoded data removed]",
      "text/plain": [
       "<Figure size 432x288 with 1 Axes>"
      ]
     },
     "metadata": {},
     "output_type": "display_data"
    }
   ],
   "source": [
    "# plotting training and validation loss\n",
    "\n",
    "losses = pd.DataFrame(model1.history.history)\n",
    "losses[['loss','val_loss']].plot()"
   ]
  },
  {
   "cell_type": "code",
   "execution_count": 12,
   "metadata": {},
   "outputs": [
    {
     "name": "stdout",
     "output_type": "stream",
     "text": [
      "              precision    recall  f1-score   support\n",
      "\n",
      "           0       0.67      0.57      0.62      1444\n",
      "           1       0.90      0.93      0.92      6042\n",
      "\n",
      "    accuracy                           0.86      7486\n",
      "   macro avg       0.78      0.75      0.77      7486\n",
      "weighted avg       0.86      0.86      0.86      7486\n",
      "\n",
      "\n",
      " Accuracy:  0.8628105797488645\n"
     ]
    }
   ],
   "source": [
    "# classification accuracy on validation data\n",
    "\n",
    "predictions = model1.predict_classes(X_val)\n",
    "print(classification_report(y_val, predictions))\n",
    "print('\\n Accuracy: ', (accuracy_score(y_val,predictions)))"
   ]
  },
  {
   "cell_type": "code",
   "execution_count": 13,
   "metadata": {},
   "outputs": [
    {
     "data": {
      "text/plain": [
       "<matplotlib.axes._subplots.AxesSubplot at 0x2b9f3acffc8>"
      ]
     },
     "execution_count": 13,
     "metadata": {},
     "output_type": "execute_result"
    },
    {
     "data": {
      "image/png": "[encoded data removed]",
      "text/plain": [
       "<Figure size 432x288 with 2 Axes>"
      ]
     },
     "metadata": {},
     "output_type": "display_data"
    }
   ],
   "source": [
    "# confusion matrix of validation data\n",
    "\n",
    "sns.heatmap(confusion_matrix(y_val, predictions), annot = True, fmt = 'd', cmap = 'Blues', linewidths=1, linecolor='black')"
   ]
  },
  {
   "cell_type": "code",
   "execution_count": 14,
   "metadata": {},
   "outputs": [
    {
     "name": "stdout",
     "output_type": "stream",
     "text": [
      "ANN: F1 Score = 0.916 PR-AUC = 0.967\n"
     ]
    }
   ],
   "source": [
    "# F1 score and Area under Precision recall Curve for validation data\n",
    "\n",
    "ann_probs = model1.predict_proba(X_val)\n",
    "ann_precision, ann_recall, _ = precision_recall_curve(y_val, ann_probs)\n",
    "ann_f1, ann_auc = f1_score(y_val, predictions), auc(ann_recall, ann_precision)\n",
    "print('ANN: F1 Score = %.3f PR-AUC = %.3f' % (ann_f1, ann_auc))\n"
   ]
  },
  {
   "cell_type": "code",
   "execution_count": 17,
   "metadata": {},
   "outputs": [],
   "source": [
    "# adding early stopping criterion to avoid overfitting as overfiiting was occuring in the first model\n",
    "\n",
    "early_stop = EarlyStopping(monitor='val_loss', mode='min', verbose=1, patience=25)"
   ]
  },
  {
   "cell_type": "code",
   "execution_count": 18,
   "metadata": {},
   "outputs": [],
   "source": [
    "# Final Model with early stopping and regularization\n",
    "\n",
    "model2 = Sequential()\n",
    "model2.add(Dense(units=100,activation='relu', kernel_regularizer=regularizers.l2(0.001)))\n",
    "model2.add(Dense(units=50,activation='relu', kernel_regularizer=regularizers.l2(0.001)))\n",
    "model2.add(Dense(units=5,activation='relu', kernel_regularizer=regularizers.l2(0.001)))\n",
    "\n",
    "model2.add(Dense(units=1,activation='sigmoid'))\n",
    "model2.compile(loss='binary_crossentropy', optimizer='adam')"
   ]
  },
  {
   "cell_type": "code",
   "execution_count": 19,
   "metadata": {},
   "outputs": [
    {
     "name": "stdout",
     "output_type": "stream",
     "text": [
      "Train on 34935 samples, validate on 7486 samples\n",
      "Epoch 1/100\n",
      "34935/34935 [==============================] - 2s 55us/sample - loss: 0.6398 - val_loss: 0.5624\n",
      "Epoch 2/100\n",
      "34935/34935 [==============================] - 0s 6us/sample - loss: 0.5194 - val_loss: 0.4591\n",
      "Epoch 3/100\n",
      "34935/34935 [==============================] - 0s 10us/sample - loss: 0.4415 - val_loss: 0.4098\n",
      "Epoch 4/100\n",
      "34935/34935 [==============================] - 0s 12us/sample - loss: 0.4100 - val_loss: 0.3892\n",
      "Epoch 5/100\n",
      "34935/34935 [==============================] - 0s 12us/sample - loss: 0.3941 - val_loss: 0.3781\n",
      "Epoch 6/100\n",
      "34935/34935 [==============================] - 0s 12us/sample - loss: 0.3827 - val_loss: 0.3672\n",
      "Epoch 7/100\n",
      "34935/34935 [==============================] - 0s 13us/sample - loss: 0.3754 - val_loss: 0.3615\n",
      "Epoch 8/100\n",
      "34935/34935 [==============================] - 0s 12us/sample - loss: 0.3688 - val_loss: 0.3556\n",
      "Epoch 9/100\n",
      "34935/34935 [==============================] - 0s 12us/sample - loss: 0.3649 - val_loss: 0.3542\n",
      "Epoch 10/100\n",
      "34935/34935 [==============================] - 0s 12us/sample - loss: 0.3594 - val_loss: 0.3470\n",
      "Epoch 11/100\n",
      "34935/34935 [==============================] - 0s 12us/sample - loss: 0.3557 - val_loss: 0.3470\n",
      "Epoch 12/100\n",
      "34935/34935 [==============================] - 0s 12us/sample - loss: 0.3533 - val_loss: 0.3413\n",
      "Epoch 13/100\n",
      "34935/34935 [==============================] - 0s 12us/sample - loss: 0.3498 - val_loss: 0.3374\n",
      "Epoch 14/100\n",
      "34935/34935 [==============================] - 0s 12us/sample - loss: 0.3469 - val_loss: 0.3493\n",
      "Epoch 15/100\n",
      "34935/34935 [==============================] - 0s 12us/sample - loss: 0.3464 - val_loss: 0.3316\n",
      "Epoch 16/100\n",
      "34935/34935 [==============================] - 0s 12us/sample - loss: 0.3415 - val_loss: 0.3306\n",
      "Epoch 17/100\n",
      "34935/34935 [==============================] - 0s 12us/sample - loss: 0.3398 - val_loss: 0.3279\n",
      "Epoch 18/100\n",
      "34935/34935 [==============================] - 0s 13us/sample - loss: 0.3370 - val_loss: 0.3288\n",
      "Epoch 19/100\n",
      "34935/34935 [==============================] - 0s 12us/sample - loss: 0.3352 - val_loss: 0.3247\n",
      "Epoch 20/100\n",
      "34935/34935 [==============================] - 0s 12us/sample - loss: 0.3342 - val_loss: 0.3266\n",
      "Epoch 21/100\n",
      "34935/34935 [==============================] - 0s 12us/sample - loss: 0.3330 - val_loss: 0.3210\n",
      "Epoch 22/100\n",
      "34935/34935 [==============================] - 0s 13us/sample - loss: 0.3299 - val_loss: 0.3207\n",
      "Epoch 23/100\n",
      "34935/34935 [==============================] - 0s 12us/sample - loss: 0.3287 - val_loss: 0.3203\n",
      "Epoch 24/100\n",
      "34935/34935 [==============================] - 0s 12us/sample - loss: 0.3271 - val_loss: 0.3175\n",
      "Epoch 25/100\n",
      "34935/34935 [==============================] - 0s 12us/sample - loss: 0.3264 - val_loss: 0.3164\n",
      "Epoch 26/100\n",
      "34935/34935 [==============================] - 0s 13us/sample - loss: 0.3240 - val_loss: 0.3136\n",
      "Epoch 27/100\n",
      "34935/34935 [==============================] - 0s 12us/sample - loss: 0.3228 - val_loss: 0.3128\n",
      "Epoch 28/100\n",
      "34935/34935 [==============================] - 0s 12us/sample - loss: 0.3218 - val_loss: 0.3115\n",
      "Epoch 29/100\n",
      "34935/34935 [==============================] - 0s 13us/sample - loss: 0.3207 - val_loss: 0.3103\n",
      "Epoch 30/100\n",
      "34935/34935 [==============================] - 0s 13us/sample - loss: 0.3196 - val_loss: 0.3099\n",
      "Epoch 31/100\n",
      "34935/34935 [==============================] - 0s 13us/sample - loss: 0.3185 - val_loss: 0.3095\n",
      "Epoch 32/100\n",
      "34935/34935 [==============================] - 0s 12us/sample - loss: 0.3193 - val_loss: 0.3092\n",
      "Epoch 33/100\n",
      "34935/34935 [==============================] - 0s 13us/sample - loss: 0.3165 - val_loss: 0.3102\n",
      "Epoch 34/100\n",
      "34935/34935 [==============================] - 0s 13us/sample - loss: 0.3154 - val_loss: 0.3059\n",
      "Epoch 35/100\n",
      "34935/34935 [==============================] - 0s 10us/sample - loss: 0.3138 - val_loss: 0.3046\n",
      "Epoch 36/100\n",
      "34935/34935 [==============================] - 0s 9us/sample - loss: 0.3134 - val_loss: 0.3049\n",
      "Epoch 37/100\n",
      "34935/34935 [==============================] - 0s 14us/sample - loss: 0.3138 - val_loss: 0.3055\n",
      "Epoch 38/100\n",
      "34935/34935 [==============================] - 0s 7us/sample - loss: 0.3118 - val_loss: 0.3028\n",
      "Epoch 39/100\n",
      "34935/34935 [==============================] - 0s 12us/sample - loss: 0.3105 - val_loss: 0.3006\n",
      "Epoch 40/100\n",
      "34935/34935 [==============================] - 0s 8us/sample - loss: 0.3095 - val_loss: 0.2996\n",
      "Epoch 41/100\n",
      "34935/34935 [==============================] - 0s 10us/sample - loss: 0.3086 - val_loss: 0.3040\n",
      "Epoch 42/100\n",
      "34935/34935 [==============================] - 0s 10us/sample - loss: 0.3084 - val_loss: 0.2987\n",
      "Epoch 43/100\n",
      "34935/34935 [==============================] - 0s 7us/sample - loss: 0.3075 - val_loss: 0.3000\n",
      "Epoch 44/100\n",
      "34935/34935 [==============================] - 0s 12us/sample - loss: 0.3068 - val_loss: 0.2983\n",
      "Epoch 45/100\n",
      "34935/34935 [==============================] - 0s 9us/sample - loss: 0.3053 - val_loss: 0.2963\n",
      "Epoch 46/100\n",
      "34935/34935 [==============================] - 0s 9us/sample - loss: 0.3063 - val_loss: 0.2960\n",
      "Epoch 47/100\n",
      "34935/34935 [==============================] - 0s 9us/sample - loss: 0.3043 - val_loss: 0.2967\n",
      "Epoch 48/100\n",
      "34935/34935 [==============================] - 0s 11us/sample - loss: 0.3031 - val_loss: 0.2943\n",
      "Epoch 49/100\n",
      "34935/34935 [==============================] - 0s 8us/sample - loss: 0.3031 - val_loss: 0.2945\n",
      "Epoch 50/100\n",
      "34935/34935 [==============================] - 0s 11us/sample - loss: 0.3019 - val_loss: 0.2936\n",
      "Epoch 51/100\n",
      "34935/34935 [==============================] - 0s 7us/sample - loss: 0.3018 - val_loss: 0.2940\n",
      "Epoch 52/100\n",
      "34935/34935 [==============================] - 0s 11us/sample - loss: 0.3015 - val_loss: 0.2922\n",
      "Epoch 53/100\n",
      "34935/34935 [==============================] - 0s 11us/sample - loss: 0.3006 - val_loss: 0.2942\n",
      "Epoch 54/100\n",
      "34935/34935 [==============================] - 0s 11us/sample - loss: 0.3005 - val_loss: 0.2906\n",
      "Epoch 55/100\n",
      "34935/34935 [==============================] - 0s 9us/sample - loss: 0.2989 - val_loss: 0.2913\n",
      "Epoch 56/100\n",
      "34935/34935 [==============================] - 0s 11us/sample - loss: 0.2987 - val_loss: 0.2918\n",
      "Epoch 57/100\n",
      "34935/34935 [==============================] - 0s 8us/sample - loss: 0.2994 - val_loss: 0.2904\n",
      "Epoch 58/100\n",
      "34935/34935 [==============================] - 0s 7us/sample - loss: 0.2983 - val_loss: 0.2909\n",
      "Epoch 59/100\n",
      "34935/34935 [==============================] - 0s 7us/sample - loss: 0.2976 - val_loss: 0.2887\n",
      "Epoch 60/100\n",
      "34935/34935 [==============================] - 0s 7us/sample - loss: 0.2967 - val_loss: 0.2893\n",
      "Epoch 61/100\n",
      "34935/34935 [==============================] - 0s 8us/sample - loss: 0.2986 - val_loss: 0.2899\n",
      "Epoch 62/100\n",
      "34935/34935 [==============================] - 0s 7us/sample - loss: 0.2964 - val_loss: 0.2876\n",
      "Epoch 63/100\n",
      "34935/34935 [==============================] - 0s 11us/sample - loss: 0.2957 - val_loss: 0.2874\n",
      "Epoch 64/100\n",
      "34935/34935 [==============================] - 0s 7us/sample - loss: 0.2950 - val_loss: 0.2882\n",
      "Epoch 65/100\n",
      "34935/34935 [==============================] - 0s 7us/sample - loss: 0.2956 - val_loss: 0.2912\n",
      "Epoch 66/100\n",
      "34935/34935 [==============================] - 0s 8us/sample - loss: 0.2948 - val_loss: 0.2873\n",
      "Epoch 67/100\n",
      "34935/34935 [==============================] - 0s 10us/sample - loss: 0.2956 - val_loss: 0.2857\n",
      "Epoch 68/100\n",
      "34935/34935 [==============================] - 0s 10us/sample - loss: 0.2932 - val_loss: 0.2879\n",
      "Epoch 69/100\n",
      "34935/34935 [==============================] - 0s 10us/sample - loss: 0.2949 - val_loss: 0.2877\n",
      "Epoch 70/100\n",
      "34935/34935 [==============================] - 0s 9us/sample - loss: 0.2920 - val_loss: 0.2853\n",
      "Epoch 71/100\n",
      "34935/34935 [==============================] - 0s 9us/sample - loss: 0.2921 - val_loss: 0.2854\n",
      "Epoch 72/100\n",
      "34935/34935 [==============================] - 0s 7us/sample - loss: 0.2919 - val_loss: 0.2893\n",
      "Epoch 73/100\n",
      "34935/34935 [==============================] - 0s 9us/sample - loss: 0.2921 - val_loss: 0.2861\n",
      "Epoch 74/100\n",
      "34935/34935 [==============================] - 0s 11us/sample - loss: 0.2919 - val_loss: 0.2872\n",
      "Epoch 75/100\n",
      "34935/34935 [==============================] - 0s 11us/sample - loss: 0.2911 - val_loss: 0.2843\n",
      "Epoch 76/100\n"
     ]
    },
    {
     "name": "stdout",
     "output_type": "stream",
     "text": [
      "34935/34935 [==============================] - 0s 7us/sample - loss: 0.2902 - val_loss: 0.2830\n",
      "Epoch 77/100\n",
      "34935/34935 [==============================] - 0s 11us/sample - loss: 0.2901 - val_loss: 0.2837\n",
      "Epoch 78/100\n",
      "34935/34935 [==============================] - 0s 12us/sample - loss: 0.2899 - val_loss: 0.2828\n",
      "Epoch 79/100\n",
      "34935/34935 [==============================] - 0s 12us/sample - loss: 0.2915 - val_loss: 0.2825\n",
      "Epoch 80/100\n",
      "34935/34935 [==============================] - 0s 11us/sample - loss: 0.2895 - val_loss: 0.2838\n",
      "Epoch 81/100\n",
      "34935/34935 [==============================] - 0s 12us/sample - loss: 0.2887 - val_loss: 0.2816\n",
      "Epoch 82/100\n",
      "34935/34935 [==============================] - 0s 7us/sample - loss: 0.2887 - val_loss: 0.2816\n",
      "Epoch 83/100\n",
      "34935/34935 [==============================] - 0s 11us/sample - loss: 0.2881 - val_loss: 0.2811\n",
      "Epoch 84/100\n",
      "34935/34935 [==============================] - 0s 11us/sample - loss: 0.2877 - val_loss: 0.2817\n",
      "Epoch 85/100\n",
      "34935/34935 [==============================] - 0s 10us/sample - loss: 0.2879 - val_loss: 0.2809\n",
      "Epoch 86/100\n",
      "34935/34935 [==============================] - 0s 12us/sample - loss: 0.2877 - val_loss: 0.2802\n",
      "Epoch 87/100\n",
      "34935/34935 [==============================] - 0s 13us/sample - loss: 0.2869 - val_loss: 0.2802\n",
      "Epoch 88/100\n",
      "34935/34935 [==============================] - 0s 10us/sample - loss: 0.2870 - val_loss: 0.2802\n",
      "Epoch 89/100\n",
      "34935/34935 [==============================] - 0s 9us/sample - loss: 0.2864 - val_loss: 0.2811\n",
      "Epoch 90/100\n",
      "34935/34935 [==============================] - 0s 13us/sample - loss: 0.2868 - val_loss: 0.2798\n",
      "Epoch 91/100\n",
      "34935/34935 [==============================] - 0s 10us/sample - loss: 0.2864 - val_loss: 0.2796\n",
      "Epoch 92/100\n",
      "34935/34935 [==============================] - 0s 13us/sample - loss: 0.2857 - val_loss: 0.2802\n",
      "Epoch 93/100\n",
      "34935/34935 [==============================] - 0s 12us/sample - loss: 0.2859 - val_loss: 0.2804\n",
      "Epoch 94/100\n",
      "34935/34935 [==============================] - 0s 8us/sample - loss: 0.2864 - val_loss: 0.2786\n",
      "Epoch 95/100\n",
      "34935/34935 [==============================] - 0s 13us/sample - loss: 0.2852 - val_loss: 0.2783\n",
      "Epoch 96/100\n",
      "34935/34935 [==============================] - 0s 11us/sample - loss: 0.2847 - val_loss: 0.2780\n",
      "Epoch 97/100\n",
      "34935/34935 [==============================] - 0s 13us/sample - loss: 0.2841 - val_loss: 0.2778\n",
      "Epoch 98/100\n",
      "34935/34935 [==============================] - 0s 9us/sample - loss: 0.2851 - val_loss: 0.2778\n",
      "Epoch 99/100\n",
      "34935/34935 [==============================] - 0s 13us/sample - loss: 0.2841 - val_loss: 0.2770\n",
      "Epoch 100/100\n",
      "34935/34935 [==============================] - 0s 10us/sample - loss: 0.2833 - val_loss: 0.2780\n"
     ]
    },
    {
     "data": {
      "text/plain": [
       "<tensorflow.python.keras.callbacks.History at 0x2b9f299c6c8>"
      ]
     },
     "execution_count": 19,
     "metadata": {},
     "output_type": "execute_result"
    }
   ],
   "source": [
    "# training the model\n",
    "\n",
    "model2.fit(x=X_train, y=y_train, epochs=100,\n",
    "          batch_size = 1000, validation_data=(X_val, y_val), verbose=1, callbacks=[early_stop])"
   ]
  },
  {
   "cell_type": "code",
   "execution_count": 20,
   "metadata": {},
   "outputs": [
    {
     "data": {
      "text/plain": [
       "<matplotlib.axes._subplots.AxesSubplot at 0x2b9f5b63148>"
      ]
     },
     "execution_count": 20,
     "metadata": {},
     "output_type": "execute_result"
    },
    {
     "data": {
      "image/png": "[encoded data removed]",
      "text/plain": [
       "<Figure size 432x288 with 1 Axes>"
      ]
     },
     "metadata": {},
     "output_type": "display_data"
    }
   ],
   "source": [
    "# plotting model losses\n",
    "\n",
    "model_loss = pd.DataFrame(model2.history.history)\n",
    "model_loss.plot()"
   ]
  },
  {
   "cell_type": "code",
   "execution_count": 25,
   "metadata": {},
   "outputs": [
    {
     "name": "stdout",
     "output_type": "stream",
     "text": [
      "              precision    recall  f1-score   support\n",
      "\n",
      "           0       0.93      0.48      0.63      1444\n",
      "           1       0.89      0.99      0.94      6042\n",
      "\n",
      "    accuracy                           0.89      7486\n",
      "   macro avg       0.91      0.74      0.79      7486\n",
      "weighted avg       0.90      0.89      0.88      7486\n",
      "\n",
      "\n",
      " Accuracy:  0.8930002671653754\n"
     ]
    }
   ],
   "source": [
    "# classification accuracies of final model on validation data\n",
    "\n",
    "predictions = model2.predict_classes(X_val)\n",
    "print(classification_report(y_val, predictions))\n",
    "print('\\n Accuracy: ', (accuracy_score(y_val,predictions)))"
   ]
  },
  {
   "cell_type": "code",
   "execution_count": 26,
   "metadata": {},
   "outputs": [
    {
     "name": "stdout",
     "output_type": "stream",
     "text": [
      "              precision    recall  f1-score   support\n",
      "\n",
      "           0       0.92      0.46      0.62      1395\n",
      "           1       0.89      0.99      0.94      6092\n",
      "\n",
      "    accuracy                           0.89      7487\n",
      "   macro avg       0.91      0.73      0.78      7487\n",
      "weighted avg       0.90      0.89      0.88      7487\n",
      "\n",
      "\n",
      " Accuracy of Final Model:  0.8924802991852544\n"
     ]
    }
   ],
   "source": [
    "# Classfication accuracies of final model on test data\n",
    "\n",
    "predictions = model2.predict_classes(X_test)\n",
    "print(classification_report(y_test, predictions))\n",
    "print('\\n Accuracy of Final Model: ', (accuracy_score(y_test,predictions)))"
   ]
  },
  {
   "cell_type": "code",
   "execution_count": 27,
   "metadata": {},
   "outputs": [
    {
     "data": {
      "text/plain": [
       "<matplotlib.axes._subplots.AxesSubplot at 0x2b9f5d4da48>"
      ]
     },
     "execution_count": 27,
     "metadata": {},
     "output_type": "execute_result"
    },
    {
     "data": {
      "image/png": "[encoded data removed]",
      "text/plain": [
       "<Figure size 432x288 with 2 Axes>"
      ]
     },
     "metadata": {},
     "output_type": "display_data"
    }
   ],
   "source": [
    "# confusion matrix of test data\n",
    "\n",
    "sns.heatmap(confusion_matrix(y_test, predictions), annot = True, fmt = 'd', cmap = 'Blues', linewidths=1, linecolor='black')"
   ]
  },
  {
   "cell_type": "code",
   "execution_count": 28,
   "metadata": {},
   "outputs": [
    {
     "name": "stdout",
     "output_type": "stream",
     "text": [
      "ANN: F1 Score = 0.938 PR-AUC = 0.976\n"
     ]
    }
   ],
   "source": [
    "# F1 score and Area under Precision-Recall Curve for test data\n",
    "\n",
    "ann_probs = model2.predict_proba(X_test)\n",
    "ann_precision, ann_recall, _ = precision_recall_curve(y_test, ann_probs)\n",
    "ann_f1, ann_auc = f1_score(y_test, predictions), auc(ann_recall, ann_precision)\n",
    "print('ANN: F1 Score = %.3f PR-AUC = %.3f' % (ann_f1, ann_auc))"
   ]
  },
  {
   "cell_type": "code",
   "execution_count": null,
   "metadata": {},
   "outputs": [],
   "source": []
  }
 ],
 "metadata": {
  "kernelspec": {
   "display_name": "Python 3 (ipykernel)",
   "language": "python",
   "name": "python3"
  },
  "language_info": {
   "codemirror_mode": {
    "name": "ipython",
    "version": 3
   },
   "file_extension": ".py",
   "mimetype": "text/x-python",
   "name": "python",
   "nbconvert_exporter": "python",
   "pygments_lexer": "ipython3",
   "version": "3.9.7"
  }
 },
 "nbformat": 4,
 "nbformat_minor": 4
}
