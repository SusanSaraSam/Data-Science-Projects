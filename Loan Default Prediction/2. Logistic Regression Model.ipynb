{
 "cells": [
  {
   "cell_type": "code",
   "execution_count": 1,
   "metadata": {},
   "outputs": [],
   "source": [
    "# Logistic Regression Model"
   ]
  },
  {
   "cell_type": "code",
   "execution_count": 2,
   "metadata": {},
   "outputs": [],
   "source": [
    "import pandas as pd\n",
    "import numpy as np\n",
    "import seaborn as sns\n",
    "from sklearn.model_selection import train_test_split\n",
    "from sklearn.preprocessing import MinMaxScaler\n",
    "from sklearn.linear_model import LogisticRegression\n",
    "from sklearn.metrics import confusion_matrix, classification_report\n",
    "from sklearn.metrics import accuracy_score\n",
    "from sklearn.metrics import precision_recall_curve\n",
    "from sklearn.metrics import f1_score\n",
    "from sklearn.metrics import auc\n",
    "from sklearn.model_selection import RepeatedStratifiedKFold\n",
    "from sklearn.model_selection import GridSearchCV\n",
    "from mlxtend.evaluate import bias_variance_decomp\n",
    "sns.set()"
   ]
  },
  {
   "cell_type": "code",
   "execution_count": 4,
   "metadata": {},
   "outputs": [],
   "source": [
    "# reading loand dataset\n",
    "\n",
    "loans = pd.read_csv('lending_club_loan.csv')"
   ]
  },
  {
   "cell_type": "code",
   "execution_count": 5,
   "metadata": {},
   "outputs": [],
   "source": [
    "# function for filling in missing mort_acc values\n",
    "\n",
    "def fill_mort_acc(total_acc,mort_acc):\n",
    "    if np.isnan(mort_acc):\n",
    "        return total_acc_avg[total_acc]\n",
    "    else:\n",
    "        return mort_acc"
   ]
  },
  {
   "cell_type": "code",
   "execution_count": 6,
   "metadata": {},
   "outputs": [],
   "source": [
    "# feature engineering\n",
    "\n",
    "loans['loan_repaid'] = loans['loan_status'].map({'Fully Paid':1,'Charged Off':0})\n",
    "total_acc_avg = loans.groupby('total_acc').mean()['mort_acc']\n",
    "loans['mort_acc'] = loans.apply(lambda x: fill_mort_acc(x['total_acc'], x['mort_acc']), axis=1)\n",
    "\n",
    "#categorical variables\n",
    "loans['term'] = loans['term'].apply(lambda term: int(term[:3]))\n",
    "loans['home_ownership']=loans['home_ownership'].replace(['NONE', 'ANY'], 'OTHER')\n",
    "loans['zip_code'] = loans['address'].apply(lambda address:address[-5:])\n",
    "loans['earliest_cr_year'] = loans['earliest_cr_line'].apply(lambda date:int(date[:4]))\n",
    "\n",
    "dummies = pd.get_dummies(loans[['zip_code','home_ownership','grade','verification_status', 'application_type','initial_list_status','purpose' ]],drop_first=True)\n",
    "loans = loans.drop(['zip_code','address', 'home_ownership', 'grade','verification_status', 'application_type','initial_list_status','purpose'],axis=1)\n",
    "loans = pd.concat([loans,dummies],axis=1)\n",
    "\n",
    "loans = loans.drop(['emp_title','emp_length','title','sub_grade', 'issue_d', 'earliest_cr_line', 'loan_status'],axis=1)\n",
    "loans = loans.dropna() "
   ]
  },
  {
   "cell_type": "code",
   "execution_count": 7,
   "metadata": {},
   "outputs": [],
   "source": [
    "# separating attributes from labels\n",
    "\n",
    "X = loans.drop('loan_repaid',axis=1).values\n",
    "y = loans['loan_repaid'].values"
   ]
  },
  {
   "cell_type": "code",
   "execution_count": 8,
   "metadata": {},
   "outputs": [],
   "source": [
    "#train test split\n",
    "\n",
    "X_train, X_test, y_train, y_test = train_test_split(X, y, test_size=0.30, random_state=101)\n",
    "X_val, X_test, y_val, y_test = train_test_split(X_test, y_test, test_size=0.5, random_state=101)"
   ]
  },
  {
   "cell_type": "code",
   "execution_count": 9,
   "metadata": {},
   "outputs": [],
   "source": [
    "# Normalizing the data\n",
    "\n",
    "scaler = MinMaxScaler()\n",
    "X_train = scaler.fit_transform(X_train)\n",
    "X_val = scaler.transform(X_val)\n",
    "X_test = scaler.transform(X_test)"
   ]
  },
  {
   "cell_type": "code",
   "execution_count": 10,
   "metadata": {},
   "outputs": [],
   "source": [
    "#creating baseline model\n",
    "\n",
    "logreg = LogisticRegression(solver='lbfgs', max_iter = 1000, C = 0.001)\n",
    "logreg.fit(X_train, y_train)\n",
    "pred = logreg.predict(X_val)"
   ]
  },
  {
   "cell_type": "code",
   "execution_count": 11,
   "metadata": {},
   "outputs": [
    {
     "name": "stdout",
     "output_type": "stream",
     "text": [
      "              precision    recall  f1-score   support\n",
      "\n",
      "           0       1.00      0.00      0.00      1444\n",
      "           1       0.81      1.00      0.89      6042\n",
      "\n",
      "    accuracy                           0.81      7486\n",
      "   macro avg       0.90      0.50      0.45      7486\n",
      "weighted avg       0.84      0.81      0.72      7486\n",
      "\n",
      "\n",
      " Accuracy on validation data:  0.8075073470478226\n"
     ]
    }
   ],
   "source": [
    "# classification accuracy on validation data\n",
    "\n",
    "print(classification_report(y_val, pred))\n",
    "print('\\n Accuracy on validation data: ', accuracy_score(y_val, pred))"
   ]
  },
  {
   "cell_type": "code",
   "execution_count": 12,
   "metadata": {},
   "outputs": [
    {
     "data": {
      "text/plain": [
       "<matplotlib.axes._subplots.AxesSubplot at 0x1656f141d60>"
      ]
     },
     "execution_count": 12,
     "metadata": {},
     "output_type": "execute_result"
    },
    {
     "data": {
      "image/png": "[encoded data removed]",
      "text/plain": [
       "<Figure size 432x288 with 2 Axes>"
      ]
     },
     "metadata": {},
     "output_type": "display_data"
    }
   ],
   "source": [
    "# confusion matrix on validation data\n",
    "\n",
    "sns.heatmap(confusion_matrix(y_val, pred), annot = True, fmt = 'd', cmap = 'Blues', linewidths=1, linecolor='black')"
   ]
  },
  {
   "cell_type": "code",
   "execution_count": 13,
   "metadata": {},
   "outputs": [
    {
     "name": "stdout",
     "output_type": "stream",
     "text": [
      "Logistic Model: F1 score = 0.893 PR-AUC = 0.956\n"
     ]
    }
   ],
   "source": [
    "# F1 score and  Area under precision-recall curve for validation data\n",
    "\n",
    "lr_probs = logreg.predict_proba(X_val)\n",
    "lr_probs = lr_probs[:, 1]\n",
    "lr_precision, lr_recall, _ = precision_recall_curve(y_val, lr_probs)\n",
    "lr_f1, lr_auc = f1_score(y_val, pred), auc(lr_recall, lr_precision)\n",
    "print('Logistic Model: F1 score = %.3f PR-AUC = %.3f' % (lr_f1, lr_auc))\n"
   ]
  },
  {
   "cell_type": "code",
   "execution_count": 14,
   "metadata": {},
   "outputs": [
    {
     "name": "stdout",
     "output_type": "stream",
     "text": [
      "Best: 0.893401 using {'C': 1.0, 'penalty': 'l2', 'solver': 'newton-cg'}\n"
     ]
    }
   ],
   "source": [
    "# finding best parameters for the model with GridSearch method\n",
    "\n",
    "model = LogisticRegression()\n",
    "solvers = ['newton-cg', 'lbfgs', 'liblinear']\n",
    "penalty = ['l2']\n",
    "c_values = [100, 10, 1.0, 0.1, 0.01]\n",
    "\n",
    "grid = dict(solver=solvers,penalty=penalty,C=c_values)\n",
    "cv = RepeatedStratifiedKFold(n_splits=10, n_repeats=3, random_state=1)\n",
    "grid_search = GridSearchCV(estimator=model, param_grid=grid, n_jobs=-1, cv=cv, scoring='accuracy',error_score=0)\n",
    "grid_result = grid_search.fit(X_val, y_val)\n",
    "print(\"Best: %f using %s\" % (grid_result.best_score_, grid_result.best_params_))"
   ]
  },
  {
   "cell_type": "code",
   "execution_count": 15,
   "metadata": {},
   "outputs": [],
   "source": [
    "# Final Model with tuned parameters\n",
    "\n",
    "logreg_final = LogisticRegression(C=1.0, penalty='l2', solver = 'newton-cg')\n",
    "logreg_final.fit(X_train, y_train)\n",
    "prediction = logreg_final.predict(X_test)"
   ]
  },
  {
   "cell_type": "code",
   "execution_count": 16,
   "metadata": {},
   "outputs": [
    {
     "name": "stdout",
     "output_type": "stream",
     "text": [
      "              precision    recall  f1-score   support\n",
      "\n",
      "           0       0.97      0.44      0.61      1395\n",
      "           1       0.89      1.00      0.94      6092\n",
      "\n",
      "    accuracy                           0.89      7487\n",
      "   macro avg       0.93      0.72      0.77      7487\n",
      "weighted avg       0.90      0.89      0.88      7487\n",
      "\n",
      "\n",
      " Accuracy on test data:  0.8935488179511153\n"
     ]
    }
   ],
   "source": [
    "# Accuracy of final model on test data\n",
    "\n",
    "print(classification_report(y_test, prediction))\n",
    "print('\\n Accuracy on test data: ', accuracy_score(y_test, prediction))"
   ]
  },
  {
   "cell_type": "code",
   "execution_count": 17,
   "metadata": {},
   "outputs": [
    {
     "data": {
      "text/plain": [
       "<matplotlib.axes._subplots.AxesSubplot at 0x1656e5c3220>"
      ]
     },
     "execution_count": 17,
     "metadata": {},
     "output_type": "execute_result"
    },
    {
     "data": {
      "image/png": "[encoded data removed]",
      "text/plain": [
       "<Figure size 432x288 with 2 Axes>"
      ]
     },
     "metadata": {},
     "output_type": "display_data"
    }
   ],
   "source": [
    "# confusion matrix of test data\n",
    "\n",
    "sns.heatmap(confusion_matrix(y_test, prediction), annot = True, fmt = 'd', cmap = 'Blues', linewidths=1, linecolor='black')"
   ]
  },
  {
   "cell_type": "code",
   "execution_count": 18,
   "metadata": {},
   "outputs": [
    {
     "name": "stdout",
     "output_type": "stream",
     "text": [
      "F1 score = 0.938 PR-AUC = 0.977\n"
     ]
    }
   ],
   "source": [
    "# F1 score and PR-AUC on test data\n",
    "\n",
    "lr_probs = logreg_final.predict_proba(X_test)\n",
    "lr_probs = lr_probs[:, 1]\n",
    "lr_precision, lr_recall, _ = precision_recall_curve(y_test, lr_probs)\n",
    "lr_f1, lr_auc = f1_score(y_test, prediction), auc(lr_recall, lr_precision)\n",
    "print('F1 score = %.3f PR-AUC = %.3f' % (lr_f1, lr_auc))\n"
   ]
  },
  {
   "cell_type": "code",
   "execution_count": 19,
   "metadata": {},
   "outputs": [
    {
     "name": "stdout",
     "output_type": "stream",
     "text": [
      "average MSE: 0.107\n",
      "average Bias: 0.104\n",
      "average Variance: 0.003\n"
     ]
    }
   ],
   "source": [
    "# Bias and Variance of the model\n",
    "\n",
    "mse, bias, var = bias_variance_decomp(logreg_final, X_train, y_train, X_test, y_test, loss='mse',\n",
    "                                      num_rounds=20, random_seed=1)\n",
    "print('average MSE: %.3f' % mse)\n",
    "print('average Bias: %.3f' % bias)\n",
    "print('average Variance: %.3f' % var)"
   ]
  },
  {
   "cell_type": "code",
   "execution_count": null,
   "metadata": {},
   "outputs": [],
   "source": []
  }
 ],
 "metadata": {
  "kernelspec": {
   "display_name": "Python 3 (ipykernel)",
   "language": "python",
   "name": "python3"
  },
  "language_info": {
   "codemirror_mode": {
    "name": "ipython",
    "version": 3
   },
   "file_extension": ".py",
   "mimetype": "text/x-python",
   "name": "python",
   "nbconvert_exporter": "python",
   "pygments_lexer": "ipython3",
   "version": "3.9.7"
  }
 },
 "nbformat": 4,
 "nbformat_minor": 4
}
