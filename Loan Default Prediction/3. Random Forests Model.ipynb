{
 "cells": [
  {
   "cell_type": "code",
   "execution_count": 1,
   "metadata": {},
   "outputs": [],
   "source": [
    "# Random Forests Model"
   ]
  },
  {
   "cell_type": "code",
   "execution_count": 2,
   "metadata": {},
   "outputs": [],
   "source": [
    "import pandas as pd\n",
    "import numpy as np\n",
    "import matplotlib.pyplot as plt\n",
    "import seaborn as sns\n",
    "from sklearn.model_selection import train_test_split\n",
    "from sklearn.preprocessing import MinMaxScaler\n",
    "from sklearn.ensemble import RandomForestClassifier\n",
    "from sklearn.metrics import confusion_matrix, classification_report\n",
    "from sklearn.metrics import accuracy_score\n",
    "from sklearn.metrics import precision_recall_curve\n",
    "from sklearn.metrics import f1_score\n",
    "from sklearn.metrics import auc\n",
    "from sklearn.model_selection import RepeatedStratifiedKFold\n",
    "from sklearn.model_selection import GridSearchCV\n",
    "from mlxtend.evaluate import bias_variance_decomp\n",
    "%matplotlib inline\n",
    "sns.set()"
   ]
  },
  {
   "cell_type": "code",
   "execution_count": 4,
   "metadata": {},
   "outputs": [],
   "source": [
    "# reading loans data\n",
    "\n",
    "loans = pd.read_csv('lending_club_loan.csv')"
   ]
  },
  {
   "cell_type": "code",
   "execution_count": 5,
   "metadata": {},
   "outputs": [],
   "source": [
    "# function to fill in missing values of mort_acc\n",
    "\n",
    "def fill_mort_acc(total_acc,mort_acc):\n",
    "    if np.isnan(mort_acc):\n",
    "        return total_acc_avg[total_acc]\n",
    "    else:\n",
    "        return mort_acc"
   ]
  },
  {
   "cell_type": "code",
   "execution_count": 6,
   "metadata": {},
   "outputs": [],
   "source": [
    "# feature engineering\n",
    "\n",
    "loans['loan_repaid'] = loans['loan_status'].map({'Fully Paid':1,'Charged Off':0})\n",
    "total_acc_avg = loans.groupby('total_acc').mean()['mort_acc']\n",
    "loans['mort_acc'] = loans.apply(lambda x: fill_mort_acc(x['total_acc'], x['mort_acc']), axis=1)\n",
    "\n",
    "#categorical variables\n",
    "loans['term'] = loans['term'].apply(lambda term: int(term[:3]))\n",
    "loans['home_ownership']=loans['home_ownership'].replace(['NONE', 'ANY'], 'OTHER')\n",
    "loans['zip_code'] = loans['address'].apply(lambda address:address[-5:])\n",
    "loans['earliest_cr_year'] = loans['earliest_cr_line'].apply(lambda date:int(date[:4]))\n",
    "\n",
    "dummies = pd.get_dummies(loans[['zip_code','home_ownership','grade','verification_status', 'application_type','initial_list_status','purpose' ]],drop_first=True)\n",
    "loans = loans.drop(['zip_code','address', 'home_ownership', 'grade','verification_status', 'application_type','initial_list_status','purpose'],axis=1)\n",
    "loans = pd.concat([loans,dummies],axis=1)\n",
    "\n",
    "loans = loans.drop(['emp_title','emp_length','title','sub_grade', 'issue_d', 'earliest_cr_line', 'loan_status'],axis=1)\n",
    "loans = loans.dropna()"
   ]
  },
  {
   "cell_type": "code",
   "execution_count": 7,
   "metadata": {},
   "outputs": [],
   "source": [
    "# separating attributes from labels\n",
    "\n",
    "X = loans.drop('loan_repaid',axis=1).values\n",
    "y = loans['loan_repaid'].values"
   ]
  },
  {
   "cell_type": "code",
   "execution_count": 8,
   "metadata": {},
   "outputs": [],
   "source": [
    "# train-test-validation split\n",
    "\n",
    "X_train, X_test, y_train, y_test = train_test_split(X, y, test_size=0.30, random_state=101)\n",
    "X_val, X_test, y_val, y_test = train_test_split(X_test, y_test, test_size=0.5, random_state=101)"
   ]
  },
  {
   "cell_type": "code",
   "execution_count": 9,
   "metadata": {},
   "outputs": [],
   "source": [
    "# Normalizing the data\n",
    "\n",
    "scaler = MinMaxScaler()\n",
    "X_train = scaler.fit_transform(X_train)\n",
    "X_val = scaler.transform(X_val)\n",
    "X_test = scaler.transform(X_test)"
   ]
  },
  {
   "cell_type": "code",
   "execution_count": 10,
   "metadata": {},
   "outputs": [],
   "source": [
    "# Baseline Random Forest Model\n",
    "\n",
    "rfc = RandomForestClassifier(n_estimators=5, random_state=11, class_weight={0: 0.195, 1: 0.804})\n",
    "rfc.fit(X_train, y_train)\n",
    "pred = rfc.predict(X_val)"
   ]
  },
  {
   "cell_type": "code",
   "execution_count": 11,
   "metadata": {},
   "outputs": [
    {
     "name": "stdout",
     "output_type": "stream",
     "text": [
      "              precision    recall  f1-score   support\n",
      "\n",
      "           0       0.73      0.54      0.62      1444\n",
      "           1       0.90      0.95      0.92      6042\n",
      "\n",
      "    accuracy                           0.87      7486\n",
      "   macro avg       0.81      0.74      0.77      7486\n",
      "weighted avg       0.86      0.87      0.86      7486\n",
      "\n",
      "\n",
      " Accuracy on validation data:  0.8722949505744055\n"
     ]
    }
   ],
   "source": [
    "# accuracy on validation data\n",
    "\n",
    "print(classification_report(y_val, pred))\n",
    "print('\\n Accuracy on validation data: ', accuracy_score(y_val, pred))"
   ]
  },
  {
   "cell_type": "code",
   "execution_count": 12,
   "metadata": {},
   "outputs": [
    {
     "data": {
      "text/plain": [
       "<matplotlib.axes._subplots.AxesSubplot at 0x193890beb50>"
      ]
     },
     "execution_count": 12,
     "metadata": {},
     "output_type": "execute_result"
    },
    {
     "data": {
      "image/png": "[encoded data removed]",
      "text/plain": [
       "<Figure size 432x288 with 2 Axes>"
      ]
     },
     "metadata": {},
     "output_type": "display_data"
    }
   ],
   "source": [
    "# confusion matrix\n",
    "\n",
    "sns.heatmap(confusion_matrix(y_val, pred), annot = True, fmt = 'd', cmap = 'Blues', linewidths=1, linecolor='black')"
   ]
  },
  {
   "cell_type": "code",
   "execution_count": 13,
   "metadata": {},
   "outputs": [
    {
     "name": "stdout",
     "output_type": "stream",
     "text": [
      "Random Forests : F1 Score = 0.923 , PR-AUC=0.946\n"
     ]
    }
   ],
   "source": [
    "# F1 score and  Area under precision-recall curve for validation data\n",
    "\n",
    "rfc_probs = rfc.predict_proba(X_val)\n",
    "rfc_probs = rfc_probs[:, 1]\n",
    "rfc_precision, rfc_recall, _ = precision_recall_curve(y_val, rfc_probs)\n",
    "rfc_f1, rfc_auc = f1_score(y_val, pred), auc(rfc_recall, rfc_precision)\n",
    "print('Random Forests : F1 Score = %.3f , PR-AUC=%.3f' % (rfc_f1, rfc_auc))"
   ]
  },
  {
   "cell_type": "code",
   "execution_count": 14,
   "metadata": {},
   "outputs": [
    {
     "name": "stdout",
     "output_type": "stream",
     "text": [
      "Best: 0.892733 using {'max_depth': 10, 'max_features': 10, 'n_estimators': 20}\n"
     ]
    }
   ],
   "source": [
    "# Finding best parameters\n",
    "\n",
    "model = RandomForestClassifier(random_state=11)\n",
    "param_grid = [{'n_estimators': [10, 20, 30], 'max_features': [5, 10], 'max_depth': [10, 50, None]}]\n",
    "\n",
    "grid_search_forest = GridSearchCV(model, param_grid, cv=5, scoring='accuracy')\n",
    "grid_result = grid_search_forest.fit(X_val, y_val)\n",
    "print(\"Best: %f using %s\" % (grid_result.best_score_, grid_result.best_params_))"
   ]
  },
  {
   "cell_type": "code",
   "execution_count": 15,
   "metadata": {},
   "outputs": [
    {
     "data": {
      "text/plain": [
       "RandomForestClassifier(class_weight={0: 0.195, 1: 0.804}, max_depth=10,\n",
       "                       max_features=10, n_estimators=20, random_state=11)"
      ]
     },
     "execution_count": 15,
     "metadata": {},
     "output_type": "execute_result"
    }
   ],
   "source": [
    "# Final Model with new parameters\n",
    "\n",
    "rfc_final = RandomForestClassifier(n_estimators=20, max_depth=10, max_features=10, \n",
    "                                   random_state=11, class_weight={0: 0.195, 1: 0.804})\n",
    "rfc_final.fit(X_train, y_train)"
   ]
  },
  {
   "cell_type": "code",
   "execution_count": 16,
   "metadata": {},
   "outputs": [
    {
     "name": "stdout",
     "output_type": "stream",
     "text": [
      "              precision    recall  f1-score   support\n",
      "\n",
      "           0       1.00      0.44      0.62      1444\n",
      "           1       0.88      1.00      0.94      6042\n",
      "\n",
      "    accuracy                           0.89      7486\n",
      "   macro avg       0.94      0.72      0.78      7486\n",
      "weighted avg       0.91      0.89      0.88      7486\n",
      "\n",
      "\n",
      " Accuracy on validation data:  0.8928666844776917\n"
     ]
    }
   ],
   "source": [
    "# Accuracy on validation data\n",
    "\n",
    "pred = rfc_final.predict(X_val)\n",
    "print(classification_report(y_val, pred))\n",
    "print('\\n Accuracy on validation data: ', accuracy_score(y_val, pred))"
   ]
  },
  {
   "cell_type": "code",
   "execution_count": 17,
   "metadata": {},
   "outputs": [
    {
     "name": "stdout",
     "output_type": "stream",
     "text": [
      "              precision    recall  f1-score   support\n",
      "\n",
      "           0       1.00      0.42      0.59      1395\n",
      "           1       0.88      1.00      0.94      6092\n",
      "\n",
      "    accuracy                           0.89      7487\n",
      "   macro avg       0.94      0.71      0.76      7487\n",
      "weighted avg       0.90      0.89      0.87      7487\n",
      "\n",
      "\n",
      " Accuracy on test data:  0.8915453452651262\n"
     ]
    }
   ],
   "source": [
    "# Accuracy on test data\n",
    "\n",
    "r_pred = rfc_final.predict(X_test)\n",
    "print(classification_report(y_test, r_pred))\n",
    "print('\\n Accuracy on test data: ', accuracy_score(y_test, r_pred))"
   ]
  },
  {
   "cell_type": "code",
   "execution_count": 18,
   "metadata": {},
   "outputs": [
    {
     "data": {
      "text/plain": [
       "<matplotlib.axes._subplots.AxesSubplot at 0x19388974b50>"
      ]
     },
     "execution_count": 18,
     "metadata": {},
     "output_type": "execute_result"
    },
    {
     "data": {
      "image/png": "[encoded data removed]",
      "text/plain": [
       "<Figure size 432x288 with 2 Axes>"
      ]
     },
     "metadata": {},
     "output_type": "display_data"
    }
   ],
   "source": [
    "# confusion matrix of test data\n",
    "\n",
    "sns.heatmap(confusion_matrix(y_test, r_pred), annot = True, fmt = 'd', cmap = 'Blues', linewidths=1, linecolor='black')"
   ]
  },
  {
   "cell_type": "code",
   "execution_count": 19,
   "metadata": {},
   "outputs": [
    {
     "name": "stdout",
     "output_type": "stream",
     "text": [
      "RF Model: F1 score = 0.938 PR-AUC = 0.970\n"
     ]
    }
   ],
   "source": [
    "# F1 score and  Area under precision-recall curve for test data\n",
    "\n",
    "rfc_probs = rfc_final.predict_proba(X_test)\n",
    "rfc_probs = rfc_probs[:, 1]\n",
    "rfc_precision, rfc_recall, _ = precision_recall_curve(y_test, rfc_probs)\n",
    "rfc_f1, rfc_auc = f1_score(y_test, r_pred), auc(rfc_recall, rfc_precision)\n",
    "print('RF Model: F1 score = %.3f PR-AUC = %.3f' % (rfc_f1, rfc_auc))"
   ]
  },
  {
   "cell_type": "code",
   "execution_count": 20,
   "metadata": {},
   "outputs": [
    {
     "data": {
      "image/png": "[encoded data removed]",
      "text/plain": [
       "<Figure size 720x216 with 1 Axes>"
      ]
     },
     "metadata": {},
     "output_type": "display_data"
    }
   ],
   "source": [
    "# feature importance\n",
    "\n",
    "importance = rfc.feature_importances_\n",
    "\n",
    "plt.figure(figsize = (10,3))\n",
    "plt.bar([x for x in range(len(importance))], importance)\n",
    "plt.xlabel('Feature')\n",
    "plt.ylabel('Score')\n",
    "plt.title('Feature Importance')\n",
    "plt.show()"
   ]
  },
  {
   "cell_type": "code",
   "execution_count": 21,
   "metadata": {},
   "outputs": [
    {
     "name": "stdout",
     "output_type": "stream",
     "text": [
      "Average MSE: 0.129\n",
      "Average Bias: 0.090\n",
      "Average Variance: 0.039\n"
     ]
    }
   ],
   "source": [
    "# Bias and variance of model\n",
    "\n",
    "mse, bias, var = bias_variance_decomp(rfc, X_train, y_train, X_test, y_test, loss='mse', num_rounds=10, random_seed=11)\n",
    "print('Average MSE: %.3f' % mse)\n",
    "print('Average Bias: %.3f' % bias)\n",
    "print('Average Variance: %.3f' % var)"
   ]
  },
  {
   "cell_type": "code",
   "execution_count": null,
   "metadata": {},
   "outputs": [],
   "source": []
  }
 ],
 "metadata": {
  "kernelspec": {
   "display_name": "Python 3",
   "language": "python",
   "name": "python3"
  },
  "language_info": {
   "codemirror_mode": {
    "name": "ipython",
    "version": 3
   },
   "file_extension": ".py",
   "mimetype": "text/x-python",
   "name": "python",
   "nbconvert_exporter": "python",
   "pygments_lexer": "ipython3",
   "version": "3.8.3"
  }
 },
 "nbformat": 4,
 "nbformat_minor": 4
}
