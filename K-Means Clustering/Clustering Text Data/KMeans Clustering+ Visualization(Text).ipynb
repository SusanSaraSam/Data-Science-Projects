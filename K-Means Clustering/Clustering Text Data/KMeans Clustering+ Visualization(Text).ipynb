{
 "cells": [
  {
   "cell_type": "code",
   "execution_count": 1,
   "metadata": {},
   "outputs": [],
   "source": [
    "# import data analysis and visualization libraries\n",
    "\n",
    "import pandas as pd\n",
    "import numpy as np\n",
    "import matplotlib.pyplot as plt\n",
    "import seaborn as sns\n",
    "\n",
    "# import nltk and related packages\n",
    "import nltk\n",
    "import re\n",
    "import string\n",
    "from nltk.corpus import stopwords\n",
    "\n",
    "# import sklearn libraries\n",
    "from sklearn.feature_extraction.text import TfidfVectorizer\n",
    "from sklearn.cluster import KMeans\n",
    "from sklearn.decomposition import PCA"
   ]
  },
  {
   "cell_type": "code",
   "execution_count": 8,
   "metadata": {},
   "outputs": [],
   "source": [
    "# Reading the dataset\n",
    "\n",
    "df = pd.read_csv('BX-Books.csv' , sep=';', error_bad_lines=False, encoding=\"latin-1\" )\n",
    "df.columns = ['Book_ID', 'title', 'Book_Author', 'yearOfPublication', 'publisher', \n",
    "              'imageUrlS', 'imageUrlM', 'imageUrlL']"
   ]
  },
  {
   "cell_type": "code",
   "execution_count": 9,
   "metadata": {},
   "outputs": [
    {
     "name": "stdout",
     "output_type": "stream",
     "text": [
      "<class 'pandas.core.frame.DataFrame'>\n",
      "RangeIndex: 50000 entries, 0 to 49999\n",
      "Data columns (total 8 columns):\n",
      " #   Column             Non-Null Count  Dtype \n",
      "---  ------             --------------  ----- \n",
      " 0   Book_ID            50000 non-null  object\n",
      " 1   title              50000 non-null  object\n",
      " 2   Book_Author        50000 non-null  object\n",
      " 3   yearOfPublication  50000 non-null  object\n",
      " 4   publisher          50000 non-null  object\n",
      " 5   imageUrlS          50000 non-null  object\n",
      " 6   imageUrlM          50000 non-null  object\n",
      " 7   imageUrlL          50000 non-null  object\n",
      "dtypes: object(8)\n",
      "memory usage: 3.1+ MB\n"
     ]
    }
   ],
   "source": [
    "df = df.head(50000)\n",
    "df.info()"
   ]
  },
  {
   "cell_type": "code",
   "execution_count": 10,
   "metadata": {},
   "outputs": [
    {
     "data": {
      "text/html": [
       "<div>\n",
       "<style scoped>\n",
       "    .dataframe tbody tr th:only-of-type {\n",
       "        vertical-align: middle;\n",
       "    }\n",
       "\n",
       "    .dataframe tbody tr th {\n",
       "        vertical-align: top;\n",
       "    }\n",
       "\n",
       "    .dataframe thead th {\n",
       "        text-align: right;\n",
       "    }\n",
       "</style>\n",
       "<table border=\"1\" class=\"dataframe\">\n",
       "  <thead>\n",
       "    <tr style=\"text-align: right;\">\n",
       "      <th></th>\n",
       "      <th>title</th>\n",
       "      <th>Book_Author</th>\n",
       "    </tr>\n",
       "  </thead>\n",
       "  <tbody>\n",
       "    <tr>\n",
       "      <th>0</th>\n",
       "      <td>Classical Mythology</td>\n",
       "      <td>Mark P. O. Morford</td>\n",
       "    </tr>\n",
       "    <tr>\n",
       "      <th>1</th>\n",
       "      <td>Clara Callan</td>\n",
       "      <td>Richard Bruce Wright</td>\n",
       "    </tr>\n",
       "    <tr>\n",
       "      <th>2</th>\n",
       "      <td>Decision in Normandy</td>\n",
       "      <td>Carlo D'Este</td>\n",
       "    </tr>\n",
       "    <tr>\n",
       "      <th>3</th>\n",
       "      <td>Flu: The Story of the Great Influenza Pandemic...</td>\n",
       "      <td>Gina Bari Kolata</td>\n",
       "    </tr>\n",
       "    <tr>\n",
       "      <th>4</th>\n",
       "      <td>The Mummies of Urumchi</td>\n",
       "      <td>E. J. W. Barber</td>\n",
       "    </tr>\n",
       "  </tbody>\n",
       "</table>\n",
       "</div>"
      ],
      "text/plain": [
       "                                               title           Book_Author\n",
       "0                                Classical Mythology    Mark P. O. Morford\n",
       "1                                       Clara Callan  Richard Bruce Wright\n",
       "2                               Decision in Normandy          Carlo D'Este\n",
       "3  Flu: The Story of the Great Influenza Pandemic...      Gina Bari Kolata\n",
       "4                             The Mummies of Urumchi       E. J. W. Barber"
      ]
     },
     "execution_count": 10,
     "metadata": {},
     "output_type": "execute_result"
    }
   ],
   "source": [
    "# dropping irrelevant columns\n",
    "\n",
    "df.drop(['Book_ID','yearOfPublication','publisher', 'imageUrlS', 'imageUrlM', 'imageUrlL'], axis =1, inplace=True)\n",
    "df.head(5)"
   ]
  },
  {
   "cell_type": "code",
   "execution_count": 11,
   "metadata": {},
   "outputs": [],
   "source": [
    "# Text Preprocessing Functions\n",
    "\n",
    "def preprocess_text(text):\n",
    "    \n",
    "    text = re.sub(r\"http\\S+\", \"\", text) # removes links\n",
    "    text = re.sub(\"[^A-Za-z]+\", \" \", text) # removes numbers and special chars\n",
    "    \n",
    "    tokens = nltk.word_tokenize(text)  #  creates tokens\n",
    "    tokens = [w for w in tokens if not w.lower() in stopwords.words(\"english\")] # checks for stopwords and removes it.\n",
    "    text = \" \".join(tokens)  # joins all tokens again\n",
    "    text = text.lower().strip()  # cleaned text\n",
    "    \n",
    "    return text"
   ]
  },
  {
   "cell_type": "code",
   "execution_count": 12,
   "metadata": {},
   "outputs": [
    {
     "data": {
      "text/html": [
       "<div>\n",
       "<style scoped>\n",
       "    .dataframe tbody tr th:only-of-type {\n",
       "        vertical-align: middle;\n",
       "    }\n",
       "\n",
       "    .dataframe tbody tr th {\n",
       "        vertical-align: top;\n",
       "    }\n",
       "\n",
       "    .dataframe thead th {\n",
       "        text-align: right;\n",
       "    }\n",
       "</style>\n",
       "<table border=\"1\" class=\"dataframe\">\n",
       "  <thead>\n",
       "    <tr style=\"text-align: right;\">\n",
       "      <th></th>\n",
       "      <th>title</th>\n",
       "      <th>Book_Author</th>\n",
       "      <th>cleaned</th>\n",
       "    </tr>\n",
       "  </thead>\n",
       "  <tbody>\n",
       "    <tr>\n",
       "      <th>0</th>\n",
       "      <td>Classical Mythology</td>\n",
       "      <td>Mark P. O. Morford</td>\n",
       "      <td>classical mythology</td>\n",
       "    </tr>\n",
       "    <tr>\n",
       "      <th>1</th>\n",
       "      <td>Clara Callan</td>\n",
       "      <td>Richard Bruce Wright</td>\n",
       "      <td>clara callan</td>\n",
       "    </tr>\n",
       "    <tr>\n",
       "      <th>2</th>\n",
       "      <td>Decision in Normandy</td>\n",
       "      <td>Carlo D'Este</td>\n",
       "      <td>decision normandy</td>\n",
       "    </tr>\n",
       "    <tr>\n",
       "      <th>3</th>\n",
       "      <td>Flu: The Story of the Great Influenza Pandemic...</td>\n",
       "      <td>Gina Bari Kolata</td>\n",
       "      <td>flu story great influenza pandemic search viru...</td>\n",
       "    </tr>\n",
       "    <tr>\n",
       "      <th>4</th>\n",
       "      <td>The Mummies of Urumchi</td>\n",
       "      <td>E. J. W. Barber</td>\n",
       "      <td>mummies urumchi</td>\n",
       "    </tr>\n",
       "  </tbody>\n",
       "</table>\n",
       "</div>"
      ],
      "text/plain": [
       "                                               title           Book_Author  \\\n",
       "0                                Classical Mythology    Mark P. O. Morford   \n",
       "1                                       Clara Callan  Richard Bruce Wright   \n",
       "2                               Decision in Normandy          Carlo D'Este   \n",
       "3  Flu: The Story of the Great Influenza Pandemic...      Gina Bari Kolata   \n",
       "4                             The Mummies of Urumchi       E. J. W. Barber   \n",
       "\n",
       "                                             cleaned  \n",
       "0                                classical mythology  \n",
       "1                                       clara callan  \n",
       "2                                  decision normandy  \n",
       "3  flu story great influenza pandemic search viru...  \n",
       "4                                    mummies urumchi  "
      ]
     },
     "execution_count": 12,
     "metadata": {},
     "output_type": "execute_result"
    }
   ],
   "source": [
    "df['cleaned'] = df['title'].apply(lambda x: preprocess_text(x))\n",
    "df.head(5)"
   ]
  },
  {
   "cell_type": "code",
   "execution_count": 13,
   "metadata": {},
   "outputs": [],
   "source": [
    "# TF-IDF vectorizer\n",
    "\n",
    "vectorizer = TfidfVectorizer(sublinear_tf=True, min_df=5, max_df=0.95)\n",
    "X = vectorizer.fit_transform(df['cleaned'])"
   ]
  },
  {
   "cell_type": "code",
   "execution_count": 14,
   "metadata": {},
   "outputs": [],
   "source": [
    "# KMeans with 5 clusters\n",
    "\n",
    "kmeans = KMeans(n_clusters=5, random_state=42)\n",
    "kmeans.fit(X)\n",
    "clusters = kmeans.labels_"
   ]
  },
  {
   "cell_type": "code",
   "execution_count": 15,
   "metadata": {},
   "outputs": [
    {
     "data": {
      "text/plain": [
       "46449.911610101546"
      ]
     },
     "execution_count": 15,
     "metadata": {},
     "output_type": "execute_result"
    }
   ],
   "source": [
    "# Finding the inertia of the model \n",
    "\n",
    "kmeans.inertia_"
   ]
  },
  {
   "cell_type": "code",
   "execution_count": 16,
   "metadata": {},
   "outputs": [],
   "source": [
    "# Initialize PCA with 2 components\n",
    "# PCA is done only to acheive the 2D visualization for clusters\n",
    "\n",
    "pca = PCA(n_components=2, random_state=42)\n",
    "pca_vecs = pca.fit_transform(X.toarray())\n",
    "x0 = pca_vecs[:, 0]\n",
    "x1 = pca_vecs[:, 1]"
   ]
  },
  {
   "cell_type": "code",
   "execution_count": 17,
   "metadata": {},
   "outputs": [],
   "source": [
    "# creating new columns for clusters and new dimensions in data frame\n",
    "\n",
    "df['cluster'] = clusters\n",
    "df['X0'] = x0\n",
    "df['X1'] = x1"
   ]
  },
  {
   "cell_type": "code",
   "execution_count": 18,
   "metadata": {},
   "outputs": [
    {
     "name": "stdout",
     "output_type": "stream",
     "text": [
      "\n",
      "Cluster 0\n",
      "mystery,world,guide,classics,harlequin,paperback,stories,life,love,book\n",
      "\n",
      "Cluster 1\n",
      "boss,love,time,novel,president,fortune,mother,memoir,father,daughter\n",
      "\n",
      "Cluster 2\n",
      "dream,book,christmas,dark,world,novel,midsummer,harlequin,one,night\n",
      "\n",
      "Cluster 3\n",
      "life,last,vintage,stephanie,plum,girl,love,book,suspense,novel\n",
      "\n",
      "Cluster 4\n",
      "du,en,les,las,los,del,le,el,la,de\n"
     ]
    }
   ],
   "source": [
    "# Getting top Keywords for each cluster\n",
    "\n",
    "def get_top_keywords(n_terms):\n",
    "\n",
    "    df = pd.DataFrame(X.todense()).groupby(clusters).mean()\n",
    "    terms = vectorizer.get_feature_names() \n",
    "    for i,r in df.iterrows():\n",
    "        print('\\nCluster {}'.format(i))\n",
    "        print(','.join([terms[t] for t in np.argsort(r)[-n_terms:]])) # find the n terms having the highest tf idf score\n",
    "            \n",
    "get_top_keywords(10)"
   ]
  },
  {
   "cell_type": "code",
   "execution_count": 19,
   "metadata": {},
   "outputs": [],
   "source": [
    "# mapping clusters through get_top_keywords\n",
    "\n",
    "cluster_map = {0: \"thriller\", 1: \"biography\", 2: \"novels\", 3: \"romance\", 4: \"spanish\"} \n",
    "df['cluster'] = df['cluster'].map(cluster_map)"
   ]
  },
  {
   "cell_type": "code",
   "execution_count": 20,
   "metadata": {},
   "outputs": [
    {
     "data": {
      "text/html": [
       "<div>\n",
       "<style scoped>\n",
       "    .dataframe tbody tr th:only-of-type {\n",
       "        vertical-align: middle;\n",
       "    }\n",
       "\n",
       "    .dataframe tbody tr th {\n",
       "        vertical-align: top;\n",
       "    }\n",
       "\n",
       "    .dataframe thead th {\n",
       "        text-align: right;\n",
       "    }\n",
       "</style>\n",
       "<table border=\"1\" class=\"dataframe\">\n",
       "  <thead>\n",
       "    <tr style=\"text-align: right;\">\n",
       "      <th></th>\n",
       "      <th>title</th>\n",
       "      <th>Book_Author</th>\n",
       "      <th>cleaned</th>\n",
       "      <th>cluster</th>\n",
       "      <th>X0</th>\n",
       "      <th>X1</th>\n",
       "    </tr>\n",
       "  </thead>\n",
       "  <tbody>\n",
       "    <tr>\n",
       "      <th>0</th>\n",
       "      <td>Classical Mythology</td>\n",
       "      <td>Mark P. O. Morford</td>\n",
       "      <td>classical mythology</td>\n",
       "      <td>thriller</td>\n",
       "      <td>-0.011663</td>\n",
       "      <td>0.000556</td>\n",
       "    </tr>\n",
       "    <tr>\n",
       "      <th>1</th>\n",
       "      <td>Clara Callan</td>\n",
       "      <td>Richard Bruce Wright</td>\n",
       "      <td>clara callan</td>\n",
       "      <td>thriller</td>\n",
       "      <td>-0.011255</td>\n",
       "      <td>0.000678</td>\n",
       "    </tr>\n",
       "    <tr>\n",
       "      <th>2</th>\n",
       "      <td>Decision in Normandy</td>\n",
       "      <td>Carlo D'Este</td>\n",
       "      <td>decision normandy</td>\n",
       "      <td>thriller</td>\n",
       "      <td>-0.011494</td>\n",
       "      <td>0.000585</td>\n",
       "    </tr>\n",
       "    <tr>\n",
       "      <th>3</th>\n",
       "      <td>Flu: The Story of the Great Influenza Pandemic...</td>\n",
       "      <td>Gina Bari Kolata</td>\n",
       "      <td>flu story great influenza pandemic search viru...</td>\n",
       "      <td>thriller</td>\n",
       "      <td>-0.018432</td>\n",
       "      <td>-0.011942</td>\n",
       "    </tr>\n",
       "    <tr>\n",
       "      <th>4</th>\n",
       "      <td>The Mummies of Urumchi</td>\n",
       "      <td>E. J. W. Barber</td>\n",
       "      <td>mummies urumchi</td>\n",
       "      <td>thriller</td>\n",
       "      <td>-0.011255</td>\n",
       "      <td>0.000678</td>\n",
       "    </tr>\n",
       "  </tbody>\n",
       "</table>\n",
       "</div>"
      ],
      "text/plain": [
       "                                               title           Book_Author  \\\n",
       "0                                Classical Mythology    Mark P. O. Morford   \n",
       "1                                       Clara Callan  Richard Bruce Wright   \n",
       "2                               Decision in Normandy          Carlo D'Este   \n",
       "3  Flu: The Story of the Great Influenza Pandemic...      Gina Bari Kolata   \n",
       "4                             The Mummies of Urumchi       E. J. W. Barber   \n",
       "\n",
       "                                             cleaned   cluster        X0  \\\n",
       "0                                classical mythology  thriller -0.011663   \n",
       "1                                       clara callan  thriller -0.011255   \n",
       "2                                  decision normandy  thriller -0.011494   \n",
       "3  flu story great influenza pandemic search viru...  thriller -0.018432   \n",
       "4                                    mummies urumchi  thriller -0.011255   \n",
       "\n",
       "         X1  \n",
       "0  0.000556  \n",
       "1  0.000678  \n",
       "2  0.000585  \n",
       "3 -0.011942  \n",
       "4  0.000678  "
      ]
     },
     "execution_count": 20,
     "metadata": {},
     "output_type": "execute_result"
    }
   ],
   "source": [
    "df.head(5)"
   ]
  },
  {
   "cell_type": "code",
   "execution_count": 21,
   "metadata": {},
   "outputs": [
    {
     "data": {
      "image/png": "[encoded data removed]",
      "text/plain": [
       "<Figure size 576x360 with 1 Axes>"
      ]
     },
     "metadata": {
      "needs_background": "light"
     },
     "output_type": "display_data"
    }
   ],
   "source": [
    "# Plotting the Clusters\n",
    "\n",
    "plt.figure(figsize=(8, 5))\n",
    "plt.title(\"Books Clustering: TF-IDF + KMeans + PCA\")\n",
    "plt.xlabel(\"X0\")\n",
    "plt.ylabel(\"X1\")\n",
    "sns.scatterplot(data=df, x='X0', y='X1', hue='cluster', palette=['green','orange','brown','blue','red'], legend='full')\n",
    "plt.legend()\n",
    "plt.show()"
   ]
  },
  {
   "cell_type": "code",
   "execution_count": 22,
   "metadata": {},
   "outputs": [
    {
     "data": {
      "image/png": "[encoded data removed]",
      "text/plain": [
       "<Figure size 576x360 with 1 Axes>"
      ]
     },
     "metadata": {
      "needs_background": "light"
     },
     "output_type": "display_data"
    }
   ],
   "source": [
    "# checking Clusters that are not highly visible\n",
    "\n",
    "plt.figure(figsize=(8, 5))\n",
    "plt.title(\"Books Clustering: TF-IDF + KMeans\")\n",
    "sns.scatterplot(data=df[df['cluster'] =='biography'], x='X0', y='X1', palette ='Blues')\n",
    "sns.scatterplot(data=df[df['cluster'] =='novels'], x='X0', y='X1', palette = 'Oranges')\n",
    "plt.show()"
   ]
  },
  {
   "cell_type": "code",
   "execution_count": 28,
   "metadata": {},
   "outputs": [
    {
     "name": "stdout",
     "output_type": "stream",
     "text": [
      "[1]\n"
     ]
    }
   ],
   "source": [
    "# Predicting Labels of a new Title\n",
    "\n",
    "new_title = \"Daughter of Palestine\"\n",
    "Y = vectorizer.transform([new_title])\n",
    "predicted = kmeans.predict(Y) \n",
    "print(predicted)"
   ]
  },
  {
   "cell_type": "code",
   "execution_count": 29,
   "metadata": {},
   "outputs": [
    {
     "name": "stdout",
     "output_type": "stream",
     "text": [
      "Daughter of Palestine is a biography\n"
     ]
    }
   ],
   "source": [
    "genre = {0: \"thriller\", 1: \"biography\", 2: \"novels\", 3: \"romance\", 4: \"spanish\"}\n",
    "\n",
    "for key,value in genre.items():\n",
    "    if key == predicted:\n",
    "         print(new_title, \"is a\", value)"
   ]
  },
  {
   "cell_type": "code",
   "execution_count": null,
   "metadata": {},
   "outputs": [],
   "source": []
  },
  {
   "cell_type": "code",
   "execution_count": null,
   "metadata": {},
   "outputs": [],
   "source": []
  }
 ],
 "metadata": {
  "kernelspec": {
   "display_name": "Python 3",
   "language": "python",
   "name": "python3"
  },
  "language_info": {
   "codemirror_mode": {
    "name": "ipython",
    "version": 3
   },
   "file_extension": ".py",
   "mimetype": "text/x-python",
   "name": "python",
   "nbconvert_exporter": "python",
   "pygments_lexer": "ipython3",
   "version": "3.8.3"
  }
 },
 "nbformat": 4,
 "nbformat_minor": 4
}
